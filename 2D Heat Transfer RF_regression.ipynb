{
 "cells": [
  {
   "cell_type": "code",
   "execution_count": 1,
   "metadata": {},
   "outputs": [],
   "source": [
    "import pandas as pd\n",
    "import numpy as np"
   ]
  },
  {
   "cell_type": "code",
   "execution_count": 2,
   "metadata": {},
   "outputs": [],
   "source": [
    "import statsmodels.api as sm\n",
    "import sklearn\n",
    "import matplotlib.pyplot as plt\n",
    "import seaborn as sns\n",
    "%matplotlib inline"
   ]
  },
  {
   "cell_type": "code",
   "execution_count": 3,
   "metadata": {},
   "outputs": [],
   "source": [
    "import warnings\n",
    "warnings.filterwarnings('ignore')"
   ]
  },
  {
   "cell_type": "code",
   "execution_count": 4,
   "metadata": {},
   "outputs": [],
   "source": [
    "data = pd.read_excel(r\"C:\\Users\\Asus\\Desktop\\DDP\\Clean2d_master_dataset.xlsx\")"
   ]
  },
  {
   "cell_type": "code",
   "execution_count": 5,
   "metadata": {},
   "outputs": [
    {
     "data": {
      "text/html": [
       "<div>\n",
       "<style scoped>\n",
       "    .dataframe tbody tr th:only-of-type {\n",
       "        vertical-align: middle;\n",
       "    }\n",
       "\n",
       "    .dataframe tbody tr th {\n",
       "        vertical-align: top;\n",
       "    }\n",
       "\n",
       "    .dataframe thead th {\n",
       "        text-align: right;\n",
       "    }\n",
       "</style>\n",
       "<table border=\"1\" class=\"dataframe\">\n",
       "  <thead>\n",
       "    <tr style=\"text-align: right;\">\n",
       "      <th></th>\n",
       "      <th>Time (s)</th>\n",
       "      <th>Material</th>\n",
       "      <th>Alpha</th>\n",
       "      <th>Part</th>\n",
       "      <th>Node</th>\n",
       "      <th>X</th>\n",
       "      <th>Y</th>\n",
       "      <th>Z</th>\n",
       "      <th>Temperature</th>\n",
       "      <th>T_left</th>\n",
       "      <th>T_right</th>\n",
       "      <th>T_bottom</th>\n",
       "      <th>T_top</th>\n",
       "      <th>x/L</th>\n",
       "      <th>y/L</th>\n",
       "      <th>z/L</th>\n",
       "      <th>Tdiff_0.0005 (s)</th>\n",
       "    </tr>\n",
       "  </thead>\n",
       "  <tbody>\n",
       "    <tr>\n",
       "      <th>0</th>\n",
       "      <td>0.01</td>\n",
       "      <td>Copper</td>\n",
       "      <td>0.000111</td>\n",
       "      <td>PART-1-1</td>\n",
       "      <td>1</td>\n",
       "      <td>0.000</td>\n",
       "      <td>0.0</td>\n",
       "      <td>0</td>\n",
       "      <td>300.0</td>\n",
       "      <td>300</td>\n",
       "      <td>100</td>\n",
       "      <td>300</td>\n",
       "      <td>100</td>\n",
       "      <td>0.0</td>\n",
       "      <td>0.0</td>\n",
       "      <td>0</td>\n",
       "      <td>1.25</td>\n",
       "    </tr>\n",
       "    <tr>\n",
       "      <th>1</th>\n",
       "      <td>0.01</td>\n",
       "      <td>Copper</td>\n",
       "      <td>0.000111</td>\n",
       "      <td>PART-1-1</td>\n",
       "      <td>9</td>\n",
       "      <td>0.004</td>\n",
       "      <td>0.0</td>\n",
       "      <td>0</td>\n",
       "      <td>300.0</td>\n",
       "      <td>300</td>\n",
       "      <td>100</td>\n",
       "      <td>300</td>\n",
       "      <td>100</td>\n",
       "      <td>0.2</td>\n",
       "      <td>0.0</td>\n",
       "      <td>0</td>\n",
       "      <td>1.25</td>\n",
       "    </tr>\n",
       "    <tr>\n",
       "      <th>2</th>\n",
       "      <td>0.01</td>\n",
       "      <td>Copper</td>\n",
       "      <td>0.000111</td>\n",
       "      <td>PART-1-1</td>\n",
       "      <td>17</td>\n",
       "      <td>0.008</td>\n",
       "      <td>0.0</td>\n",
       "      <td>0</td>\n",
       "      <td>300.0</td>\n",
       "      <td>300</td>\n",
       "      <td>100</td>\n",
       "      <td>300</td>\n",
       "      <td>100</td>\n",
       "      <td>0.4</td>\n",
       "      <td>0.0</td>\n",
       "      <td>0</td>\n",
       "      <td>1.25</td>\n",
       "    </tr>\n",
       "    <tr>\n",
       "      <th>3</th>\n",
       "      <td>0.01</td>\n",
       "      <td>Copper</td>\n",
       "      <td>0.000111</td>\n",
       "      <td>PART-1-1</td>\n",
       "      <td>25</td>\n",
       "      <td>0.012</td>\n",
       "      <td>0.0</td>\n",
       "      <td>0</td>\n",
       "      <td>300.0</td>\n",
       "      <td>300</td>\n",
       "      <td>100</td>\n",
       "      <td>300</td>\n",
       "      <td>100</td>\n",
       "      <td>0.6</td>\n",
       "      <td>0.0</td>\n",
       "      <td>0</td>\n",
       "      <td>1.25</td>\n",
       "    </tr>\n",
       "    <tr>\n",
       "      <th>4</th>\n",
       "      <td>0.01</td>\n",
       "      <td>Copper</td>\n",
       "      <td>0.000111</td>\n",
       "      <td>PART-1-1</td>\n",
       "      <td>33</td>\n",
       "      <td>0.016</td>\n",
       "      <td>0.0</td>\n",
       "      <td>0</td>\n",
       "      <td>300.0</td>\n",
       "      <td>300</td>\n",
       "      <td>100</td>\n",
       "      <td>300</td>\n",
       "      <td>100</td>\n",
       "      <td>0.8</td>\n",
       "      <td>0.0</td>\n",
       "      <td>0</td>\n",
       "      <td>1.25</td>\n",
       "    </tr>\n",
       "  </tbody>\n",
       "</table>\n",
       "</div>"
      ],
      "text/plain": [
       "   Time (s) Material     Alpha      Part  Node      X    Y  Z  Temperature  \\\n",
       "0      0.01   Copper  0.000111  PART-1-1     1  0.000  0.0  0        300.0   \n",
       "1      0.01   Copper  0.000111  PART-1-1     9  0.004  0.0  0        300.0   \n",
       "2      0.01   Copper  0.000111  PART-1-1    17  0.008  0.0  0        300.0   \n",
       "3      0.01   Copper  0.000111  PART-1-1    25  0.012  0.0  0        300.0   \n",
       "4      0.01   Copper  0.000111  PART-1-1    33  0.016  0.0  0        300.0   \n",
       "\n",
       "   T_left  T_right  T_bottom  T_top  x/L  y/L  z/L  Tdiff_0.0005 (s)  \n",
       "0     300      100       300    100  0.0  0.0    0              1.25  \n",
       "1     300      100       300    100  0.2  0.0    0              1.25  \n",
       "2     300      100       300    100  0.4  0.0    0              1.25  \n",
       "3     300      100       300    100  0.6  0.0    0              1.25  \n",
       "4     300      100       300    100  0.8  0.0    0              1.25  "
      ]
     },
     "execution_count": 5,
     "metadata": {},
     "output_type": "execute_result"
    }
   ],
   "source": [
    "data.head()"
   ]
  },
  {
   "cell_type": "code",
   "execution_count": 6,
   "metadata": {},
   "outputs": [
    {
     "data": {
      "text/html": [
       "<div>\n",
       "<style scoped>\n",
       "    .dataframe tbody tr th:only-of-type {\n",
       "        vertical-align: middle;\n",
       "    }\n",
       "\n",
       "    .dataframe tbody tr th {\n",
       "        vertical-align: top;\n",
       "    }\n",
       "\n",
       "    .dataframe thead th {\n",
       "        text-align: right;\n",
       "    }\n",
       "</style>\n",
       "<table border=\"1\" class=\"dataframe\">\n",
       "  <thead>\n",
       "    <tr style=\"text-align: right;\">\n",
       "      <th></th>\n",
       "      <th>Time (s)</th>\n",
       "      <th>Alpha</th>\n",
       "      <th>Node</th>\n",
       "      <th>X</th>\n",
       "      <th>Y</th>\n",
       "      <th>Z</th>\n",
       "      <th>Temperature</th>\n",
       "      <th>T_left</th>\n",
       "      <th>T_right</th>\n",
       "      <th>T_bottom</th>\n",
       "      <th>T_top</th>\n",
       "      <th>x/L</th>\n",
       "      <th>y/L</th>\n",
       "      <th>z/L</th>\n",
       "      <th>Tdiff_0.0005 (s)</th>\n",
       "    </tr>\n",
       "  </thead>\n",
       "  <tbody>\n",
       "    <tr>\n",
       "      <th>count</th>\n",
       "      <td>38016.000000</td>\n",
       "      <td>38016.000000</td>\n",
       "      <td>38016.000000</td>\n",
       "      <td>38016.000000</td>\n",
       "      <td>38016.000000</td>\n",
       "      <td>38016.0</td>\n",
       "      <td>3.801600e+04</td>\n",
       "      <td>38016.000000</td>\n",
       "      <td>38016.000000</td>\n",
       "      <td>38016.000000</td>\n",
       "      <td>38016.000000</td>\n",
       "      <td>38016.00000</td>\n",
       "      <td>38016.00000</td>\n",
       "      <td>38016.0</td>\n",
       "      <td>19008.000000</td>\n",
       "    </tr>\n",
       "    <tr>\n",
       "      <th>mean</th>\n",
       "      <td>1.289773</td>\n",
       "      <td>0.000050</td>\n",
       "      <td>431.000000</td>\n",
       "      <td>0.010000</td>\n",
       "      <td>0.005000</td>\n",
       "      <td>0.0</td>\n",
       "      <td>1.780572e+02</td>\n",
       "      <td>450.000000</td>\n",
       "      <td>100.000000</td>\n",
       "      <td>350.000000</td>\n",
       "      <td>50.000000</td>\n",
       "      <td>0.50000</td>\n",
       "      <td>0.50000</td>\n",
       "      <td>0.0</td>\n",
       "      <td>1.585000</td>\n",
       "    </tr>\n",
       "    <tr>\n",
       "      <th>std</th>\n",
       "      <td>3.347419</td>\n",
       "      <td>0.000041</td>\n",
       "      <td>280.420045</td>\n",
       "      <td>0.006831</td>\n",
       "      <td>0.003416</td>\n",
       "      <td>0.0</td>\n",
       "      <td>1.546827e+02</td>\n",
       "      <td>111.804869</td>\n",
       "      <td>81.650732</td>\n",
       "      <td>50.000658</td>\n",
       "      <td>50.000658</td>\n",
       "      <td>0.34157</td>\n",
       "      <td>0.34157</td>\n",
       "      <td>0.0</td>\n",
       "      <td>0.335009</td>\n",
       "    </tr>\n",
       "    <tr>\n",
       "      <th>min</th>\n",
       "      <td>0.010000</td>\n",
       "      <td>0.000004</td>\n",
       "      <td>1.000000</td>\n",
       "      <td>0.000000</td>\n",
       "      <td>0.000000</td>\n",
       "      <td>0.0</td>\n",
       "      <td>-2.887560e-33</td>\n",
       "      <td>300.000000</td>\n",
       "      <td>0.000000</td>\n",
       "      <td>300.000000</td>\n",
       "      <td>0.000000</td>\n",
       "      <td>0.00000</td>\n",
       "      <td>0.00000</td>\n",
       "      <td>0.0</td>\n",
       "      <td>1.250000</td>\n",
       "    </tr>\n",
       "    <tr>\n",
       "      <th>25%</th>\n",
       "      <td>0.050000</td>\n",
       "      <td>0.000018</td>\n",
       "      <td>187.000000</td>\n",
       "      <td>0.004000</td>\n",
       "      <td>0.002000</td>\n",
       "      <td>0.0</td>\n",
       "      <td>4.525520e+01</td>\n",
       "      <td>375.000000</td>\n",
       "      <td>0.000000</td>\n",
       "      <td>300.000000</td>\n",
       "      <td>0.000000</td>\n",
       "      <td>0.20000</td>\n",
       "      <td>0.20000</td>\n",
       "      <td>0.0</td>\n",
       "      <td>1.250000</td>\n",
       "    </tr>\n",
       "    <tr>\n",
       "      <th>50%</th>\n",
       "      <td>0.150000</td>\n",
       "      <td>0.000044</td>\n",
       "      <td>431.000000</td>\n",
       "      <td>0.010000</td>\n",
       "      <td>0.005000</td>\n",
       "      <td>0.0</td>\n",
       "      <td>1.227250e+02</td>\n",
       "      <td>450.000000</td>\n",
       "      <td>100.000000</td>\n",
       "      <td>350.000000</td>\n",
       "      <td>50.000000</td>\n",
       "      <td>0.50000</td>\n",
       "      <td>0.50000</td>\n",
       "      <td>0.0</td>\n",
       "      <td>1.585000</td>\n",
       "    </tr>\n",
       "    <tr>\n",
       "      <th>75%</th>\n",
       "      <td>1.000000</td>\n",
       "      <td>0.000076</td>\n",
       "      <td>675.000000</td>\n",
       "      <td>0.016000</td>\n",
       "      <td>0.008000</td>\n",
       "      <td>0.0</td>\n",
       "      <td>3.000000e+02</td>\n",
       "      <td>525.000000</td>\n",
       "      <td>200.000000</td>\n",
       "      <td>400.000000</td>\n",
       "      <td>100.000000</td>\n",
       "      <td>0.80000</td>\n",
       "      <td>0.80000</td>\n",
       "      <td>0.0</td>\n",
       "      <td>1.920000</td>\n",
       "    </tr>\n",
       "    <tr>\n",
       "      <th>max</th>\n",
       "      <td>20.000000</td>\n",
       "      <td>0.000111</td>\n",
       "      <td>861.000000</td>\n",
       "      <td>0.020000</td>\n",
       "      <td>0.010000</td>\n",
       "      <td>0.0</td>\n",
       "      <td>6.000000e+02</td>\n",
       "      <td>600.000000</td>\n",
       "      <td>200.000000</td>\n",
       "      <td>400.000000</td>\n",
       "      <td>100.000000</td>\n",
       "      <td>1.00000</td>\n",
       "      <td>1.00000</td>\n",
       "      <td>0.0</td>\n",
       "      <td>1.920000</td>\n",
       "    </tr>\n",
       "  </tbody>\n",
       "</table>\n",
       "</div>"
      ],
      "text/plain": [
       "           Time (s)         Alpha          Node             X             Y  \\\n",
       "count  38016.000000  38016.000000  38016.000000  38016.000000  38016.000000   \n",
       "mean       1.289773      0.000050    431.000000      0.010000      0.005000   \n",
       "std        3.347419      0.000041    280.420045      0.006831      0.003416   \n",
       "min        0.010000      0.000004      1.000000      0.000000      0.000000   \n",
       "25%        0.050000      0.000018    187.000000      0.004000      0.002000   \n",
       "50%        0.150000      0.000044    431.000000      0.010000      0.005000   \n",
       "75%        1.000000      0.000076    675.000000      0.016000      0.008000   \n",
       "max       20.000000      0.000111    861.000000      0.020000      0.010000   \n",
       "\n",
       "             Z   Temperature        T_left       T_right      T_bottom  \\\n",
       "count  38016.0  3.801600e+04  38016.000000  38016.000000  38016.000000   \n",
       "mean       0.0  1.780572e+02    450.000000    100.000000    350.000000   \n",
       "std        0.0  1.546827e+02    111.804869     81.650732     50.000658   \n",
       "min        0.0 -2.887560e-33    300.000000      0.000000    300.000000   \n",
       "25%        0.0  4.525520e+01    375.000000      0.000000    300.000000   \n",
       "50%        0.0  1.227250e+02    450.000000    100.000000    350.000000   \n",
       "75%        0.0  3.000000e+02    525.000000    200.000000    400.000000   \n",
       "max        0.0  6.000000e+02    600.000000    200.000000    400.000000   \n",
       "\n",
       "              T_top          x/L          y/L      z/L  Tdiff_0.0005 (s)  \n",
       "count  38016.000000  38016.00000  38016.00000  38016.0      19008.000000  \n",
       "mean      50.000000      0.50000      0.50000      0.0          1.585000  \n",
       "std       50.000658      0.34157      0.34157      0.0          0.335009  \n",
       "min        0.000000      0.00000      0.00000      0.0          1.250000  \n",
       "25%        0.000000      0.20000      0.20000      0.0          1.250000  \n",
       "50%       50.000000      0.50000      0.50000      0.0          1.585000  \n",
       "75%      100.000000      0.80000      0.80000      0.0          1.920000  \n",
       "max      100.000000      1.00000      1.00000      0.0          1.920000  "
      ]
     },
     "execution_count": 6,
     "metadata": {},
     "output_type": "execute_result"
    }
   ],
   "source": [
    "data.describe()"
   ]
  },
  {
   "cell_type": "code",
   "execution_count": null,
   "metadata": {},
   "outputs": [],
   "source": [
    " "
   ]
  },
  {
   "cell_type": "code",
   "execution_count": 7,
   "metadata": {},
   "outputs": [
    {
     "data": {
      "image/png": "[encoded data removed]",
      "text/plain": [
       "<Figure size 432x288 with 1 Axes>"
      ]
     },
     "metadata": {
      "needs_background": "light"
     },
     "output_type": "display_data"
    }
   ],
   "source": [
    "plt.scatter(data['y/L'], data['Temperature'], color='blue')\n",
    "plt.title('Temperature Vs Location-Y', fontsize=14)\n",
    "plt.xlabel('Location-Y', fontsize=14)\n",
    "plt.ylabel('Temperature', fontsize=14)\n",
    "plt.grid(True)\n",
    "plt.show()"
   ]
  },
  {
   "cell_type": "code",
   "execution_count": 8,
   "metadata": {},
   "outputs": [
    {
     "data": {
      "image/png": "[encoded data removed]",
      "text/plain": [
       "<Figure size 432x288 with 1 Axes>"
      ]
     },
     "metadata": {
      "needs_background": "light"
     },
     "output_type": "display_data"
    }
   ],
   "source": [
    "plt.scatter(data['x/L'], data['Temperature'], color='blue')\n",
    "plt.title('Temperature Vs Location-X', fontsize=14)\n",
    "plt.xlabel('Location-X', fontsize=14)\n",
    "plt.ylabel('Temperature', fontsize=14)\n",
    "plt.grid(True)\n",
    "plt.show()"
   ]
  },
  {
   "cell_type": "code",
   "execution_count": 9,
   "metadata": {},
   "outputs": [
    {
     "data": {
      "image/png": "[encoded data removed]",
      "text/plain": [
       "<Figure size 432x288 with 1 Axes>"
      ]
     },
     "metadata": {
      "needs_background": "light"
     },
     "output_type": "display_data"
    }
   ],
   "source": [
    "plt.scatter(data['Time (s)'], data['Temperature'], color='blue')\n",
    "plt.title('Temperature Vs Time', fontsize=14)\n",
    "plt.xlabel('Time (s)', fontsize=14)\n",
    "plt.ylabel('Temperature', fontsize=14)\n",
    "plt.grid(True)\n",
    "plt.show()"
   ]
  },
  {
   "cell_type": "code",
   "execution_count": 10,
   "metadata": {},
   "outputs": [
    {
     "data": {
      "image/png": "[encoded data removed]",
      "text/plain": [
       "<Figure size 432x288 with 1 Axes>"
      ]
     },
     "metadata": {
      "needs_background": "light"
     },
     "output_type": "display_data"
    }
   ],
   "source": [
    "plt.scatter(data['Alpha'], data['Temperature'], color='blue')\n",
    "plt.title('Temperature Vs Diffusion Coefficient', fontsize=14)\n",
    "plt.xlabel('Diffusion Coefficient', fontsize=14)\n",
    "plt.ylabel('Temperature', fontsize=14)\n",
    "plt.grid(True)\n",
    "plt.xlim([0, 1.2E-4])\n",
    "plt.show()"
   ]
  },
  {
   "cell_type": "code",
   "execution_count": 11,
   "metadata": {},
   "outputs": [
    {
     "data": {
      "image/png": "[encoded data removed]",
      "text/plain": [
       "<Figure size 432x288 with 1 Axes>"
      ]
     },
     "metadata": {
      "needs_background": "light"
     },
     "output_type": "display_data"
    }
   ],
   "source": [
    "plt.scatter(data['T_left'], data['Temperature'], color='blue')\n",
    "plt.title('Temperature Vs T_left', fontsize=14)\n",
    "plt.xlabel('T_left', fontsize=14)\n",
    "plt.ylabel('Temperature', fontsize=14)\n",
    "plt.grid(True)\n",
    "plt.show()"
   ]
  },
  {
   "cell_type": "code",
   "execution_count": 12,
   "metadata": {},
   "outputs": [
    {
     "data": {
      "image/png": "[encoded data removed]",
      "text/plain": [
       "<Figure size 432x288 with 1 Axes>"
      ]
     },
     "metadata": {
      "needs_background": "light"
     },
     "output_type": "display_data"
    }
   ],
   "source": [
    "plt.scatter(data['T_right'], data['Temperature'], color='blue')\n",
    "plt.title('Temperature Vs T_right', fontsize=14)\n",
    "plt.xlabel('T_right', fontsize=14)\n",
    "plt.ylabel('Temperature', fontsize=14)\n",
    "plt.grid(True)\n",
    "plt.show()"
   ]
  },
  {
   "cell_type": "code",
   "execution_count": 13,
   "metadata": {},
   "outputs": [
    {
     "data": {
      "image/png": "[encoded data removed]",
      "text/plain": [
       "<Figure size 432x288 with 1 Axes>"
      ]
     },
     "metadata": {
      "needs_background": "light"
     },
     "output_type": "display_data"
    }
   ],
   "source": [
    "plt.scatter(data['T_bottom'], data['Temperature'], color='blue')\n",
    "plt.title('Temperature Vs T_bottom', fontsize=14)\n",
    "plt.xlabel('T_bottom', fontsize=14)\n",
    "plt.ylabel('Temperature', fontsize=14)\n",
    "plt.grid(True)\n",
    "plt.show()"
   ]
  },
  {
   "cell_type": "code",
   "execution_count": 14,
   "metadata": {},
   "outputs": [
    {
     "data": {
      "image/png": "[encoded data removed]",
      "text/plain": [
       "<Figure size 432x288 with 1 Axes>"
      ]
     },
     "metadata": {
      "needs_background": "light"
     },
     "output_type": "display_data"
    }
   ],
   "source": [
    "plt.scatter(data['T_top'], data['Temperature'], color='blue')\n",
    "plt.title('Temperature Vs T_top', fontsize=14)\n",
    "plt.xlabel('T_top', fontsize=14)\n",
    "plt.ylabel('Temperature', fontsize=14)\n",
    "plt.grid(True)\n",
    "plt.show()"
   ]
  },
  {
   "cell_type": "code",
   "execution_count": 15,
   "metadata": {},
   "outputs": [
    {
     "data": {
      "text/plain": [
       "((38016, 7), (38016,))"
      ]
     },
     "execution_count": 15,
     "metadata": {},
     "output_type": "execute_result"
    }
   ],
   "source": [
    "#seperating independent and dependent variables, Temperature is the only dependent variable in our case\n",
    "x = data[['T_left', 'T_right', 'T_bottom', 'T_top','Time (s)', 'Alpha', 'x/L']]\n",
    "y = data['Temperature']\n",
    "x.shape, y.shape"
   ]
  },
  {
   "cell_type": "code",
   "execution_count": 41,
   "metadata": {},
   "outputs": [],
   "source": [
    "import time\n",
    "#storing starting time\n",
    "begin = time.time()\n",
    "\n",
    "#Creating Training-Testing data from the new data frame\n",
    "\n",
    "from sklearn.model_selection import train_test_split\n",
    "train_x, test_x, train_y, test_y = train_test_split(x, y , test_size = 0.25, random_state = 100)"
   ]
  },
  {
   "cell_type": "code",
   "execution_count": 42,
   "metadata": {},
   "outputs": [],
   "source": [
    "from sklearn.ensemble import RandomForestRegressor\n",
    "rf = RandomForestRegressor(n_estimators=5000, max_depth= 10, random_state=100, oob_score = True)"
   ]
  },
  {
   "cell_type": "code",
   "execution_count": 43,
   "metadata": {},
   "outputs": [
    {
     "data": {
      "text/plain": [
       "RandomForestRegressor(bootstrap=True, ccp_alpha=0.0, criterion='mse',\n",
       "                      max_depth=10, max_features='auto', max_leaf_nodes=None,\n",
       "                      max_samples=None, min_impurity_decrease=0.0,\n",
       "                      min_impurity_split=None, min_samples_leaf=1,\n",
       "                      min_samples_split=2, min_weight_fraction_leaf=0.0,\n",
       "                      n_estimators=5000, n_jobs=None, oob_score=True,\n",
       "                      random_state=100, verbose=0, warm_start=False)"
      ]
     },
     "execution_count": 43,
     "metadata": {},
     "output_type": "execute_result"
    }
   ],
   "source": [
    "rf.fit(train_x, train_y)"
   ]
  },
  {
   "cell_type": "code",
   "execution_count": 44,
   "metadata": {},
   "outputs": [
    {
     "name": "stdout",
     "output_type": "stream",
     "text": [
      "[ 1.00000000e+02 -5.48501390e-35  3.09327031e+01 ...  1.17329369e+02\n",
      "  8.52265671e-34  9.80094287e+01]\n"
     ]
    }
   ],
   "source": [
    "y_pred = rf.predict(test_x)\n",
    "print (y_pred)"
   ]
  },
  {
   "cell_type": "code",
   "execution_count": 45,
   "metadata": {},
   "outputs": [
    {
     "data": {
      "text/plain": [
       "0.9850340784376129"
      ]
     },
     "execution_count": 45,
     "metadata": {},
     "output_type": "execute_result"
    }
   ],
   "source": [
    "from sklearn.metrics import r2_score\n",
    "r2_score(test_y, y_pred)"
   ]
  },
  {
   "cell_type": "code",
   "execution_count": 46,
   "metadata": {},
   "outputs": [],
   "source": [
    "#storing end time\n",
    "time.sleep(1)\n",
    "end = time.time()"
   ]
  },
  {
   "cell_type": "code",
   "execution_count": 47,
   "metadata": {},
   "outputs": [
    {
     "name": "stdout",
     "output_type": "stream",
     "text": [
      "Total runtime of Random Forest program (in seconds) is 414.57665848731995\n"
     ]
    }
   ],
   "source": [
    "#Calculating runtime\n",
    "print (\"Total runtime of Random Forest program (in seconds) is\", end - begin)"
   ]
  },
  {
   "cell_type": "code",
   "execution_count": 48,
   "metadata": {},
   "outputs": [
    {
     "name": "stdout",
     "output_type": "stream",
     "text": [
      "Mean Absolute Error: 9.438187690685787\n",
      "Mean Squared Error: 343.8139490300532\n",
      "Root Mean Squared Error: 18.542220714629984\n"
     ]
    }
   ],
   "source": [
    "from sklearn import metrics\n",
    "print('Mean Absolute Error:', metrics.mean_absolute_error(test_y, y_pred)) \n",
    "print('Mean Squared Error:', metrics.mean_squared_error(test_y, y_pred))  \n",
    "print('Root Mean Squared Error:', np.sqrt(metrics.mean_squared_error(test_y, y_pred)))"
   ]
  },
  {
   "cell_type": "code",
   "execution_count": 49,
   "metadata": {},
   "outputs": [],
   "source": [
    "importances = pd.DataFrame({'feature':train_x.columns,'importance':np.round(rf.feature_importances_,3)})\n",
    "importances = importances.sort_values('importance',ascending=False).set_index('feature')\n"
   ]
  },
  {
   "cell_type": "code",
   "execution_count": 50,
   "metadata": {},
   "outputs": [
    {
     "data": {
      "text/html": [
       "<div>\n",
       "<style scoped>\n",
       "    .dataframe tbody tr th:only-of-type {\n",
       "        vertical-align: middle;\n",
       "    }\n",
       "\n",
       "    .dataframe tbody tr th {\n",
       "        vertical-align: top;\n",
       "    }\n",
       "\n",
       "    .dataframe thead th {\n",
       "        text-align: right;\n",
       "    }\n",
       "</style>\n",
       "<table border=\"1\" class=\"dataframe\">\n",
       "  <thead>\n",
       "    <tr style=\"text-align: right;\">\n",
       "      <th></th>\n",
       "      <th>importance</th>\n",
       "    </tr>\n",
       "    <tr>\n",
       "      <th>feature</th>\n",
       "      <th></th>\n",
       "    </tr>\n",
       "  </thead>\n",
       "  <tbody>\n",
       "    <tr>\n",
       "      <th>y/L</th>\n",
       "      <td>0.413</td>\n",
       "    </tr>\n",
       "    <tr>\n",
       "      <th>x/L</th>\n",
       "      <td>0.403</td>\n",
       "    </tr>\n",
       "    <tr>\n",
       "      <th>Time (s)</th>\n",
       "      <td>0.057</td>\n",
       "    </tr>\n",
       "    <tr>\n",
       "      <th>T_left</th>\n",
       "      <td>0.049</td>\n",
       "    </tr>\n",
       "    <tr>\n",
       "      <th>T_right</th>\n",
       "      <td>0.032</td>\n",
       "    </tr>\n",
       "  </tbody>\n",
       "</table>\n",
       "</div>"
      ],
      "text/plain": [
       "          importance\n",
       "feature             \n",
       "y/L            0.413\n",
       "x/L            0.403\n",
       "Time (s)       0.057\n",
       "T_left         0.049\n",
       "T_right        0.032"
      ]
     },
     "execution_count": 50,
     "metadata": {},
     "output_type": "execute_result"
    }
   ],
   "source": [
    "importances.head()"
   ]
  },
  {
   "cell_type": "code",
   "execution_count": 51,
   "metadata": {},
   "outputs": [
    {
     "data": {
      "text/plain": [
       "<matplotlib.axes._subplots.AxesSubplot at 0x2c771e1cc08>"
      ]
     },
     "execution_count": 51,
     "metadata": {},
     "output_type": "execute_result"
    },
    {
     "data": {
      "image/png": "[encoded data removed]",
      "text/plain": [
       "<Figure size 576x396 with 1 Axes>"
      ]
     },
     "metadata": {},
     "output_type": "display_data"
    }
   ],
   "source": [
    "importances.plot.bar()"
   ]
  },
  {
   "cell_type": "code",
   "execution_count": 52,
   "metadata": {},
   "outputs": [
    {
     "data": {
      "text/plain": [
       "0.9868182118842413"
      ]
     },
     "execution_count": 52,
     "metadata": {},
     "output_type": "execute_result"
    }
   ],
   "source": [
    "rf.oob_score_"
   ]
  },
  {
   "cell_type": "code",
   "execution_count": 53,
   "metadata": {},
   "outputs": [
    {
     "data": {
      "text/html": [
       "<div>\n",
       "<style scoped>\n",
       "    .dataframe tbody tr th:only-of-type {\n",
       "        vertical-align: middle;\n",
       "    }\n",
       "\n",
       "    .dataframe tbody tr th {\n",
       "        vertical-align: top;\n",
       "    }\n",
       "\n",
       "    .dataframe thead th {\n",
       "        text-align: right;\n",
       "    }\n",
       "</style>\n",
       "<table border=\"1\" class=\"dataframe\">\n",
       "  <thead>\n",
       "    <tr style=\"text-align: right;\">\n",
       "      <th></th>\n",
       "      <th>Actual</th>\n",
       "      <th>Predicted</th>\n",
       "    </tr>\n",
       "  </thead>\n",
       "  <tbody>\n",
       "    <tr>\n",
       "      <th>5771</th>\n",
       "      <td>1.000000e+02</td>\n",
       "      <td>1.000000e+02</td>\n",
       "    </tr>\n",
       "    <tr>\n",
       "      <th>27401</th>\n",
       "      <td>-8.259910e-35</td>\n",
       "      <td>-5.485014e-35</td>\n",
       "    </tr>\n",
       "    <tr>\n",
       "      <th>22628</th>\n",
       "      <td>2.732510e+01</td>\n",
       "      <td>3.093270e+01</td>\n",
       "    </tr>\n",
       "    <tr>\n",
       "      <th>12451</th>\n",
       "      <td>1.000000e+02</td>\n",
       "      <td>1.000000e+02</td>\n",
       "    </tr>\n",
       "    <tr>\n",
       "      <th>13111</th>\n",
       "      <td>8.743740e+01</td>\n",
       "      <td>1.073104e+02</td>\n",
       "    </tr>\n",
       "    <tr>\n",
       "      <th>...</th>\n",
       "      <td>...</td>\n",
       "      <td>...</td>\n",
       "    </tr>\n",
       "    <tr>\n",
       "      <th>35221</th>\n",
       "      <td>2.681660e+02</td>\n",
       "      <td>2.758651e+02</td>\n",
       "    </tr>\n",
       "    <tr>\n",
       "      <th>13384</th>\n",
       "      <td>9.986740e+01</td>\n",
       "      <td>1.085089e+02</td>\n",
       "    </tr>\n",
       "    <tr>\n",
       "      <th>9154</th>\n",
       "      <td>1.324940e+02</td>\n",
       "      <td>1.173294e+02</td>\n",
       "    </tr>\n",
       "    <tr>\n",
       "      <th>16235</th>\n",
       "      <td>-8.480660e-42</td>\n",
       "      <td>8.522657e-34</td>\n",
       "    </tr>\n",
       "    <tr>\n",
       "      <th>6065</th>\n",
       "      <td>1.000000e+02</td>\n",
       "      <td>9.800943e+01</td>\n",
       "    </tr>\n",
       "  </tbody>\n",
       "</table>\n",
       "<p>9504 rows × 2 columns</p>\n",
       "</div>"
      ],
      "text/plain": [
       "             Actual     Predicted\n",
       "5771   1.000000e+02  1.000000e+02\n",
       "27401 -8.259910e-35 -5.485014e-35\n",
       "22628  2.732510e+01  3.093270e+01\n",
       "12451  1.000000e+02  1.000000e+02\n",
       "13111  8.743740e+01  1.073104e+02\n",
       "...             ...           ...\n",
       "35221  2.681660e+02  2.758651e+02\n",
       "13384  9.986740e+01  1.085089e+02\n",
       "9154   1.324940e+02  1.173294e+02\n",
       "16235 -8.480660e-42  8.522657e-34\n",
       "6065   1.000000e+02  9.800943e+01\n",
       "\n",
       "[9504 rows x 2 columns]"
      ]
     },
     "execution_count": 53,
     "metadata": {},
     "output_type": "execute_result"
    }
   ],
   "source": [
    "df=pd.DataFrame({'Actual':test_y, 'Predicted':y_pred})\n",
    "df"
   ]
  },
  {
   "cell_type": "code",
   "execution_count": 54,
   "metadata": {},
   "outputs": [
    {
     "data": {
      "image/png": "[encoded data removed]",
      "text/plain": [
       "<Figure size 360x504 with 1 Axes>"
      ]
     },
     "metadata": {},
     "output_type": "display_data"
    }
   ],
   "source": [
    "import seaborn as sns\n",
    "plt.figure(figsize=(5, 7))\n",
    "\n",
    "\n",
    "ax = sns.distplot(y, hist=False, color=\"r\", label=\"Actual Value\")\n",
    "sns.distplot(y_pred, hist=False, color=\"b\", label=\"Fitted Values\" , ax=ax)\n",
    "\n",
    "\n",
    "plt.title('Actual vs Fitted Values for Temperature')\n",
    "\n",
    "\n",
    "plt.show()\n",
    "plt.close()"
   ]
  },
  {
   "cell_type": "code",
   "execution_count": 30,
   "metadata": {},
   "outputs": [],
   "source": [
    "#x_test = np.array([0.8,0.33,8e-6,400,150])\n",
    "#x_test = x_test.reshape((1,-1))\n",
    "#y_pred = rf.predict(x_test)"
   ]
  },
  {
   "cell_type": "code",
   "execution_count": 31,
   "metadata": {},
   "outputs": [
    {
     "name": "stdout",
     "output_type": "stream",
     "text": [
      "The predicted temperature for the given parameters is 83.0266247299811\n"
     ]
    }
   ],
   "source": [
    "print (\"The predicted temperature for the given parameters is\", y_pred[0])"
   ]
  },
  {
   "cell_type": "code",
   "execution_count": 55,
   "metadata": {},
   "outputs": [
    {
     "name": "stdout",
     "output_type": "stream",
     "text": [
      "Requirement already satisfied: yellowbrick in c:\\users\\asus\\anaconda3\\lib\\site-packages (1.3.post1)\n",
      "Requirement already satisfied: cycler>=0.10.0 in c:\\users\\asus\\anaconda3\\lib\\site-packages (from yellowbrick) (0.10.0)\n",
      "Requirement already satisfied: matplotlib!=3.0.0,>=2.0.2 in c:\\users\\asus\\anaconda3\\lib\\site-packages (from yellowbrick) (3.1.3)\n",
      "Requirement already satisfied: numpy<1.20,>=1.16.0 in c:\\users\\asus\\anaconda3\\lib\\site-packages (from yellowbrick) (1.18.1)\n",
      "Requirement already satisfied: scikit-learn>=0.20 in c:\\users\\asus\\anaconda3\\lib\\site-packages (from yellowbrick) (0.22.1)\n",
      "Requirement already satisfied: scipy>=1.0.0 in c:\\users\\asus\\anaconda3\\lib\\site-packages (from yellowbrick) (1.4.1)\n",
      "Requirement already satisfied: six in c:\\users\\asus\\anaconda3\\lib\\site-packages (from cycler>=0.10.0->yellowbrick) (1.14.0)\n",
      "Requirement already satisfied: python-dateutil>=2.1 in c:\\users\\asus\\anaconda3\\lib\\site-packages (from matplotlib!=3.0.0,>=2.0.2->yellowbrick) (2.8.1)\n",
      "Requirement already satisfied: kiwisolver>=1.0.1 in c:\\users\\asus\\anaconda3\\lib\\site-packages (from matplotlib!=3.0.0,>=2.0.2->yellowbrick) (1.1.0)\n",
      "Requirement already satisfied: pyparsing!=2.0.4,!=2.1.2,!=2.1.6,>=2.0.1 in c:\\users\\asus\\anaconda3\\lib\\site-packages (from matplotlib!=3.0.0,>=2.0.2->yellowbrick) (2.4.6)\n",
      "Requirement already satisfied: joblib>=0.11 in c:\\users\\asus\\anaconda3\\lib\\site-packages (from scikit-learn>=0.20->yellowbrick) (0.14.1)\n",
      "Requirement already satisfied: setuptools in c:\\users\\asus\\anaconda3\\lib\\site-packages (from kiwisolver>=1.0.1->matplotlib!=3.0.0,>=2.0.2->yellowbrick) (45.2.0.post20200210)\n",
      "Note: you may need to restart the kernel to use updated packages.\n"
     ]
    }
   ],
   "source": [
    "pip install yellowbrick"
   ]
  },
  {
   "cell_type": "code",
   "execution_count": 56,
   "metadata": {},
   "outputs": [],
   "source": [
    "#from yellowbrick.datasets import load_energy\n",
    "from yellowbrick.model_selection import validation_curve"
   ]
  },
  {
   "cell_type": "code",
   "execution_count": 57,
   "metadata": {},
   "outputs": [],
   "source": [
    "\n",
    "x = data[['T_left', 'T_right', 'T_bottom', 'T_top', 'Time (s)', 'Alpha', 'x/L', 'y/L']]\n",
    "y = data['Temperature']"
   ]
  },
  {
   "cell_type": "code",
   "execution_count": 58,
   "metadata": {},
   "outputs": [],
   "source": [
    "parameter_range = np.arange(1, 15, 1)"
   ]
  },
  {
   "cell_type": "code",
   "execution_count": 59,
   "metadata": {},
   "outputs": [
    {
     "data": {
      "image/png": "[encoded data removed]",
      "text/plain": [
       "<Figure size 576x396 with 1 Axes>"
      ]
     },
     "metadata": {},
     "output_type": "display_data"
    }
   ],
   "source": [
    "viz = validation_curve(RandomForestRegressor(), x, y, param_name = \"max_depth\", param_range = parameter_range, cv = 10, scoring = \"r2\")"
   ]
  },
  {
   "cell_type": "code",
   "execution_count": null,
   "metadata": {},
   "outputs": [],
   "source": [
    "viz.fit(x,y)\n",
    "viz.show()"
   ]
  },
  {
   "cell_type": "code",
   "execution_count": null,
   "metadata": {},
   "outputs": [],
   "source": [
    "parameter_range = np.arange(1, 10000, 500)\n",
    "viz = validation_curve(RandomForestRegressor(), x, y, param_name = \"n_estimators\", param_range = parameter_range, cv = 5, scoring = \"r2\")"
   ]
  },
  {
   "cell_type": "code",
   "execution_count": null,
   "metadata": {},
   "outputs": [],
   "source": [
    "from yellowbrick.model_selection import learning_curve\n",
    "\n",
    "x = data[['T_left', 'T_right', 'T_bottom', 'T_top', 'Time (s)', 'Alpha', 'x/L', 'y/L']]\n",
    "y = data['Temperature']"
   ]
  },
  {
   "cell_type": "code",
   "execution_count": null,
   "metadata": {},
   "outputs": [],
   "source": [
    "print(learning_curve(RandomForestRegressor(), x, y, cv=10, scoring='r2'))"
   ]
  },
  {
   "cell_type": "code",
   "execution_count": null,
   "metadata": {},
   "outputs": [],
   "source": [
    "from sklearn.linear_model import Lasso\n",
    "from sklearn.model_selection import train_test_split\n",
    "\n",
    "from yellowbrick.regressor import PredictionError\n",
    "\n",
    "# Load a regression dataset\n",
    "x = data[['T_left', 'T_right', 'T_bottom', 'T_top', 'Time (s)', 'Alpha', 'x/L', 'y/L']]\n",
    "y = data['Temperature']\n",
    "\n",
    "# Instantiate the linear model and visualizer\n",
    "model = Lasso()\n",
    "visualizer = PredictionError(model)\n",
    "\n",
    "visualizer.fit(train_x, train_y)  # Fit the training data to the visualizer\n",
    "visualizer.score(test_x, test_y)  # Evaluate the model on the test data\n",
    "visualizer.show()                 # Finalize and render the figure"
   ]
  },
  {
   "cell_type": "code",
   "execution_count": null,
   "metadata": {},
   "outputs": [],
   "source": []
  }
 ],
 "metadata": {
  "kernelspec": {
   "display_name": "Python 3",
   "language": "python",
   "name": "python3"
  },
  "language_info": {
   "codemirror_mode": {
    "name": "ipython",
    "version": 3
   },
   "file_extension": ".py",
   "mimetype": "text/x-python",
   "name": "python",
   "nbconvert_exporter": "python",
   "pygments_lexer": "ipython3",
   "version": "3.7.6"
  }
 },
 "nbformat": 4,
 "nbformat_minor": 4
}
