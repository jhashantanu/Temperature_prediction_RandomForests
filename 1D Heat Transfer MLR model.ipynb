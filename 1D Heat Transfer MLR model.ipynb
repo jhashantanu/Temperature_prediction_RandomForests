{
 "cells": [
  {
   "cell_type": "code",
   "execution_count": 1,
   "metadata": {},
   "outputs": [],
   "source": [
    "import pandas as pd\n",
    "import numpy as np"
   ]
  },
  {
   "cell_type": "code",
   "execution_count": 2,
   "metadata": {},
   "outputs": [],
   "source": [
    "import statsmodels.api as sm\n",
    "import sklearn\n",
    "import matplotlib.pyplot as plt\n",
    "import seaborn as sns\n",
    "%matplotlib inline"
   ]
  },
  {
   "cell_type": "code",
   "execution_count": 3,
   "metadata": {},
   "outputs": [],
   "source": [
    "import warnings\n",
    "warnings.filterwarnings('ignore')"
   ]
  },
  {
   "cell_type": "code",
   "execution_count": 4,
   "metadata": {},
   "outputs": [],
   "source": [
    "data = pd.read_excel(r\"C:\\Users\\Asus\\Desktop\\DDP\\1D_master_dataset.xlsx\")"
   ]
  },
  {
   "cell_type": "code",
   "execution_count": 5,
   "metadata": {},
   "outputs": [
    {
     "data": {
      "text/html": [
       "<div>\n",
       "<style scoped>\n",
       "    .dataframe tbody tr th:only-of-type {\n",
       "        vertical-align: middle;\n",
       "    }\n",
       "\n",
       "    .dataframe tbody tr th {\n",
       "        vertical-align: top;\n",
       "    }\n",
       "\n",
       "    .dataframe thead th {\n",
       "        text-align: right;\n",
       "    }\n",
       "</style>\n",
       "<table border=\"1\" class=\"dataframe\">\n",
       "  <thead>\n",
       "    <tr style=\"text-align: right;\">\n",
       "      <th></th>\n",
       "      <th>Time(s)</th>\n",
       "      <th>Alpha</th>\n",
       "      <th>X</th>\n",
       "      <th>x/L</th>\n",
       "      <th>T_left</th>\n",
       "      <th>T_right</th>\n",
       "      <th>T_initial</th>\n",
       "      <th>Temperature</th>\n",
       "    </tr>\n",
       "  </thead>\n",
       "  <tbody>\n",
       "    <tr>\n",
       "      <th>0</th>\n",
       "      <td>0.01</td>\n",
       "      <td>0.0001</td>\n",
       "      <td>0.0</td>\n",
       "      <td>0.0</td>\n",
       "      <td>300</td>\n",
       "      <td>0</td>\n",
       "      <td>27</td>\n",
       "      <td>300.0</td>\n",
       "    </tr>\n",
       "    <tr>\n",
       "      <th>1</th>\n",
       "      <td>0.02</td>\n",
       "      <td>0.0001</td>\n",
       "      <td>0.0</td>\n",
       "      <td>0.0</td>\n",
       "      <td>300</td>\n",
       "      <td>0</td>\n",
       "      <td>27</td>\n",
       "      <td>300.0</td>\n",
       "    </tr>\n",
       "    <tr>\n",
       "      <th>2</th>\n",
       "      <td>0.03</td>\n",
       "      <td>0.0001</td>\n",
       "      <td>0.0</td>\n",
       "      <td>0.0</td>\n",
       "      <td>300</td>\n",
       "      <td>0</td>\n",
       "      <td>27</td>\n",
       "      <td>300.0</td>\n",
       "    </tr>\n",
       "    <tr>\n",
       "      <th>3</th>\n",
       "      <td>0.05</td>\n",
       "      <td>0.0001</td>\n",
       "      <td>0.0</td>\n",
       "      <td>0.0</td>\n",
       "      <td>300</td>\n",
       "      <td>0</td>\n",
       "      <td>27</td>\n",
       "      <td>300.0</td>\n",
       "    </tr>\n",
       "    <tr>\n",
       "      <th>4</th>\n",
       "      <td>0.10</td>\n",
       "      <td>0.0001</td>\n",
       "      <td>0.0</td>\n",
       "      <td>0.0</td>\n",
       "      <td>300</td>\n",
       "      <td>0</td>\n",
       "      <td>27</td>\n",
       "      <td>300.0</td>\n",
       "    </tr>\n",
       "  </tbody>\n",
       "</table>\n",
       "</div>"
      ],
      "text/plain": [
       "   Time(s)   Alpha    X  x/L  T_left  T_right  T_initial  Temperature\n",
       "0     0.01  0.0001  0.0  0.0     300        0         27        300.0\n",
       "1     0.02  0.0001  0.0  0.0     300        0         27        300.0\n",
       "2     0.03  0.0001  0.0  0.0     300        0         27        300.0\n",
       "3     0.05  0.0001  0.0  0.0     300        0         27        300.0\n",
       "4     0.10  0.0001  0.0  0.0     300        0         27        300.0"
      ]
     },
     "execution_count": 5,
     "metadata": {},
     "output_type": "execute_result"
    }
   ],
   "source": [
    "data.head()"
   ]
  },
  {
   "cell_type": "code",
   "execution_count": 6,
   "metadata": {},
   "outputs": [
    {
     "data": {
      "text/html": [
       "<div>\n",
       "<style scoped>\n",
       "    .dataframe tbody tr th:only-of-type {\n",
       "        vertical-align: middle;\n",
       "    }\n",
       "\n",
       "    .dataframe tbody tr th {\n",
       "        vertical-align: top;\n",
       "    }\n",
       "\n",
       "    .dataframe thead th {\n",
       "        text-align: right;\n",
       "    }\n",
       "</style>\n",
       "<table border=\"1\" class=\"dataframe\">\n",
       "  <thead>\n",
       "    <tr style=\"text-align: right;\">\n",
       "      <th></th>\n",
       "      <th>Time(s)</th>\n",
       "      <th>Alpha</th>\n",
       "      <th>X</th>\n",
       "      <th>x/L</th>\n",
       "      <th>T_left</th>\n",
       "      <th>T_right</th>\n",
       "      <th>T_initial</th>\n",
       "      <th>Temperature</th>\n",
       "    </tr>\n",
       "  </thead>\n",
       "  <tbody>\n",
       "    <tr>\n",
       "      <th>count</th>\n",
       "      <td>5824.000000</td>\n",
       "      <td>5824.000000</td>\n",
       "      <td>5824.000000</td>\n",
       "      <td>5824.000000</td>\n",
       "      <td>5824.000000</td>\n",
       "      <td>5824.000000</td>\n",
       "      <td>5824.0</td>\n",
       "      <td>5824.000000</td>\n",
       "    </tr>\n",
       "    <tr>\n",
       "      <th>mean</th>\n",
       "      <td>16.665962</td>\n",
       "      <td>0.000036</td>\n",
       "      <td>0.005000</td>\n",
       "      <td>0.500000</td>\n",
       "      <td>450.000000</td>\n",
       "      <td>150.000000</td>\n",
       "      <td>27.0</td>\n",
       "      <td>210.387281</td>\n",
       "    </tr>\n",
       "    <tr>\n",
       "      <th>std</th>\n",
       "      <td>35.998539</td>\n",
       "      <td>0.000045</td>\n",
       "      <td>0.003334</td>\n",
       "      <td>0.333362</td>\n",
       "      <td>111.812999</td>\n",
       "      <td>111.812999</td>\n",
       "      <td>0.0</td>\n",
       "      <td>166.656319</td>\n",
       "    </tr>\n",
       "    <tr>\n",
       "      <th>min</th>\n",
       "      <td>0.010000</td>\n",
       "      <td>0.000001</td>\n",
       "      <td>0.000000</td>\n",
       "      <td>0.000000</td>\n",
       "      <td>300.000000</td>\n",
       "      <td>0.000000</td>\n",
       "      <td>27.0</td>\n",
       "      <td>0.000000</td>\n",
       "    </tr>\n",
       "    <tr>\n",
       "      <th>25%</th>\n",
       "      <td>0.100000</td>\n",
       "      <td>0.000001</td>\n",
       "      <td>0.001667</td>\n",
       "      <td>0.166667</td>\n",
       "      <td>375.000000</td>\n",
       "      <td>75.000000</td>\n",
       "      <td>27.0</td>\n",
       "      <td>44.796381</td>\n",
       "    </tr>\n",
       "    <tr>\n",
       "      <th>50%</th>\n",
       "      <td>1.000000</td>\n",
       "      <td>0.000010</td>\n",
       "      <td>0.005000</td>\n",
       "      <td>0.500000</td>\n",
       "      <td>450.000000</td>\n",
       "      <td>150.000000</td>\n",
       "      <td>27.0</td>\n",
       "      <td>200.000000</td>\n",
       "    </tr>\n",
       "    <tr>\n",
       "      <th>75%</th>\n",
       "      <td>12.500000</td>\n",
       "      <td>0.000100</td>\n",
       "      <td>0.008333</td>\n",
       "      <td>0.833333</td>\n",
       "      <td>525.000000</td>\n",
       "      <td>225.000000</td>\n",
       "      <td>27.0</td>\n",
       "      <td>308.496669</td>\n",
       "    </tr>\n",
       "    <tr>\n",
       "      <th>max</th>\n",
       "      <td>200.000000</td>\n",
       "      <td>0.000100</td>\n",
       "      <td>0.010000</td>\n",
       "      <td>1.000000</td>\n",
       "      <td>600.000000</td>\n",
       "      <td>300.000000</td>\n",
       "      <td>27.0</td>\n",
       "      <td>600.000000</td>\n",
       "    </tr>\n",
       "  </tbody>\n",
       "</table>\n",
       "</div>"
      ],
      "text/plain": [
       "           Time(s)        Alpha            X          x/L       T_left  \\\n",
       "count  5824.000000  5824.000000  5824.000000  5824.000000  5824.000000   \n",
       "mean     16.665962     0.000036     0.005000     0.500000   450.000000   \n",
       "std      35.998539     0.000045     0.003334     0.333362   111.812999   \n",
       "min       0.010000     0.000001     0.000000     0.000000   300.000000   \n",
       "25%       0.100000     0.000001     0.001667     0.166667   375.000000   \n",
       "50%       1.000000     0.000010     0.005000     0.500000   450.000000   \n",
       "75%      12.500000     0.000100     0.008333     0.833333   525.000000   \n",
       "max     200.000000     0.000100     0.010000     1.000000   600.000000   \n",
       "\n",
       "           T_right  T_initial  Temperature  \n",
       "count  5824.000000     5824.0  5824.000000  \n",
       "mean    150.000000       27.0   210.387281  \n",
       "std     111.812999        0.0   166.656319  \n",
       "min       0.000000       27.0     0.000000  \n",
       "25%      75.000000       27.0    44.796381  \n",
       "50%     150.000000       27.0   200.000000  \n",
       "75%     225.000000       27.0   308.496669  \n",
       "max     300.000000       27.0   600.000000  "
      ]
     },
     "execution_count": 6,
     "metadata": {},
     "output_type": "execute_result"
    }
   ],
   "source": [
    "data.describe()"
   ]
  },
  {
   "cell_type": "code",
   "execution_count": 7,
   "metadata": {},
   "outputs": [
    {
     "data": {
      "text/plain": [
       "((5824, 5), (5824,))"
      ]
     },
     "execution_count": 7,
     "metadata": {},
     "output_type": "execute_result"
    }
   ],
   "source": [
    "import time\n",
    "#storing starting time\n",
    "begin = time.time()\n",
    "\n",
    "#seperating independent and dependent variables, Temperature is the only dependent variable in our case\n",
    "x = data.loc[:, ['T_left', 'T_right','Time(s)', 'x/L', 'Alpha']]\n",
    "y = data['Temperature']\n",
    "x.shape, y.shape "
   ]
  },
  {
   "cell_type": "code",
   "execution_count": 8,
   "metadata": {},
   "outputs": [],
   "source": [
    "#Creating Training-Testing data from the new data frame\n",
    "\n",
    "from sklearn.model_selection import train_test_split\n",
    "train_x,test_x,train_y,test_y = train_test_split(x, y , test_size = 0.25, random_state = 100)"
   ]
  },
  {
   "cell_type": "code",
   "execution_count": 9,
   "metadata": {},
   "outputs": [],
   "source": [
    "#Importing Linear Regression and metric mean absolute error\n",
    "\n",
    "from sklearn.linear_model import LinearRegression as LR\n",
    "from sklearn.metrics import mean_absolute_error as mae"
   ]
  },
  {
   "cell_type": "code",
   "execution_count": 10,
   "metadata": {},
   "outputs": [
    {
     "name": "stdout",
     "output_type": "stream",
     "text": [
      "94.58658229764333\n"
     ]
    }
   ],
   "source": [
    "lr = LR()\n",
    "# Fitting the model\n",
    "lr.fit(train_x, train_y)\n",
    "\n",
    "print(lr.intercept_) #Intercept of the Multiple Linear Regression"
   ]
  },
  {
   "cell_type": "code",
   "execution_count": 11,
   "metadata": {},
   "outputs": [
    {
     "name": "stdout",
     "output_type": "stream",
     "text": [
      "Total runtime of Linear Regression program (in seconds) is 9.252151489257812\n"
     ]
    }
   ],
   "source": [
    "#storing end time\n",
    "time.sleep(1)\n",
    "end = time.time()\n",
    "\n",
    "#Calculating runtime\n",
    "print (\"Total runtime of Linear Regression program (in seconds) is\", end - begin)"
   ]
  },
  {
   "cell_type": "code",
   "execution_count": 12,
   "metadata": {},
   "outputs": [
    {
     "data": {
      "image/png": "[encoded data removed]",
      "text/plain": [
       "<Figure size 1080x1080 with 2 Axes>"
      ]
     },
     "metadata": {
      "needs_background": "light"
     },
     "output_type": "display_data"
    }
   ],
   "source": [
    "plt.figure(figsize = (15, 15))\n",
    "sns.heatmap(train_x.corr(), annot = True, cmap=\"RdYlGn\", vmin = -1, vmax = 1)\n",
    "plt.show()   "
   ]
  },
  {
   "cell_type": "code",
   "execution_count": 13,
   "metadata": {},
   "outputs": [
    {
     "name": "stdout",
     "output_type": "stream",
     "text": [
      "Training Mean Absolute Error 97.0605009878433\n"
     ]
    }
   ],
   "source": [
    "# Predicting over the Train Set and calculating error\n",
    "train_predict = lr.predict(train_x)\n",
    "k = mae(train_predict, train_y)\n",
    "print('Training Mean Absolute Error', k )"
   ]
  },
  {
   "cell_type": "code",
   "execution_count": 14,
   "metadata": {},
   "outputs": [
    {
     "name": "stdout",
     "output_type": "stream",
     "text": [
      "Test Mean Absolute Error     99.0673845257569\n"
     ]
    }
   ],
   "source": [
    "# Predicting over the Test Set and calculating error\n",
    "test_predict = lr.predict(test_x)\n",
    "k = mae(test_predict, test_y)\n",
    "print('Test Mean Absolute Error    ', k )"
   ]
  },
  {
   "cell_type": "code",
   "execution_count": 15,
   "metadata": {},
   "outputs": [
    {
     "name": "stdout",
     "output_type": "stream",
     "text": [
      "  Variables    Coefficient\n",
      "0    T_left       0.326475\n",
      "1   T_right       0.346833\n",
      "2   Time(s)       1.092091\n",
      "3       x/L    -258.747095\n",
      "4     Alpha  808075.461766\n"
     ]
    }
   ],
   "source": [
    "#Regression Coefficients of the variables in order \n",
    "Coeff_data = {'Variables': ['T_left', 'T_right', 'Time(s)', 'x/L','Alpha'], 'Coefficient': lr.coef_}\n",
    "df = pd.DataFrame(Coeff_data, columns = ['Variables', 'Coefficient'])\n",
    "\n",
    "print(df)"
   ]
  },
  {
   "cell_type": "code",
   "execution_count": 16,
   "metadata": {},
   "outputs": [
    {
     "data": {
      "text/plain": [
       "Text(0.5, 1.0, 'Coefficient plot')"
      ]
     },
     "execution_count": 16,
     "metadata": {},
     "output_type": "execute_result"
    },
    {
     "data": {
      "image/png": "[encoded data removed]",
      "text/plain": [
       "<Figure size 960x720 with 1 Axes>"
      ]
     },
     "metadata": {},
     "output_type": "display_data"
    }
   ],
   "source": [
    "#Unscaled Coefficient vs Variable plot\n",
    "plt.figure(figsize=(8, 6), dpi=120, facecolor='w', edgecolor='b')\n",
    "x = range(len(train_x.columns))\n",
    "y = lr.coef_\n",
    "plt.bar( x, y )\n",
    "plt.xlabel( \"Variables\")\n",
    "plt.ylabel('Coefficients')\n",
    "plt.title('Coefficient plot')"
   ]
  },
  {
   "cell_type": "code",
   "execution_count": 17,
   "metadata": {},
   "outputs": [
    {
     "data": {
      "text/plain": [
       "47.70031814356914"
      ]
     },
     "execution_count": 17,
     "metadata": {},
     "output_type": "execute_result"
    }
   ],
   "source": [
    "lr.score(train_x, train_y)*100"
   ]
  },
  {
   "cell_type": "code",
   "execution_count": 18,
   "metadata": {},
   "outputs": [
    {
     "data": {
      "text/plain": [
       "48.154463928432875"
      ]
     },
     "execution_count": 18,
     "metadata": {},
     "output_type": "execute_result"
    }
   ],
   "source": [
    "lr.score(test_x,test_y)*100"
   ]
  },
  {
   "cell_type": "code",
   "execution_count": 19,
   "metadata": {},
   "outputs": [
    {
     "name": "stdout",
     "output_type": "stream",
     "text": [
      "[259.87882174 317.14276129 339.49135686 ...  86.92370097 247.01932799\n",
      " 131.84042418]\n"
     ]
    }
   ],
   "source": [
    "y_pred = lr.predict(test_x)\n",
    "print (y_pred)"
   ]
  },
  {
   "cell_type": "code",
   "execution_count": 20,
   "metadata": {},
   "outputs": [
    {
     "data": {
      "text/html": [
       "<div>\n",
       "<style scoped>\n",
       "    .dataframe tbody tr th:only-of-type {\n",
       "        vertical-align: middle;\n",
       "    }\n",
       "\n",
       "    .dataframe tbody tr th {\n",
       "        vertical-align: top;\n",
       "    }\n",
       "\n",
       "    .dataframe thead th {\n",
       "        text-align: right;\n",
       "    }\n",
       "</style>\n",
       "<table border=\"1\" class=\"dataframe\">\n",
       "  <thead>\n",
       "    <tr style=\"text-align: right;\">\n",
       "      <th></th>\n",
       "      <th>Actual</th>\n",
       "      <th>Predicted</th>\n",
       "    </tr>\n",
       "  </thead>\n",
       "  <tbody>\n",
       "    <tr>\n",
       "      <th>640</th>\n",
       "      <td>300.000000</td>\n",
       "      <td>259.878822</td>\n",
       "    </tr>\n",
       "    <tr>\n",
       "      <th>2804</th>\n",
       "      <td>350.000000</td>\n",
       "      <td>317.142761</td>\n",
       "    </tr>\n",
       "    <tr>\n",
       "      <th>2746</th>\n",
       "      <td>400.000000</td>\n",
       "      <td>339.491357</td>\n",
       "    </tr>\n",
       "    <tr>\n",
       "      <th>4313</th>\n",
       "      <td>400.000000</td>\n",
       "      <td>226.006483</td>\n",
       "    </tr>\n",
       "    <tr>\n",
       "      <th>1158</th>\n",
       "      <td>60.078125</td>\n",
       "      <td>157.725076</td>\n",
       "    </tr>\n",
       "    <tr>\n",
       "      <th>...</th>\n",
       "      <td>...</td>\n",
       "      <td>...</td>\n",
       "    </tr>\n",
       "    <tr>\n",
       "      <th>4888</th>\n",
       "      <td>27.000000</td>\n",
       "      <td>86.144995</td>\n",
       "    </tr>\n",
       "    <tr>\n",
       "      <th>3955</th>\n",
       "      <td>30.378588</td>\n",
       "      <td>184.950519</td>\n",
       "    </tr>\n",
       "    <tr>\n",
       "      <th>3914</th>\n",
       "      <td>49.905918</td>\n",
       "      <td>86.923701</td>\n",
       "    </tr>\n",
       "    <tr>\n",
       "      <th>3487</th>\n",
       "      <td>28.038563</td>\n",
       "      <td>247.019328</td>\n",
       "    </tr>\n",
       "    <tr>\n",
       "      <th>4499</th>\n",
       "      <td>27.114826</td>\n",
       "      <td>131.840424</td>\n",
       "    </tr>\n",
       "  </tbody>\n",
       "</table>\n",
       "<p>1456 rows × 2 columns</p>\n",
       "</div>"
      ],
      "text/plain": [
       "          Actual   Predicted\n",
       "640   300.000000  259.878822\n",
       "2804  350.000000  317.142761\n",
       "2746  400.000000  339.491357\n",
       "4313  400.000000  226.006483\n",
       "1158   60.078125  157.725076\n",
       "...          ...         ...\n",
       "4888   27.000000   86.144995\n",
       "3955   30.378588  184.950519\n",
       "3914   49.905918   86.923701\n",
       "3487   28.038563  247.019328\n",
       "4499   27.114826  131.840424\n",
       "\n",
       "[1456 rows x 2 columns]"
      ]
     },
     "execution_count": 20,
     "metadata": {},
     "output_type": "execute_result"
    }
   ],
   "source": [
    "df=pd.DataFrame({'Actual':test_y, 'Predicted':y_pred})\n",
    "df"
   ]
  },
  {
   "cell_type": "code",
   "execution_count": 21,
   "metadata": {},
   "outputs": [
    {
     "data": {
      "image/png": "[encoded data removed]",
      "text/plain": [
       "<Figure size 360x504 with 1 Axes>"
      ]
     },
     "metadata": {
      "needs_background": "light"
     },
     "output_type": "display_data"
    }
   ],
   "source": [
    "import seaborn as sns\n",
    "plt.figure(figsize=(5, 7))\n",
    "\n",
    "\n",
    "ax = sns.distplot(y, hist=False, color=\"r\", label=\"Actual Value\")\n",
    "sns.distplot(y_pred, hist=False, color=\"b\", label=\"Fitted Values\" , ax=ax)\n",
    "\n",
    "\n",
    "plt.title('Actual vs Fitted Values for Temperature (Linear Regression)')\n",
    "\n",
    "\n",
    "plt.show()\n",
    "plt.close()"
   ]
  },
  {
   "cell_type": "code",
   "execution_count": null,
   "metadata": {},
   "outputs": [],
   "source": []
  },
  {
   "cell_type": "markdown",
   "metadata": {},
   "source": [
    "## Scaling the Variables"
   ]
  },
  {
   "cell_type": "code",
   "execution_count": 22,
   "metadata": {},
   "outputs": [],
   "source": [
    "from sklearn.preprocessing import StandardScaler\n",
    "scaler = StandardScaler()\n",
    "scaled = scaler.fit_transform(data)"
   ]
  },
  {
   "cell_type": "code",
   "execution_count": 23,
   "metadata": {},
   "outputs": [
    {
     "data": {
      "text/html": [
       "<div>\n",
       "<style scoped>\n",
       "    .dataframe tbody tr th:only-of-type {\n",
       "        vertical-align: middle;\n",
       "    }\n",
       "\n",
       "    .dataframe tbody tr th {\n",
       "        vertical-align: top;\n",
       "    }\n",
       "\n",
       "    .dataframe thead th {\n",
       "        text-align: right;\n",
       "    }\n",
       "</style>\n",
       "<table border=\"1\" class=\"dataframe\">\n",
       "  <thead>\n",
       "    <tr style=\"text-align: right;\">\n",
       "      <th></th>\n",
       "      <th>Time(s)</th>\n",
       "      <th>Alpha</th>\n",
       "      <th>X</th>\n",
       "      <th>x/L</th>\n",
       "      <th>T_left</th>\n",
       "      <th>T_right</th>\n",
       "      <th>T_initial</th>\n",
       "      <th>Temperature</th>\n",
       "      <th>scaled_T_left</th>\n",
       "      <th>scaled_T_right</th>\n",
       "      <th>scaled_time</th>\n",
       "      <th>scaled_location</th>\n",
       "      <th>scaled_alpha</th>\n",
       "    </tr>\n",
       "  </thead>\n",
       "  <tbody>\n",
       "    <tr>\n",
       "      <th>0</th>\n",
       "      <td>0.01</td>\n",
       "      <td>0.000100</td>\n",
       "      <td>0.00</td>\n",
       "      <td>0.0</td>\n",
       "      <td>300</td>\n",
       "      <td>0</td>\n",
       "      <td>27</td>\n",
       "      <td>300.0</td>\n",
       "      <td>-1.341641</td>\n",
       "      <td>-1.341641</td>\n",
       "      <td>-0.462724</td>\n",
       "      <td>-1.5</td>\n",
       "      <td>1.429927</td>\n",
       "    </tr>\n",
       "    <tr>\n",
       "      <th>1</th>\n",
       "      <td>0.02</td>\n",
       "      <td>0.000100</td>\n",
       "      <td>0.00</td>\n",
       "      <td>0.0</td>\n",
       "      <td>300</td>\n",
       "      <td>0</td>\n",
       "      <td>27</td>\n",
       "      <td>300.0</td>\n",
       "      <td>-1.341641</td>\n",
       "      <td>-1.341641</td>\n",
       "      <td>-0.462446</td>\n",
       "      <td>-1.5</td>\n",
       "      <td>1.429927</td>\n",
       "    </tr>\n",
       "    <tr>\n",
       "      <th>2</th>\n",
       "      <td>0.03</td>\n",
       "      <td>0.000100</td>\n",
       "      <td>0.00</td>\n",
       "      <td>0.0</td>\n",
       "      <td>300</td>\n",
       "      <td>0</td>\n",
       "      <td>27</td>\n",
       "      <td>300.0</td>\n",
       "      <td>-1.341641</td>\n",
       "      <td>-1.341641</td>\n",
       "      <td>-0.462168</td>\n",
       "      <td>-1.5</td>\n",
       "      <td>1.429927</td>\n",
       "    </tr>\n",
       "    <tr>\n",
       "      <th>3</th>\n",
       "      <td>0.05</td>\n",
       "      <td>0.000100</td>\n",
       "      <td>0.00</td>\n",
       "      <td>0.0</td>\n",
       "      <td>300</td>\n",
       "      <td>0</td>\n",
       "      <td>27</td>\n",
       "      <td>300.0</td>\n",
       "      <td>-1.341641</td>\n",
       "      <td>-1.341641</td>\n",
       "      <td>-0.461613</td>\n",
       "      <td>-1.5</td>\n",
       "      <td>1.429927</td>\n",
       "    </tr>\n",
       "    <tr>\n",
       "      <th>4</th>\n",
       "      <td>0.10</td>\n",
       "      <td>0.000100</td>\n",
       "      <td>0.00</td>\n",
       "      <td>0.0</td>\n",
       "      <td>300</td>\n",
       "      <td>0</td>\n",
       "      <td>27</td>\n",
       "      <td>300.0</td>\n",
       "      <td>-1.341641</td>\n",
       "      <td>-1.341641</td>\n",
       "      <td>-0.460224</td>\n",
       "      <td>-1.5</td>\n",
       "      <td>1.429927</td>\n",
       "    </tr>\n",
       "    <tr>\n",
       "      <th>...</th>\n",
       "      <td>...</td>\n",
       "      <td>...</td>\n",
       "      <td>...</td>\n",
       "      <td>...</td>\n",
       "      <td>...</td>\n",
       "      <td>...</td>\n",
       "      <td>...</td>\n",
       "      <td>...</td>\n",
       "      <td>...</td>\n",
       "      <td>...</td>\n",
       "      <td>...</td>\n",
       "      <td>...</td>\n",
       "      <td>...</td>\n",
       "    </tr>\n",
       "    <tr>\n",
       "      <th>5819</th>\n",
       "      <td>20.00</td>\n",
       "      <td>0.000001</td>\n",
       "      <td>0.01</td>\n",
       "      <td>1.0</td>\n",
       "      <td>600</td>\n",
       "      <td>300</td>\n",
       "      <td>27</td>\n",
       "      <td>300.0</td>\n",
       "      <td>1.341641</td>\n",
       "      <td>1.341641</td>\n",
       "      <td>0.092624</td>\n",
       "      <td>1.5</td>\n",
       "      <td>-0.792677</td>\n",
       "    </tr>\n",
       "    <tr>\n",
       "      <th>5820</th>\n",
       "      <td>30.00</td>\n",
       "      <td>0.000001</td>\n",
       "      <td>0.01</td>\n",
       "      <td>1.0</td>\n",
       "      <td>600</td>\n",
       "      <td>300</td>\n",
       "      <td>27</td>\n",
       "      <td>300.0</td>\n",
       "      <td>1.341641</td>\n",
       "      <td>1.341641</td>\n",
       "      <td>0.370437</td>\n",
       "      <td>1.5</td>\n",
       "      <td>-0.792677</td>\n",
       "    </tr>\n",
       "    <tr>\n",
       "      <th>5821</th>\n",
       "      <td>50.00</td>\n",
       "      <td>0.000001</td>\n",
       "      <td>0.01</td>\n",
       "      <td>1.0</td>\n",
       "      <td>600</td>\n",
       "      <td>300</td>\n",
       "      <td>27</td>\n",
       "      <td>300.0</td>\n",
       "      <td>1.341641</td>\n",
       "      <td>1.341641</td>\n",
       "      <td>0.926063</td>\n",
       "      <td>1.5</td>\n",
       "      <td>-0.792677</td>\n",
       "    </tr>\n",
       "    <tr>\n",
       "      <th>5822</th>\n",
       "      <td>100.00</td>\n",
       "      <td>0.000001</td>\n",
       "      <td>0.01</td>\n",
       "      <td>1.0</td>\n",
       "      <td>600</td>\n",
       "      <td>300</td>\n",
       "      <td>27</td>\n",
       "      <td>300.0</td>\n",
       "      <td>1.341641</td>\n",
       "      <td>1.341641</td>\n",
       "      <td>2.315127</td>\n",
       "      <td>1.5</td>\n",
       "      <td>-0.792677</td>\n",
       "    </tr>\n",
       "    <tr>\n",
       "      <th>5823</th>\n",
       "      <td>200.00</td>\n",
       "      <td>0.000001</td>\n",
       "      <td>0.01</td>\n",
       "      <td>1.0</td>\n",
       "      <td>600</td>\n",
       "      <td>300</td>\n",
       "      <td>27</td>\n",
       "      <td>300.0</td>\n",
       "      <td>1.341641</td>\n",
       "      <td>1.341641</td>\n",
       "      <td>5.093256</td>\n",
       "      <td>1.5</td>\n",
       "      <td>-0.792677</td>\n",
       "    </tr>\n",
       "  </tbody>\n",
       "</table>\n",
       "<p>5824 rows × 13 columns</p>\n",
       "</div>"
      ],
      "text/plain": [
       "      Time(s)     Alpha     X  x/L  T_left  T_right  T_initial  Temperature  \\\n",
       "0        0.01  0.000100  0.00  0.0     300        0         27        300.0   \n",
       "1        0.02  0.000100  0.00  0.0     300        0         27        300.0   \n",
       "2        0.03  0.000100  0.00  0.0     300        0         27        300.0   \n",
       "3        0.05  0.000100  0.00  0.0     300        0         27        300.0   \n",
       "4        0.10  0.000100  0.00  0.0     300        0         27        300.0   \n",
       "...       ...       ...   ...  ...     ...      ...        ...          ...   \n",
       "5819    20.00  0.000001  0.01  1.0     600      300         27        300.0   \n",
       "5820    30.00  0.000001  0.01  1.0     600      300         27        300.0   \n",
       "5821    50.00  0.000001  0.01  1.0     600      300         27        300.0   \n",
       "5822   100.00  0.000001  0.01  1.0     600      300         27        300.0   \n",
       "5823   200.00  0.000001  0.01  1.0     600      300         27        300.0   \n",
       "\n",
       "      scaled_T_left  scaled_T_right  scaled_time  scaled_location  \\\n",
       "0         -1.341641       -1.341641    -0.462724             -1.5   \n",
       "1         -1.341641       -1.341641    -0.462446             -1.5   \n",
       "2         -1.341641       -1.341641    -0.462168             -1.5   \n",
       "3         -1.341641       -1.341641    -0.461613             -1.5   \n",
       "4         -1.341641       -1.341641    -0.460224             -1.5   \n",
       "...             ...             ...          ...              ...   \n",
       "5819       1.341641        1.341641     0.092624              1.5   \n",
       "5820       1.341641        1.341641     0.370437              1.5   \n",
       "5821       1.341641        1.341641     0.926063              1.5   \n",
       "5822       1.341641        1.341641     2.315127              1.5   \n",
       "5823       1.341641        1.341641     5.093256              1.5   \n",
       "\n",
       "      scaled_alpha  \n",
       "0         1.429927  \n",
       "1         1.429927  \n",
       "2         1.429927  \n",
       "3         1.429927  \n",
       "4         1.429927  \n",
       "...            ...  \n",
       "5819     -0.792677  \n",
       "5820     -0.792677  \n",
       "5821     -0.792677  \n",
       "5822     -0.792677  \n",
       "5823     -0.792677  \n",
       "\n",
       "[5824 rows x 13 columns]"
      ]
     },
     "execution_count": 23,
     "metadata": {},
     "output_type": "execute_result"
    }
   ],
   "source": [
    "data['scaled_T_left']   = StandardScaler().fit_transform(data[['T_left']])\n",
    "data['scaled_T_right']  = StandardScaler().fit_transform(data[['T_right']])\n",
    "data['scaled_time']     = StandardScaler().fit_transform(data[['Time(s)']])\n",
    "data['scaled_location'] = StandardScaler().fit_transform(data[['x/L']])\n",
    "data['scaled_alpha']    = StandardScaler().fit_transform(data[['Alpha']])\n",
    "data"
   ]
  },
  {
   "cell_type": "code",
   "execution_count": 24,
   "metadata": {},
   "outputs": [
    {
     "data": {
      "text/plain": [
       "((5824, 5), (5824,))"
      ]
     },
     "execution_count": 24,
     "metadata": {},
     "output_type": "execute_result"
    }
   ],
   "source": [
    "#seperating independent and dependent variables, Temperature is the only dependent variable in our case\n",
    "x = data.loc[:, ['scaled_T_left', 'scaled_T_right','scaled_time', 'scaled_location', 'scaled_alpha']]\n",
    "y = data['Temperature']\n",
    "x.shape, y.shape"
   ]
  },
  {
   "cell_type": "code",
   "execution_count": 25,
   "metadata": {},
   "outputs": [
    {
     "name": "stdout",
     "output_type": "stream",
     "text": [
      "Mean MAE: 97.769\n"
     ]
    }
   ],
   "source": [
    "\n",
    "# example of normalizing input and output variables for regression.\n",
    "from numpy import mean\n",
    "from numpy import absolute\n",
    "from numpy import loadtxt\n",
    "from sklearn.model_selection import cross_val_score\n",
    "from sklearn.model_selection import KFold\n",
    "from sklearn.pipeline import Pipeline\n",
    "from sklearn.linear_model import HuberRegressor\n",
    "from sklearn.preprocessing import MinMaxScaler\n",
    "from sklearn.compose import TransformedTargetRegressor\n",
    "# load data\n",
    "#dataset = loadtxt('housing.csv', delimiter=\",\")\n",
    "# split into inputs and outputs\n",
    "#X, y = dataset[:, :-1], dataset[:, -1]\n",
    "x = data.loc[:, ['scaled_T_left', 'scaled_T_right','scaled_time', 'scaled_location', 'scaled_alpha']]\n",
    "y = data['Temperature']\n",
    "# prepare the model with input scaling\n",
    "pipeline = Pipeline(steps=[('normalize', StandardScaler()), ('model', LR())])\n",
    "# prepare the model with target scaling\n",
    "model = TransformedTargetRegressor(regressor=pipeline, transformer=StandardScaler())\n",
    "# evaluate model\n",
    "cv = KFold(n_splits=10, shuffle=True, random_state=1)\n",
    "scores = cross_val_score(model, x, y, scoring='neg_mean_absolute_error', cv=cv, n_jobs=-1)\n",
    "# convert scores to positive\n",
    "scores = absolute(scores)\n",
    "# summarize the result\n",
    "s_mean = mean(scores)\n",
    "print('Mean MAE: %.3f' % (s_mean))"
   ]
  },
  {
   "cell_type": "code",
   "execution_count": 26,
   "metadata": {},
   "outputs": [],
   "source": [
    "import time\n",
    "#storing starting time\n",
    "begin = time.time()\n",
    "\n",
    "#Creating Training-Testing data from the new data frame\n",
    "\n",
    "from sklearn.model_selection import train_test_split\n",
    "train_x,test_x,train_y,test_y = train_test_split(x, y , test_size = 0.25, random_state = 100)"
   ]
  },
  {
   "cell_type": "code",
   "execution_count": 27,
   "metadata": {},
   "outputs": [],
   "source": [
    "#Importing Linear Regression and metric mean absolute error\n",
    "\n",
    "from sklearn.linear_model import LinearRegression as LR\n",
    "from sklearn.metrics import mean_absolute_error as mae"
   ]
  },
  {
   "cell_type": "code",
   "execution_count": 28,
   "metadata": {},
   "outputs": [
    {
     "name": "stdout",
     "output_type": "stream",
     "text": [
      "211.69180085572307\n"
     ]
    }
   ],
   "source": [
    "# Creating instance of Linear Regresssion\n",
    "lr = LR()\n",
    "\n",
    "# Fitting the model\n",
    "lr.fit(train_x, train_y)\n",
    "\n",
    "print(lr.intercept_) #Intercept of the Multiple Linear Regression"
   ]
  },
  {
   "cell_type": "code",
   "execution_count": 29,
   "metadata": {},
   "outputs": [
    {
     "name": "stdout",
     "output_type": "stream",
     "text": [
      "Total runtime of Random Forest program (in seconds) is 2.438900947570801\n"
     ]
    }
   ],
   "source": [
    "#storing end time\n",
    "time.sleep(1)\n",
    "end = time.time()\n",
    "\n",
    "#Calculating runtime\n",
    "print (\"Total runtime of Random Forest program (in seconds) is\", end - begin)"
   ]
  },
  {
   "cell_type": "code",
   "execution_count": 30,
   "metadata": {},
   "outputs": [
    {
     "data": {
      "image/png": "[encoded data removed]",
      "text/plain": [
       "<Figure size 1080x1080 with 2 Axes>"
      ]
     },
     "metadata": {
      "needs_background": "light"
     },
     "output_type": "display_data"
    }
   ],
   "source": [
    "plt.figure(figsize = (15, 15))\n",
    "sns.heatmap(train_x.corr(), annot = True, cmap=\"RdYlGn\", vmin = -1, vmax = 1)\n",
    "plt.show() "
   ]
  },
  {
   "cell_type": "code",
   "execution_count": 31,
   "metadata": {},
   "outputs": [
    {
     "name": "stdout",
     "output_type": "stream",
     "text": [
      "Training Mean Absolute Error 97.06050098784324\n"
     ]
    }
   ],
   "source": [
    "# Predicting over the Train Set and calculating error\n",
    "train_predict = lr.predict(train_x)\n",
    "k = mae(train_predict, train_y)\n",
    "print('Training Mean Absolute Error', k )"
   ]
  },
  {
   "cell_type": "code",
   "execution_count": 32,
   "metadata": {},
   "outputs": [
    {
     "name": "stdout",
     "output_type": "stream",
     "text": [
      "Test Mean Absolute Error     99.06738452575686\n"
     ]
    }
   ],
   "source": [
    "# Predicting over the Test Set and calculating error\n",
    "test_predict = lr.predict(test_x)\n",
    "k = mae(test_predict, test_y)\n",
    "print('Test Mean Absolute Error    ', k )"
   ]
  },
  {
   "cell_type": "code",
   "execution_count": 33,
   "metadata": {},
   "outputs": [
    {
     "data": {
      "text/plain": [
       "array([ 36.50101006,  38.77709098,  39.31031753, -86.24903159,\n",
       "        35.99357793])"
      ]
     },
     "execution_count": 33,
     "metadata": {},
     "output_type": "execute_result"
    }
   ],
   "source": [
    "lr.coef_"
   ]
  },
  {
   "cell_type": "code",
   "execution_count": 34,
   "metadata": {},
   "outputs": [
    {
     "name": "stdout",
     "output_type": "stream",
     "text": [
      "         Variables  Coefficient\n",
      "0    scaled_T_left    36.501010\n",
      "1   scaled_T_right    38.777091\n",
      "2      scaled_time    39.310318\n",
      "3  scaled_location   -86.249032\n",
      "4     scaled_Alpha    35.993578\n"
     ]
    }
   ],
   "source": [
    "#Regression Coefficients of the variables in order \n",
    "Coeff_data = {'Variables': ['scaled_T_left', 'scaled_T_right', 'scaled_time', 'scaled_location','scaled_Alpha'], 'Coefficient': lr.coef_}\n",
    "df = pd.DataFrame(Coeff_data, columns = ['Variables', 'Coefficient'])\n",
    "\n",
    "print(df)"
   ]
  },
  {
   "cell_type": "code",
   "execution_count": 35,
   "metadata": {},
   "outputs": [
    {
     "data": {
      "text/plain": [
       "Text(0.5, 1.0, 'Coefficient plot')"
      ]
     },
     "execution_count": 35,
     "metadata": {},
     "output_type": "execute_result"
    },
    {
     "data": {
      "image/png": "[encoded data removed]",
      "text/plain": [
       "<Figure size 960x720 with 1 Axes>"
      ]
     },
     "metadata": {},
     "output_type": "display_data"
    }
   ],
   "source": [
    "plt.figure(figsize=(8, 6), dpi=120, facecolor='w', edgecolor='b')\n",
    "x = range(len(train_x.columns))\n",
    "y = lr.coef_\n",
    "plt.bar( x, y )\n",
    "plt.xlabel( \"Variables\")\n",
    "plt.ylabel('Coefficients')\n",
    "plt.title('Coefficient plot')"
   ]
  },
  {
   "cell_type": "code",
   "execution_count": 36,
   "metadata": {},
   "outputs": [
    {
     "data": {
      "text/plain": [
       "47.70031814356914"
      ]
     },
     "execution_count": 36,
     "metadata": {},
     "output_type": "execute_result"
    }
   ],
   "source": [
    "lr.score(train_x, train_y)*100"
   ]
  },
  {
   "cell_type": "code",
   "execution_count": 37,
   "metadata": {},
   "outputs": [
    {
     "data": {
      "text/plain": [
       "48.154463928432854"
      ]
     },
     "execution_count": 37,
     "metadata": {},
     "output_type": "execute_result"
    }
   ],
   "source": [
    "lr.score(test_x,test_y)*100"
   ]
  },
  {
   "cell_type": "code",
   "execution_count": 38,
   "metadata": {},
   "outputs": [
    {
     "name": "stdout",
     "output_type": "stream",
     "text": [
      "[259.87882174 317.14276129 339.49135686 ...  86.92370097 247.01932799\n",
      " 131.84042418]\n"
     ]
    }
   ],
   "source": [
    "y_pred = lr.predict(test_x)\n",
    "print (y_pred)"
   ]
  },
  {
   "cell_type": "code",
   "execution_count": 39,
   "metadata": {},
   "outputs": [
    {
     "data": {
      "text/html": [
       "<div>\n",
       "<style scoped>\n",
       "    .dataframe tbody tr th:only-of-type {\n",
       "        vertical-align: middle;\n",
       "    }\n",
       "\n",
       "    .dataframe tbody tr th {\n",
       "        vertical-align: top;\n",
       "    }\n",
       "\n",
       "    .dataframe thead th {\n",
       "        text-align: right;\n",
       "    }\n",
       "</style>\n",
       "<table border=\"1\" class=\"dataframe\">\n",
       "  <thead>\n",
       "    <tr style=\"text-align: right;\">\n",
       "      <th></th>\n",
       "      <th>Actual</th>\n",
       "      <th>Predicted</th>\n",
       "    </tr>\n",
       "  </thead>\n",
       "  <tbody>\n",
       "    <tr>\n",
       "      <th>640</th>\n",
       "      <td>300.000000</td>\n",
       "      <td>259.878822</td>\n",
       "    </tr>\n",
       "    <tr>\n",
       "      <th>2804</th>\n",
       "      <td>350.000000</td>\n",
       "      <td>317.142761</td>\n",
       "    </tr>\n",
       "    <tr>\n",
       "      <th>2746</th>\n",
       "      <td>400.000000</td>\n",
       "      <td>339.491357</td>\n",
       "    </tr>\n",
       "    <tr>\n",
       "      <th>4313</th>\n",
       "      <td>400.000000</td>\n",
       "      <td>226.006483</td>\n",
       "    </tr>\n",
       "    <tr>\n",
       "      <th>1158</th>\n",
       "      <td>60.078125</td>\n",
       "      <td>157.725076</td>\n",
       "    </tr>\n",
       "    <tr>\n",
       "      <th>...</th>\n",
       "      <td>...</td>\n",
       "      <td>...</td>\n",
       "    </tr>\n",
       "    <tr>\n",
       "      <th>4888</th>\n",
       "      <td>27.000000</td>\n",
       "      <td>86.144995</td>\n",
       "    </tr>\n",
       "    <tr>\n",
       "      <th>3955</th>\n",
       "      <td>30.378588</td>\n",
       "      <td>184.950519</td>\n",
       "    </tr>\n",
       "    <tr>\n",
       "      <th>3914</th>\n",
       "      <td>49.905918</td>\n",
       "      <td>86.923701</td>\n",
       "    </tr>\n",
       "    <tr>\n",
       "      <th>3487</th>\n",
       "      <td>28.038563</td>\n",
       "      <td>247.019328</td>\n",
       "    </tr>\n",
       "    <tr>\n",
       "      <th>4499</th>\n",
       "      <td>27.114826</td>\n",
       "      <td>131.840424</td>\n",
       "    </tr>\n",
       "  </tbody>\n",
       "</table>\n",
       "<p>1456 rows × 2 columns</p>\n",
       "</div>"
      ],
      "text/plain": [
       "          Actual   Predicted\n",
       "640   300.000000  259.878822\n",
       "2804  350.000000  317.142761\n",
       "2746  400.000000  339.491357\n",
       "4313  400.000000  226.006483\n",
       "1158   60.078125  157.725076\n",
       "...          ...         ...\n",
       "4888   27.000000   86.144995\n",
       "3955   30.378588  184.950519\n",
       "3914   49.905918   86.923701\n",
       "3487   28.038563  247.019328\n",
       "4499   27.114826  131.840424\n",
       "\n",
       "[1456 rows x 2 columns]"
      ]
     },
     "execution_count": 39,
     "metadata": {},
     "output_type": "execute_result"
    }
   ],
   "source": [
    "df=pd.DataFrame({'Actual':test_y, 'Predicted':y_pred})\n",
    "df"
   ]
  },
  {
   "cell_type": "code",
   "execution_count": 40,
   "metadata": {},
   "outputs": [
    {
     "data": {
      "image/png": "[encoded data removed]",
      "text/plain": [
       "<Figure size 360x504 with 1 Axes>"
      ]
     },
     "metadata": {
      "needs_background": "light"
     },
     "output_type": "display_data"
    }
   ],
   "source": [
    "import seaborn as sns\n",
    "plt.figure(figsize=(5, 7))\n",
    "\n",
    "\n",
    "ax = sns.distplot(y, hist=False, color=\"r\", label=\"Actual Value\")\n",
    "sns.distplot(y_pred, hist=False, color=\"b\", label=\"Fitted Values\" , ax=ax)\n",
    "\n",
    "\n",
    "plt.title('Actual vs Fitted Values for Temperature (Linear Regression)')\n",
    "\n",
    "\n",
    "plt.show()\n",
    "plt.close()"
   ]
  },
  {
   "cell_type": "markdown",
   "metadata": {},
   "source": [
    "## Using Analytical Solution to create features"
   ]
  },
  {
   "cell_type": "code",
   "execution_count": 41,
   "metadata": {},
   "outputs": [],
   "source": [
    "#Taking Negative Natural Logarithm values of Diffusion Coefficient\n",
    "#data['negLog_DC'] = np.log(data['Diffusion Coeff'])*(-1)\n",
    "\n",
    "data['exp t1'] = np.exp((-10)* data['Time(s)'])\n",
    "\n",
    "data['exp t2'] = np.exp((-40)* data['Time(s)'])\n",
    "\n",
    "data['exp t3'] = np.exp((-90)* data['Time(s)'])\n",
    "\n",
    "data['sq_x/L'] = np.square(data['x/L'])\n",
    "\n",
    "data['Tl-Tr'] = data['T_left'] - data['T_right']\n",
    "\n",
    "data['Tl+Tr'] = data['T_left'] + data['T_right']\n",
    "\n",
    "data['(sq_x/L)-x/L'] = data['sq_x/L'] - data['x/L']\n",
    "\n",
    "data['deltaT_x/L'] = data['Tl-Tr'] * data['x/L']\n",
    "\n",
    "data['Timespace1'] = data['(sq_x/L)-x/L'] * data['Tl+Tr'] * data['exp t1'] \n",
    "\n",
    "data['Timespace2'] = data['(sq_x/L)-x/L'] * data['Tl-Tr'] * data['exp t2']\n",
    "\n",
    "data['Timespace3'] = data['(sq_x/L)-x/L'] * data['Tl+Tr'] * data['exp t3']\n",
    "#data['DCParameter'] = (data['Diffusion Coeff'] * data['Time(s)'] * data['Tl-Tr']) / (data['sq_x/L'])\n"
   ]
  },
  {
   "cell_type": "code",
   "execution_count": 42,
   "metadata": {},
   "outputs": [
    {
     "data": {
      "text/html": [
       "<div>\n",
       "<style scoped>\n",
       "    .dataframe tbody tr th:only-of-type {\n",
       "        vertical-align: middle;\n",
       "    }\n",
       "\n",
       "    .dataframe tbody tr th {\n",
       "        vertical-align: top;\n",
       "    }\n",
       "\n",
       "    .dataframe thead th {\n",
       "        text-align: right;\n",
       "    }\n",
       "</style>\n",
       "<table border=\"1\" class=\"dataframe\">\n",
       "  <thead>\n",
       "    <tr style=\"text-align: right;\">\n",
       "      <th></th>\n",
       "      <th>Time(s)</th>\n",
       "      <th>Alpha</th>\n",
       "      <th>X</th>\n",
       "      <th>x/L</th>\n",
       "      <th>T_left</th>\n",
       "      <th>T_right</th>\n",
       "      <th>T_initial</th>\n",
       "      <th>Temperature</th>\n",
       "      <th>scaled_T_left</th>\n",
       "      <th>scaled_T_right</th>\n",
       "      <th>...</th>\n",
       "      <th>exp t2</th>\n",
       "      <th>exp t3</th>\n",
       "      <th>sq_x/L</th>\n",
       "      <th>Tl-Tr</th>\n",
       "      <th>Tl+Tr</th>\n",
       "      <th>(sq_x/L)-x/L</th>\n",
       "      <th>deltaT_x/L</th>\n",
       "      <th>Timespace1</th>\n",
       "      <th>Timespace2</th>\n",
       "      <th>Timespace3</th>\n",
       "    </tr>\n",
       "  </thead>\n",
       "  <tbody>\n",
       "    <tr>\n",
       "      <th>5807</th>\n",
       "      <td>0.02</td>\n",
       "      <td>0.000001</td>\n",
       "      <td>0.01</td>\n",
       "      <td>1.0</td>\n",
       "      <td>600</td>\n",
       "      <td>300</td>\n",
       "      <td>27</td>\n",
       "      <td>300.0</td>\n",
       "      <td>1.341641</td>\n",
       "      <td>1.341641</td>\n",
       "      <td>...</td>\n",
       "      <td>4.493290e-01</td>\n",
       "      <td>1.652989e-01</td>\n",
       "      <td>1.0</td>\n",
       "      <td>300</td>\n",
       "      <td>900</td>\n",
       "      <td>0.0</td>\n",
       "      <td>300.0</td>\n",
       "      <td>0.0</td>\n",
       "      <td>0.0</td>\n",
       "      <td>0.0</td>\n",
       "    </tr>\n",
       "    <tr>\n",
       "      <th>5808</th>\n",
       "      <td>0.03</td>\n",
       "      <td>0.000001</td>\n",
       "      <td>0.01</td>\n",
       "      <td>1.0</td>\n",
       "      <td>600</td>\n",
       "      <td>300</td>\n",
       "      <td>27</td>\n",
       "      <td>300.0</td>\n",
       "      <td>1.341641</td>\n",
       "      <td>1.341641</td>\n",
       "      <td>...</td>\n",
       "      <td>3.011942e-01</td>\n",
       "      <td>6.720551e-02</td>\n",
       "      <td>1.0</td>\n",
       "      <td>300</td>\n",
       "      <td>900</td>\n",
       "      <td>0.0</td>\n",
       "      <td>300.0</td>\n",
       "      <td>0.0</td>\n",
       "      <td>0.0</td>\n",
       "      <td>0.0</td>\n",
       "    </tr>\n",
       "    <tr>\n",
       "      <th>5809</th>\n",
       "      <td>0.05</td>\n",
       "      <td>0.000001</td>\n",
       "      <td>0.01</td>\n",
       "      <td>1.0</td>\n",
       "      <td>600</td>\n",
       "      <td>300</td>\n",
       "      <td>27</td>\n",
       "      <td>300.0</td>\n",
       "      <td>1.341641</td>\n",
       "      <td>1.341641</td>\n",
       "      <td>...</td>\n",
       "      <td>1.353353e-01</td>\n",
       "      <td>1.110900e-02</td>\n",
       "      <td>1.0</td>\n",
       "      <td>300</td>\n",
       "      <td>900</td>\n",
       "      <td>0.0</td>\n",
       "      <td>300.0</td>\n",
       "      <td>0.0</td>\n",
       "      <td>0.0</td>\n",
       "      <td>0.0</td>\n",
       "    </tr>\n",
       "    <tr>\n",
       "      <th>5810</th>\n",
       "      <td>0.10</td>\n",
       "      <td>0.000001</td>\n",
       "      <td>0.01</td>\n",
       "      <td>1.0</td>\n",
       "      <td>600</td>\n",
       "      <td>300</td>\n",
       "      <td>27</td>\n",
       "      <td>300.0</td>\n",
       "      <td>1.341641</td>\n",
       "      <td>1.341641</td>\n",
       "      <td>...</td>\n",
       "      <td>1.831564e-02</td>\n",
       "      <td>1.234098e-04</td>\n",
       "      <td>1.0</td>\n",
       "      <td>300</td>\n",
       "      <td>900</td>\n",
       "      <td>0.0</td>\n",
       "      <td>300.0</td>\n",
       "      <td>0.0</td>\n",
       "      <td>0.0</td>\n",
       "      <td>0.0</td>\n",
       "    </tr>\n",
       "    <tr>\n",
       "      <th>5811</th>\n",
       "      <td>0.20</td>\n",
       "      <td>0.000001</td>\n",
       "      <td>0.01</td>\n",
       "      <td>1.0</td>\n",
       "      <td>600</td>\n",
       "      <td>300</td>\n",
       "      <td>27</td>\n",
       "      <td>300.0</td>\n",
       "      <td>1.341641</td>\n",
       "      <td>1.341641</td>\n",
       "      <td>...</td>\n",
       "      <td>3.354626e-04</td>\n",
       "      <td>1.522998e-08</td>\n",
       "      <td>1.0</td>\n",
       "      <td>300</td>\n",
       "      <td>900</td>\n",
       "      <td>0.0</td>\n",
       "      <td>300.0</td>\n",
       "      <td>0.0</td>\n",
       "      <td>0.0</td>\n",
       "      <td>0.0</td>\n",
       "    </tr>\n",
       "    <tr>\n",
       "      <th>5812</th>\n",
       "      <td>0.30</td>\n",
       "      <td>0.000001</td>\n",
       "      <td>0.01</td>\n",
       "      <td>1.0</td>\n",
       "      <td>600</td>\n",
       "      <td>300</td>\n",
       "      <td>27</td>\n",
       "      <td>300.0</td>\n",
       "      <td>1.341641</td>\n",
       "      <td>1.341641</td>\n",
       "      <td>...</td>\n",
       "      <td>6.144212e-06</td>\n",
       "      <td>1.879529e-12</td>\n",
       "      <td>1.0</td>\n",
       "      <td>300</td>\n",
       "      <td>900</td>\n",
       "      <td>0.0</td>\n",
       "      <td>300.0</td>\n",
       "      <td>0.0</td>\n",
       "      <td>0.0</td>\n",
       "      <td>0.0</td>\n",
       "    </tr>\n",
       "    <tr>\n",
       "      <th>5813</th>\n",
       "      <td>0.50</td>\n",
       "      <td>0.000001</td>\n",
       "      <td>0.01</td>\n",
       "      <td>1.0</td>\n",
       "      <td>600</td>\n",
       "      <td>300</td>\n",
       "      <td>27</td>\n",
       "      <td>300.0</td>\n",
       "      <td>1.341641</td>\n",
       "      <td>1.341641</td>\n",
       "      <td>...</td>\n",
       "      <td>2.061154e-09</td>\n",
       "      <td>2.862519e-20</td>\n",
       "      <td>1.0</td>\n",
       "      <td>300</td>\n",
       "      <td>900</td>\n",
       "      <td>0.0</td>\n",
       "      <td>300.0</td>\n",
       "      <td>0.0</td>\n",
       "      <td>0.0</td>\n",
       "      <td>0.0</td>\n",
       "    </tr>\n",
       "    <tr>\n",
       "      <th>5814</th>\n",
       "      <td>1.00</td>\n",
       "      <td>0.000001</td>\n",
       "      <td>0.01</td>\n",
       "      <td>1.0</td>\n",
       "      <td>600</td>\n",
       "      <td>300</td>\n",
       "      <td>27</td>\n",
       "      <td>300.0</td>\n",
       "      <td>1.341641</td>\n",
       "      <td>1.341641</td>\n",
       "      <td>...</td>\n",
       "      <td>4.248354e-18</td>\n",
       "      <td>8.194013e-40</td>\n",
       "      <td>1.0</td>\n",
       "      <td>300</td>\n",
       "      <td>900</td>\n",
       "      <td>0.0</td>\n",
       "      <td>300.0</td>\n",
       "      <td>0.0</td>\n",
       "      <td>0.0</td>\n",
       "      <td>0.0</td>\n",
       "    </tr>\n",
       "    <tr>\n",
       "      <th>5815</th>\n",
       "      <td>2.00</td>\n",
       "      <td>0.000001</td>\n",
       "      <td>0.01</td>\n",
       "      <td>1.0</td>\n",
       "      <td>600</td>\n",
       "      <td>300</td>\n",
       "      <td>27</td>\n",
       "      <td>300.0</td>\n",
       "      <td>1.341641</td>\n",
       "      <td>1.341641</td>\n",
       "      <td>...</td>\n",
       "      <td>1.804851e-35</td>\n",
       "      <td>6.714184e-79</td>\n",
       "      <td>1.0</td>\n",
       "      <td>300</td>\n",
       "      <td>900</td>\n",
       "      <td>0.0</td>\n",
       "      <td>300.0</td>\n",
       "      <td>0.0</td>\n",
       "      <td>0.0</td>\n",
       "      <td>0.0</td>\n",
       "    </tr>\n",
       "    <tr>\n",
       "      <th>5816</th>\n",
       "      <td>3.00</td>\n",
       "      <td>0.000001</td>\n",
       "      <td>0.01</td>\n",
       "      <td>1.0</td>\n",
       "      <td>600</td>\n",
       "      <td>300</td>\n",
       "      <td>27</td>\n",
       "      <td>300.0</td>\n",
       "      <td>1.341641</td>\n",
       "      <td>1.341641</td>\n",
       "      <td>...</td>\n",
       "      <td>7.667648e-53</td>\n",
       "      <td>5.501611e-118</td>\n",
       "      <td>1.0</td>\n",
       "      <td>300</td>\n",
       "      <td>900</td>\n",
       "      <td>0.0</td>\n",
       "      <td>300.0</td>\n",
       "      <td>0.0</td>\n",
       "      <td>0.0</td>\n",
       "      <td>0.0</td>\n",
       "    </tr>\n",
       "    <tr>\n",
       "      <th>5817</th>\n",
       "      <td>5.00</td>\n",
       "      <td>0.000001</td>\n",
       "      <td>0.01</td>\n",
       "      <td>1.0</td>\n",
       "      <td>600</td>\n",
       "      <td>300</td>\n",
       "      <td>27</td>\n",
       "      <td>300.0</td>\n",
       "      <td>1.341641</td>\n",
       "      <td>1.341641</td>\n",
       "      <td>...</td>\n",
       "      <td>1.383897e-87</td>\n",
       "      <td>3.693883e-196</td>\n",
       "      <td>1.0</td>\n",
       "      <td>300</td>\n",
       "      <td>900</td>\n",
       "      <td>0.0</td>\n",
       "      <td>300.0</td>\n",
       "      <td>0.0</td>\n",
       "      <td>0.0</td>\n",
       "      <td>0.0</td>\n",
       "    </tr>\n",
       "    <tr>\n",
       "      <th>5818</th>\n",
       "      <td>10.00</td>\n",
       "      <td>0.000001</td>\n",
       "      <td>0.01</td>\n",
       "      <td>1.0</td>\n",
       "      <td>600</td>\n",
       "      <td>300</td>\n",
       "      <td>27</td>\n",
       "      <td>300.0</td>\n",
       "      <td>1.341641</td>\n",
       "      <td>1.341641</td>\n",
       "      <td>...</td>\n",
       "      <td>1.915170e-174</td>\n",
       "      <td>0.000000e+00</td>\n",
       "      <td>1.0</td>\n",
       "      <td>300</td>\n",
       "      <td>900</td>\n",
       "      <td>0.0</td>\n",
       "      <td>300.0</td>\n",
       "      <td>0.0</td>\n",
       "      <td>0.0</td>\n",
       "      <td>0.0</td>\n",
       "    </tr>\n",
       "    <tr>\n",
       "      <th>5819</th>\n",
       "      <td>20.00</td>\n",
       "      <td>0.000001</td>\n",
       "      <td>0.01</td>\n",
       "      <td>1.0</td>\n",
       "      <td>600</td>\n",
       "      <td>300</td>\n",
       "      <td>27</td>\n",
       "      <td>300.0</td>\n",
       "      <td>1.341641</td>\n",
       "      <td>1.341641</td>\n",
       "      <td>...</td>\n",
       "      <td>0.000000e+00</td>\n",
       "      <td>0.000000e+00</td>\n",
       "      <td>1.0</td>\n",
       "      <td>300</td>\n",
       "      <td>900</td>\n",
       "      <td>0.0</td>\n",
       "      <td>300.0</td>\n",
       "      <td>0.0</td>\n",
       "      <td>0.0</td>\n",
       "      <td>0.0</td>\n",
       "    </tr>\n",
       "    <tr>\n",
       "      <th>5820</th>\n",
       "      <td>30.00</td>\n",
       "      <td>0.000001</td>\n",
       "      <td>0.01</td>\n",
       "      <td>1.0</td>\n",
       "      <td>600</td>\n",
       "      <td>300</td>\n",
       "      <td>27</td>\n",
       "      <td>300.0</td>\n",
       "      <td>1.341641</td>\n",
       "      <td>1.341641</td>\n",
       "      <td>...</td>\n",
       "      <td>0.000000e+00</td>\n",
       "      <td>0.000000e+00</td>\n",
       "      <td>1.0</td>\n",
       "      <td>300</td>\n",
       "      <td>900</td>\n",
       "      <td>0.0</td>\n",
       "      <td>300.0</td>\n",
       "      <td>0.0</td>\n",
       "      <td>0.0</td>\n",
       "      <td>0.0</td>\n",
       "    </tr>\n",
       "    <tr>\n",
       "      <th>5821</th>\n",
       "      <td>50.00</td>\n",
       "      <td>0.000001</td>\n",
       "      <td>0.01</td>\n",
       "      <td>1.0</td>\n",
       "      <td>600</td>\n",
       "      <td>300</td>\n",
       "      <td>27</td>\n",
       "      <td>300.0</td>\n",
       "      <td>1.341641</td>\n",
       "      <td>1.341641</td>\n",
       "      <td>...</td>\n",
       "      <td>0.000000e+00</td>\n",
       "      <td>0.000000e+00</td>\n",
       "      <td>1.0</td>\n",
       "      <td>300</td>\n",
       "      <td>900</td>\n",
       "      <td>0.0</td>\n",
       "      <td>300.0</td>\n",
       "      <td>0.0</td>\n",
       "      <td>0.0</td>\n",
       "      <td>0.0</td>\n",
       "    </tr>\n",
       "    <tr>\n",
       "      <th>5822</th>\n",
       "      <td>100.00</td>\n",
       "      <td>0.000001</td>\n",
       "      <td>0.01</td>\n",
       "      <td>1.0</td>\n",
       "      <td>600</td>\n",
       "      <td>300</td>\n",
       "      <td>27</td>\n",
       "      <td>300.0</td>\n",
       "      <td>1.341641</td>\n",
       "      <td>1.341641</td>\n",
       "      <td>...</td>\n",
       "      <td>0.000000e+00</td>\n",
       "      <td>0.000000e+00</td>\n",
       "      <td>1.0</td>\n",
       "      <td>300</td>\n",
       "      <td>900</td>\n",
       "      <td>0.0</td>\n",
       "      <td>300.0</td>\n",
       "      <td>0.0</td>\n",
       "      <td>0.0</td>\n",
       "      <td>0.0</td>\n",
       "    </tr>\n",
       "    <tr>\n",
       "      <th>5823</th>\n",
       "      <td>200.00</td>\n",
       "      <td>0.000001</td>\n",
       "      <td>0.01</td>\n",
       "      <td>1.0</td>\n",
       "      <td>600</td>\n",
       "      <td>300</td>\n",
       "      <td>27</td>\n",
       "      <td>300.0</td>\n",
       "      <td>1.341641</td>\n",
       "      <td>1.341641</td>\n",
       "      <td>...</td>\n",
       "      <td>0.000000e+00</td>\n",
       "      <td>0.000000e+00</td>\n",
       "      <td>1.0</td>\n",
       "      <td>300</td>\n",
       "      <td>900</td>\n",
       "      <td>0.0</td>\n",
       "      <td>300.0</td>\n",
       "      <td>0.0</td>\n",
       "      <td>0.0</td>\n",
       "      <td>0.0</td>\n",
       "    </tr>\n",
       "  </tbody>\n",
       "</table>\n",
       "<p>17 rows × 24 columns</p>\n",
       "</div>"
      ],
      "text/plain": [
       "      Time(s)     Alpha     X  x/L  T_left  T_right  T_initial  Temperature  \\\n",
       "5807     0.02  0.000001  0.01  1.0     600      300         27        300.0   \n",
       "5808     0.03  0.000001  0.01  1.0     600      300         27        300.0   \n",
       "5809     0.05  0.000001  0.01  1.0     600      300         27        300.0   \n",
       "5810     0.10  0.000001  0.01  1.0     600      300         27        300.0   \n",
       "5811     0.20  0.000001  0.01  1.0     600      300         27        300.0   \n",
       "5812     0.30  0.000001  0.01  1.0     600      300         27        300.0   \n",
       "5813     0.50  0.000001  0.01  1.0     600      300         27        300.0   \n",
       "5814     1.00  0.000001  0.01  1.0     600      300         27        300.0   \n",
       "5815     2.00  0.000001  0.01  1.0     600      300         27        300.0   \n",
       "5816     3.00  0.000001  0.01  1.0     600      300         27        300.0   \n",
       "5817     5.00  0.000001  0.01  1.0     600      300         27        300.0   \n",
       "5818    10.00  0.000001  0.01  1.0     600      300         27        300.0   \n",
       "5819    20.00  0.000001  0.01  1.0     600      300         27        300.0   \n",
       "5820    30.00  0.000001  0.01  1.0     600      300         27        300.0   \n",
       "5821    50.00  0.000001  0.01  1.0     600      300         27        300.0   \n",
       "5822   100.00  0.000001  0.01  1.0     600      300         27        300.0   \n",
       "5823   200.00  0.000001  0.01  1.0     600      300         27        300.0   \n",
       "\n",
       "      scaled_T_left  scaled_T_right  ...         exp t2         exp t3  \\\n",
       "5807       1.341641        1.341641  ...   4.493290e-01   1.652989e-01   \n",
       "5808       1.341641        1.341641  ...   3.011942e-01   6.720551e-02   \n",
       "5809       1.341641        1.341641  ...   1.353353e-01   1.110900e-02   \n",
       "5810       1.341641        1.341641  ...   1.831564e-02   1.234098e-04   \n",
       "5811       1.341641        1.341641  ...   3.354626e-04   1.522998e-08   \n",
       "5812       1.341641        1.341641  ...   6.144212e-06   1.879529e-12   \n",
       "5813       1.341641        1.341641  ...   2.061154e-09   2.862519e-20   \n",
       "5814       1.341641        1.341641  ...   4.248354e-18   8.194013e-40   \n",
       "5815       1.341641        1.341641  ...   1.804851e-35   6.714184e-79   \n",
       "5816       1.341641        1.341641  ...   7.667648e-53  5.501611e-118   \n",
       "5817       1.341641        1.341641  ...   1.383897e-87  3.693883e-196   \n",
       "5818       1.341641        1.341641  ...  1.915170e-174   0.000000e+00   \n",
       "5819       1.341641        1.341641  ...   0.000000e+00   0.000000e+00   \n",
       "5820       1.341641        1.341641  ...   0.000000e+00   0.000000e+00   \n",
       "5821       1.341641        1.341641  ...   0.000000e+00   0.000000e+00   \n",
       "5822       1.341641        1.341641  ...   0.000000e+00   0.000000e+00   \n",
       "5823       1.341641        1.341641  ...   0.000000e+00   0.000000e+00   \n",
       "\n",
       "      sq_x/L  Tl-Tr  Tl+Tr  (sq_x/L)-x/L  deltaT_x/L  Timespace1  Timespace2  \\\n",
       "5807     1.0    300    900           0.0       300.0         0.0         0.0   \n",
       "5808     1.0    300    900           0.0       300.0         0.0         0.0   \n",
       "5809     1.0    300    900           0.0       300.0         0.0         0.0   \n",
       "5810     1.0    300    900           0.0       300.0         0.0         0.0   \n",
       "5811     1.0    300    900           0.0       300.0         0.0         0.0   \n",
       "5812     1.0    300    900           0.0       300.0         0.0         0.0   \n",
       "5813     1.0    300    900           0.0       300.0         0.0         0.0   \n",
       "5814     1.0    300    900           0.0       300.0         0.0         0.0   \n",
       "5815     1.0    300    900           0.0       300.0         0.0         0.0   \n",
       "5816     1.0    300    900           0.0       300.0         0.0         0.0   \n",
       "5817     1.0    300    900           0.0       300.0         0.0         0.0   \n",
       "5818     1.0    300    900           0.0       300.0         0.0         0.0   \n",
       "5819     1.0    300    900           0.0       300.0         0.0         0.0   \n",
       "5820     1.0    300    900           0.0       300.0         0.0         0.0   \n",
       "5821     1.0    300    900           0.0       300.0         0.0         0.0   \n",
       "5822     1.0    300    900           0.0       300.0         0.0         0.0   \n",
       "5823     1.0    300    900           0.0       300.0         0.0         0.0   \n",
       "\n",
       "      Timespace3  \n",
       "5807         0.0  \n",
       "5808         0.0  \n",
       "5809         0.0  \n",
       "5810         0.0  \n",
       "5811         0.0  \n",
       "5812         0.0  \n",
       "5813         0.0  \n",
       "5814         0.0  \n",
       "5815         0.0  \n",
       "5816         0.0  \n",
       "5817         0.0  \n",
       "5818         0.0  \n",
       "5819         0.0  \n",
       "5820         0.0  \n",
       "5821         0.0  \n",
       "5822         0.0  \n",
       "5823         0.0  \n",
       "\n",
       "[17 rows x 24 columns]"
      ]
     },
     "execution_count": 42,
     "metadata": {},
     "output_type": "execute_result"
    }
   ],
   "source": [
    "data.tail(17)"
   ]
  },
  {
   "cell_type": "code",
   "execution_count": 43,
   "metadata": {},
   "outputs": [
    {
     "data": {
      "image/png": "[encoded data removed]",
      "text/plain": [
       "<Figure size 432x288 with 1 Axes>"
      ]
     },
     "metadata": {
      "needs_background": "light"
     },
     "output_type": "display_data"
    }
   ],
   "source": [
    "plt.scatter(data['x/L'], data['Temperature'], color='green')\n",
    "plt.title('Temperature Vs Location', fontsize=14)\n",
    "plt.xlabel('Location', fontsize=14)\n",
    "plt.ylabel('Temperature', fontsize=14)\n",
    "plt.grid(True)\n",
    "plt.show()"
   ]
  },
  {
   "cell_type": "code",
   "execution_count": 44,
   "metadata": {},
   "outputs": [
    {
     "data": {
      "image/png": "[encoded data removed]",
      "text/plain": [
       "<Figure size 432x288 with 1 Axes>"
      ]
     },
     "metadata": {
      "needs_background": "light"
     },
     "output_type": "display_data"
    }
   ],
   "source": [
    "plt.scatter(data['Timespace1'], data['Temperature'], color='green')\n",
    "plt.title('Temperature Vs Timespace Parameter 1', fontsize=14)\n",
    "plt.xlabel('Timespace1', fontsize=14)\n",
    "plt.ylabel('Temperature', fontsize=14)\n",
    "plt.grid(True)\n",
    "plt.show()"
   ]
  },
  {
   "cell_type": "code",
   "execution_count": 45,
   "metadata": {},
   "outputs": [
    {
     "data": {
      "image/png": "[encoded data removed]",
      "text/plain": [
       "<Figure size 432x288 with 1 Axes>"
      ]
     },
     "metadata": {
      "needs_background": "light"
     },
     "output_type": "display_data"
    }
   ],
   "source": [
    "plt.scatter(data['Timespace2'], data['Temperature'], color='green')\n",
    "plt.title('Temperature Vs Timespace Parameter 2', fontsize=14)\n",
    "plt.xlabel('Timespace2', fontsize=14)\n",
    "plt.ylabel('Temperature', fontsize=14)\n",
    "plt.grid(True)\n",
    "plt.show()"
   ]
  },
  {
   "cell_type": "code",
   "execution_count": 46,
   "metadata": {},
   "outputs": [
    {
     "data": {
      "image/png": "[encoded data removed]",
      "text/plain": [
       "<Figure size 432x288 with 1 Axes>"
      ]
     },
     "metadata": {
      "needs_background": "light"
     },
     "output_type": "display_data"
    }
   ],
   "source": [
    "plt.scatter(data['Timespace3'], data['Temperature'], color='green')\n",
    "plt.title('Temperature Vs Timespace Parameter 3', fontsize=14)\n",
    "plt.xlabel('Timespace3', fontsize=14)\n",
    "plt.ylabel('Temperature', fontsize=14)\n",
    "plt.grid(True)\n",
    "plt.show()"
   ]
  },
  {
   "cell_type": "code",
   "execution_count": 47,
   "metadata": {},
   "outputs": [
    {
     "data": {
      "text/plain": [
       "((5824, 6), (5824,))"
      ]
     },
     "execution_count": 47,
     "metadata": {},
     "output_type": "execute_result"
    }
   ],
   "source": [
    "#seperating independent and dependent variables, Temperature is the only dependent variable in our case\n",
    "x = data.loc[:, ['T_left', 'Alpha', 'deltaT_x/L','Timespace1', 'Timespace2', 'Timespace3']]\n",
    "y = data['Temperature']\n",
    "x.shape, y.shape"
   ]
  },
  {
   "cell_type": "code",
   "execution_count": 48,
   "metadata": {},
   "outputs": [],
   "source": [
    "#Creating Training-Testing data from the new data frame\n",
    "\n",
    "from sklearn.model_selection import train_test_split\n",
    "train_x,test_x,train_y,test_y = train_test_split(x, y , test_size = 0.25, random_state = 100)"
   ]
  },
  {
   "cell_type": "code",
   "execution_count": 49,
   "metadata": {},
   "outputs": [],
   "source": [
    "#Importing Linear Regression and metric mean absolute error\n",
    "\n",
    "from sklearn.linear_model import LinearRegression as LR\n",
    "from sklearn.metrics import mean_absolute_error as mae"
   ]
  },
  {
   "cell_type": "code",
   "execution_count": 50,
   "metadata": {},
   "outputs": [
    {
     "name": "stdout",
     "output_type": "stream",
     "text": [
      "-17.399506662003574\n"
     ]
    }
   ],
   "source": [
    "# Creating instance of Linear Regresssion\n",
    "lr = LR()\n",
    "\n",
    "# Fitting the model\n",
    "lr.fit(train_x, train_y)\n",
    "\n",
    "print(lr.intercept_) #Intercept of the Multiple Linear Regression"
   ]
  },
  {
   "cell_type": "code",
   "execution_count": 51,
   "metadata": {},
   "outputs": [
    {
     "data": {
      "image/png": "[encoded data removed]",
      "text/plain": [
       "<Figure size 1080x1080 with 2 Axes>"
      ]
     },
     "metadata": {
      "needs_background": "light"
     },
     "output_type": "display_data"
    }
   ],
   "source": [
    "plt.figure(figsize = (15, 15))\n",
    "sns.heatmap(train_x.corr(), annot = True, cmap=\"RdYlGn\", vmin = -1, vmax = 1)\n",
    "plt.show()   "
   ]
  },
  {
   "cell_type": "code",
   "execution_count": 52,
   "metadata": {},
   "outputs": [
    {
     "name": "stdout",
     "output_type": "stream",
     "text": [
      "Training Mean Absolute Error 61.34834008687789\n"
     ]
    }
   ],
   "source": [
    "# Predicting over the Train Set and calculating error\n",
    "train_predict = lr.predict(train_x)\n",
    "k = mae(train_predict, train_y)\n",
    "print('Training Mean Absolute Error', k )"
   ]
  },
  {
   "cell_type": "code",
   "execution_count": 53,
   "metadata": {},
   "outputs": [
    {
     "name": "stdout",
     "output_type": "stream",
     "text": [
      "Test Mean Absolute Error     60.31800585234076\n"
     ]
    }
   ],
   "source": [
    "# Predicting over the Test Set and calculating error\n",
    "test_predict = lr.predict(test_x)\n",
    "k = mae(test_predict, test_y)\n",
    "print('Test Mean Absolute Error    ', k )"
   ]
  },
  {
   "cell_type": "code",
   "execution_count": 54,
   "metadata": {},
   "outputs": [
    {
     "data": {
      "text/plain": [
       "array([ 8.28598593e-01,  7.34208998e+05, -8.65068332e-01,  2.92989266e+00,\n",
       "       -9.45872208e-01, -1.57132942e+00])"
      ]
     },
     "execution_count": 54,
     "metadata": {},
     "output_type": "execute_result"
    }
   ],
   "source": [
    "lr.coef_"
   ]
  },
  {
   "cell_type": "code",
   "execution_count": 56,
   "metadata": {},
   "outputs": [
    {
     "name": "stdout",
     "output_type": "stream",
     "text": [
      "    Variables    Coefficient\n",
      "0      T_left       0.828599\n",
      "1  deltaT_x/L  734208.998203\n",
      "2       Alpha      -0.865068\n",
      "3  Timespace1       2.929893\n",
      "4  Timespace2      -0.945872\n",
      "5  Timespace3      -1.571329\n"
     ]
    }
   ],
   "source": [
    "#Regression Coefficients of the variables in order \n",
    "Coeff_data = {'Variables': ['T_left', 'deltaT_x/L', 'Alpha', 'Timespace1', 'Timespace2','Timespace3'], 'Coefficient': lr.coef_}\n",
    "df = pd.DataFrame(Coeff_data, columns = ['Variables', 'Coefficient'])\n",
    "\n",
    "print(df)"
   ]
  },
  {
   "cell_type": "code",
   "execution_count": 57,
   "metadata": {},
   "outputs": [
    {
     "data": {
      "text/plain": [
       "Text(0.5, 1.0, 'Coefficient plot')"
      ]
     },
     "execution_count": 57,
     "metadata": {},
     "output_type": "execute_result"
    },
    {
     "data": {
      "image/png": "[encoded data removed]",
      "text/plain": [
       "<Figure size 960x720 with 1 Axes>"
      ]
     },
     "metadata": {},
     "output_type": "display_data"
    }
   ],
   "source": [
    "#Unscaled Coefficient vs Variable plot\n",
    "plt.figure(figsize=(8, 6), dpi=120, facecolor='w', edgecolor='b')\n",
    "x = range(len(train_x.columns))\n",
    "y = lr.coef_\n",
    "plt.bar( x, y )\n",
    "plt.xlabel( \"Variables\")\n",
    "plt.ylabel('Coefficients')\n",
    "plt.title('Coefficient plot')"
   ]
  },
  {
   "cell_type": "code",
   "execution_count": 58,
   "metadata": {},
   "outputs": [
    {
     "data": {
      "text/plain": [
       "74.63110580282039"
      ]
     },
     "execution_count": 58,
     "metadata": {},
     "output_type": "execute_result"
    }
   ],
   "source": [
    "lr.score(train_x, train_y)*100"
   ]
  },
  {
   "cell_type": "code",
   "execution_count": 59,
   "metadata": {},
   "outputs": [
    {
     "data": {
      "text/plain": [
       "77.38855940797147"
      ]
     },
     "execution_count": 59,
     "metadata": {},
     "output_type": "execute_result"
    }
   ],
   "source": [
    "lr.score(test_x,test_y)*100"
   ]
  },
  {
   "cell_type": "code",
   "execution_count": 60,
   "metadata": {},
   "outputs": [
    {
     "name": "stdout",
     "output_type": "stream",
     "text": [
      "-17.399506692414803\n"
     ]
    }
   ],
   "source": [
    "# Creating instance of Linear Regresssion\n",
    "lr_2 = LR(normalize = True)\n",
    "\n",
    "# Fitting the model\n",
    "lr_2.fit(train_x, train_y)\n",
    "print (lr_2.intercept_)"
   ]
  },
  {
   "cell_type": "code",
   "execution_count": 61,
   "metadata": {},
   "outputs": [
    {
     "name": "stdout",
     "output_type": "stream",
     "text": [
      "Training Mean Absolute Error 61.34834008580323\n"
     ]
    }
   ],
   "source": [
    "# Predicting over the Train Set and calculating error\n",
    "train_predict = lr_2.predict(train_x)\n",
    "k = mae(train_predict, train_y)\n",
    "print('Training Mean Absolute Error', k )"
   ]
  },
  {
   "cell_type": "code",
   "execution_count": 62,
   "metadata": {},
   "outputs": [
    {
     "name": "stdout",
     "output_type": "stream",
     "text": [
      "Test Mean Absolute Error     60.318005851604326\n"
     ]
    }
   ],
   "source": [
    "# Predicting over the Test Set and calculating error\n",
    "test_predict = lr_2.predict(test_x)\n",
    "k = mae(test_predict, test_y)\n",
    "print('Test Mean Absolute Error    ', k )"
   ]
  },
  {
   "cell_type": "code",
   "execution_count": 64,
   "metadata": {},
   "outputs": [
    {
     "data": {
      "text/plain": [
       "Text(0, 0.5, 'Coefficients')"
      ]
     },
     "execution_count": 64,
     "metadata": {},
     "output_type": "execute_result"
    },
    {
     "data": {
      "image/png": "[encoded data removed]",
      "text/plain": [
       "<Figure size 960x720 with 1 Axes>"
      ]
     },
     "metadata": {},
     "output_type": "display_data"
    }
   ],
   "source": [
    "plt.figure(figsize=(8, 6), dpi=120, facecolor='w', edgecolor='b')\n",
    "x = range(len(train_x.columns))\n",
    "y = lr_2.coef_\n",
    "plt.bar( x, y )\n",
    "plt.xlabel( \"Variables\")\n",
    "plt.ylabel('Coefficients')\n",
    "#plt.title('Normalized Coefficient plot')"
   ]
  },
  {
   "cell_type": "code",
   "execution_count": 65,
   "metadata": {
    "scrolled": true
   },
   "outputs": [
    {
     "data": {
      "text/plain": [
       "77.38855940797147"
      ]
     },
     "execution_count": 65,
     "metadata": {},
     "output_type": "execute_result"
    }
   ],
   "source": [
    "lr.score(test_x,test_y)*100"
   ]
  },
  {
   "cell_type": "code",
   "execution_count": null,
   "metadata": {},
   "outputs": [],
   "source": [
    "lr.predict ()"
   ]
  },
  {
   "cell_type": "code",
   "execution_count": null,
   "metadata": {},
   "outputs": [],
   "source": [
    "#Temperature prediction at Node 1 at 2.5s for an object with Diffusion Coeff = 10e-06 for T_left = 400 C and T_right = 100C\n",
    "t = 2.7\n",
    "#lt = np.log(t)\n",
    "DC = 0.00001\n",
    "T_l = 400\n",
    "T_r = 100\n",
    "deltaT = T_l - T_r\n",
    "x   = 0.33\n",
    "deltaTxL = deltaT * x \n",
    "#DCParameter = (DC * t * deltaT) / np.square(x)\n",
    "Timespace1 = np.exp((-10)*t) * (np.square(x)-x) * (T_l + T_r)\n",
    "Timespace2 = np.exp((-40)*t) * (np.square(x)-x) * (T_l - T_r)\n",
    "Timespace3 = np.exp((-90)*t) * (np.square(x)-x) * (T_l + T_r)\n",
    "\n",
    "Predict_Temp = ((lr.intercept_) + (lr.coef_[0])*(T_l) + (lr.coef_[1])*(deltaTxL) + (lr.coef_[2])*(Timespace1) + (lr.coef_[3])*(Timespace2) + (lr.coef_[4])*(Timespace3)) \n",
    "\n",
    "##Predict_Temp = (lr.intercept_) + (lr.coef_[0])*(t_l) + (lr.coef_[1])*(t_r) + (lr.coef_[2])*(nldc) + (lr.coef_[3])*(lt) + (lr.coef_[4])*(n_0) + (lr.coef_[5])*(n_1) + (lr.coef_[6])*(n_2) + (lr.coef_[7])*(n_3) + (lr.coef_[8])*(n_4) \n",
    "\n",
    "print(Predict_Temp)"
   ]
  },
  {
   "cell_type": "code",
   "execution_count": null,
   "metadata": {},
   "outputs": [],
   "source": []
  },
  {
   "cell_type": "code",
   "execution_count": null,
   "metadata": {},
   "outputs": [],
   "source": []
  }
 ],
 "metadata": {
  "kernelspec": {
   "display_name": "Python 3",
   "language": "python",
   "name": "python3"
  },
  "language_info": {
   "codemirror_mode": {
    "name": "ipython",
    "version": 3
   },
   "file_extension": ".py",
   "mimetype": "text/x-python",
   "name": "python",
   "nbconvert_exporter": "python",
   "pygments_lexer": "ipython3",
   "version": "3.7.6"
  }
 },
 "nbformat": 4,
 "nbformat_minor": 4
}
