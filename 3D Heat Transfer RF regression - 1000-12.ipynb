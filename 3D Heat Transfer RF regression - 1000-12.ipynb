{
 "cells": [
  {
   "cell_type": "code",
   "execution_count": 1,
   "metadata": {},
   "outputs": [],
   "source": [
    "import pandas as pd\n",
    "import numpy as np"
   ]
  },
  {
   "cell_type": "code",
   "execution_count": 2,
   "metadata": {},
   "outputs": [],
   "source": [
    "import statsmodels.api as sm\n",
    "import sklearn\n",
    "import matplotlib.pyplot as plt\n",
    "import seaborn as sns\n",
    "%matplotlib inline"
   ]
  },
  {
   "cell_type": "code",
   "execution_count": 3,
   "metadata": {},
   "outputs": [],
   "source": [
    "import warnings\n",
    "warnings.filterwarnings('ignore')"
   ]
  },
  {
   "cell_type": "code",
   "execution_count": 4,
   "metadata": {
    "scrolled": true
   },
   "outputs": [],
   "source": [
    "data = pd.read_excel(r\"Clean3d_master_dataset.xlsx\")"
   ]
  },
  {
   "cell_type": "code",
   "execution_count": 52,
   "metadata": {
    "scrolled": true
   },
   "outputs": [
    {
     "data": {
      "text/html": [
       "<div>\n",
       "<style scoped>\n",
       "    .dataframe tbody tr th:only-of-type {\n",
       "        vertical-align: middle;\n",
       "    }\n",
       "\n",
       "    .dataframe tbody tr th {\n",
       "        vertical-align: top;\n",
       "    }\n",
       "\n",
       "    .dataframe thead th {\n",
       "        text-align: right;\n",
       "    }\n",
       "</style>\n",
       "<table border=\"1\" class=\"dataframe\">\n",
       "  <thead>\n",
       "    <tr style=\"text-align: right;\">\n",
       "      <th></th>\n",
       "      <th>Time (s)</th>\n",
       "      <th>Material</th>\n",
       "      <th>Alpha</th>\n",
       "      <th>Part</th>\n",
       "      <th>Node</th>\n",
       "      <th>X</th>\n",
       "      <th>Y</th>\n",
       "      <th>Z</th>\n",
       "      <th>Temperature</th>\n",
       "      <th>T_left</th>\n",
       "      <th>T_right</th>\n",
       "      <th>T_bottom</th>\n",
       "      <th>T_top</th>\n",
       "      <th>T_back</th>\n",
       "      <th>T_front</th>\n",
       "      <th>x/L</th>\n",
       "      <th>y/L</th>\n",
       "      <th>z/L</th>\n",
       "    </tr>\n",
       "  </thead>\n",
       "  <tbody>\n",
       "    <tr>\n",
       "      <th>0</th>\n",
       "      <td>0.01</td>\n",
       "      <td>Copper</td>\n",
       "      <td>0.000111</td>\n",
       "      <td>PART-1-2</td>\n",
       "      <td>1</td>\n",
       "      <td>0.02</td>\n",
       "      <td>0.010</td>\n",
       "      <td>0.01</td>\n",
       "      <td>100.0</td>\n",
       "      <td>300</td>\n",
       "      <td>100</td>\n",
       "      <td>300</td>\n",
       "      <td>100</td>\n",
       "      <td>300</td>\n",
       "      <td>100</td>\n",
       "      <td>1.0</td>\n",
       "      <td>1.0</td>\n",
       "      <td>1.0</td>\n",
       "    </tr>\n",
       "    <tr>\n",
       "      <th>1</th>\n",
       "      <td>0.01</td>\n",
       "      <td>Copper</td>\n",
       "      <td>0.000111</td>\n",
       "      <td>PART-1-2</td>\n",
       "      <td>2</td>\n",
       "      <td>0.02</td>\n",
       "      <td>0.008</td>\n",
       "      <td>0.01</td>\n",
       "      <td>100.0</td>\n",
       "      <td>300</td>\n",
       "      <td>100</td>\n",
       "      <td>300</td>\n",
       "      <td>100</td>\n",
       "      <td>300</td>\n",
       "      <td>100</td>\n",
       "      <td>1.0</td>\n",
       "      <td>0.8</td>\n",
       "      <td>1.0</td>\n",
       "    </tr>\n",
       "    <tr>\n",
       "      <th>2</th>\n",
       "      <td>0.01</td>\n",
       "      <td>Copper</td>\n",
       "      <td>0.000111</td>\n",
       "      <td>PART-1-2</td>\n",
       "      <td>3</td>\n",
       "      <td>0.02</td>\n",
       "      <td>0.006</td>\n",
       "      <td>0.01</td>\n",
       "      <td>100.0</td>\n",
       "      <td>300</td>\n",
       "      <td>100</td>\n",
       "      <td>300</td>\n",
       "      <td>100</td>\n",
       "      <td>300</td>\n",
       "      <td>100</td>\n",
       "      <td>1.0</td>\n",
       "      <td>0.6</td>\n",
       "      <td>1.0</td>\n",
       "    </tr>\n",
       "    <tr>\n",
       "      <th>3</th>\n",
       "      <td>0.01</td>\n",
       "      <td>Copper</td>\n",
       "      <td>0.000111</td>\n",
       "      <td>PART-1-2</td>\n",
       "      <td>4</td>\n",
       "      <td>0.02</td>\n",
       "      <td>0.004</td>\n",
       "      <td>0.01</td>\n",
       "      <td>100.0</td>\n",
       "      <td>300</td>\n",
       "      <td>100</td>\n",
       "      <td>300</td>\n",
       "      <td>100</td>\n",
       "      <td>300</td>\n",
       "      <td>100</td>\n",
       "      <td>1.0</td>\n",
       "      <td>0.4</td>\n",
       "      <td>1.0</td>\n",
       "    </tr>\n",
       "    <tr>\n",
       "      <th>4</th>\n",
       "      <td>0.01</td>\n",
       "      <td>Copper</td>\n",
       "      <td>0.000111</td>\n",
       "      <td>PART-1-2</td>\n",
       "      <td>5</td>\n",
       "      <td>0.02</td>\n",
       "      <td>0.002</td>\n",
       "      <td>0.01</td>\n",
       "      <td>100.0</td>\n",
       "      <td>300</td>\n",
       "      <td>100</td>\n",
       "      <td>300</td>\n",
       "      <td>100</td>\n",
       "      <td>300</td>\n",
       "      <td>100</td>\n",
       "      <td>1.0</td>\n",
       "      <td>0.2</td>\n",
       "      <td>1.0</td>\n",
       "    </tr>\n",
       "  </tbody>\n",
       "</table>\n",
       "</div>"
      ],
      "text/plain": [
       "   Time (s) Material     Alpha      Part  Node     X      Y     Z  \\\n",
       "0      0.01   Copper  0.000111  PART-1-2     1  0.02  0.010  0.01   \n",
       "1      0.01   Copper  0.000111  PART-1-2     2  0.02  0.008  0.01   \n",
       "2      0.01   Copper  0.000111  PART-1-2     3  0.02  0.006  0.01   \n",
       "3      0.01   Copper  0.000111  PART-1-2     4  0.02  0.004  0.01   \n",
       "4      0.01   Copper  0.000111  PART-1-2     5  0.02  0.002  0.01   \n",
       "\n",
       "   Temperature  T_left  T_right  T_bottom  T_top  T_back  T_front  x/L  y/L  \\\n",
       "0        100.0     300      100       300    100     300      100  1.0  1.0   \n",
       "1        100.0     300      100       300    100     300      100  1.0  0.8   \n",
       "2        100.0     300      100       300    100     300      100  1.0  0.6   \n",
       "3        100.0     300      100       300    100     300      100  1.0  0.4   \n",
       "4        100.0     300      100       300    100     300      100  1.0  0.2   \n",
       "\n",
       "   z/L  \n",
       "0  1.0  \n",
       "1  1.0  \n",
       "2  1.0  \n",
       "3  1.0  \n",
       "4  1.0  "
      ]
     },
     "execution_count": 52,
     "metadata": {},
     "output_type": "execute_result"
    }
   ],
   "source": [
    "data.head()"
   ]
  },
  {
   "cell_type": "code",
   "execution_count": 53,
   "metadata": {
    "scrolled": true
   },
   "outputs": [
    {
     "data": {
      "text/html": [
       "<div>\n",
       "<style scoped>\n",
       "    .dataframe tbody tr th:only-of-type {\n",
       "        vertical-align: middle;\n",
       "    }\n",
       "\n",
       "    .dataframe tbody tr th {\n",
       "        vertical-align: top;\n",
       "    }\n",
       "\n",
       "    .dataframe thead th {\n",
       "        text-align: right;\n",
       "    }\n",
       "</style>\n",
       "<table border=\"1\" class=\"dataframe\">\n",
       "  <thead>\n",
       "    <tr style=\"text-align: right;\">\n",
       "      <th></th>\n",
       "      <th>Time (s)</th>\n",
       "      <th>Alpha</th>\n",
       "      <th>Node</th>\n",
       "      <th>X</th>\n",
       "      <th>Y</th>\n",
       "      <th>Z</th>\n",
       "      <th>Temperature</th>\n",
       "      <th>T_left</th>\n",
       "      <th>T_right</th>\n",
       "      <th>T_bottom</th>\n",
       "      <th>T_top</th>\n",
       "      <th>T_back</th>\n",
       "      <th>T_front</th>\n",
       "      <th>x/L</th>\n",
       "      <th>y/L</th>\n",
       "      <th>z/L</th>\n",
       "    </tr>\n",
       "  </thead>\n",
       "  <tbody>\n",
       "    <tr>\n",
       "      <th>count</th>\n",
       "      <td>310392.000000</td>\n",
       "      <td>310392.000000</td>\n",
       "      <td>310392.000000</td>\n",
       "      <td>310392.000000</td>\n",
       "      <td>310392.000000</td>\n",
       "      <td>310392.000000</td>\n",
       "      <td>3.103920e+05</td>\n",
       "      <td>310392.000000</td>\n",
       "      <td>310392.000000</td>\n",
       "      <td>310392.000000</td>\n",
       "      <td>310392.000000</td>\n",
       "      <td>310392.000000</td>\n",
       "      <td>310392.000000</td>\n",
       "      <td>310392.000000</td>\n",
       "      <td>310392.000000</td>\n",
       "      <td>310392.000000</td>\n",
       "    </tr>\n",
       "    <tr>\n",
       "      <th>mean</th>\n",
       "      <td>0.756263</td>\n",
       "      <td>0.000050</td>\n",
       "      <td>198.500000</td>\n",
       "      <td>0.010000</td>\n",
       "      <td>0.005000</td>\n",
       "      <td>0.005000</td>\n",
       "      <td>2.123130e+02</td>\n",
       "      <td>450.034795</td>\n",
       "      <td>100.069589</td>\n",
       "      <td>400.069589</td>\n",
       "      <td>100.139179</td>\n",
       "      <td>333.263744</td>\n",
       "      <td>133.402923</td>\n",
       "      <td>0.500000</td>\n",
       "      <td>0.500000</td>\n",
       "      <td>0.500000</td>\n",
       "    </tr>\n",
       "    <tr>\n",
       "      <th>std</th>\n",
       "      <td>1.763122</td>\n",
       "      <td>0.000041</td>\n",
       "      <td>123.401644</td>\n",
       "      <td>0.006831</td>\n",
       "      <td>0.003416</td>\n",
       "      <td>0.003416</td>\n",
       "      <td>1.469663e+02</td>\n",
       "      <td>111.896899</td>\n",
       "      <td>81.607134</td>\n",
       "      <td>81.692364</td>\n",
       "      <td>81.649671</td>\n",
       "      <td>47.115867</td>\n",
       "      <td>47.165074</td>\n",
       "      <td>0.341566</td>\n",
       "      <td>0.341566</td>\n",
       "      <td>0.341566</td>\n",
       "    </tr>\n",
       "    <tr>\n",
       "      <th>min</th>\n",
       "      <td>0.010000</td>\n",
       "      <td>0.000004</td>\n",
       "      <td>1.000000</td>\n",
       "      <td>0.000000</td>\n",
       "      <td>0.000000</td>\n",
       "      <td>0.000000</td>\n",
       "      <td>-1.757920e-35</td>\n",
       "      <td>300.000000</td>\n",
       "      <td>0.000000</td>\n",
       "      <td>300.000000</td>\n",
       "      <td>0.000000</td>\n",
       "      <td>300.000000</td>\n",
       "      <td>100.000000</td>\n",
       "      <td>0.000000</td>\n",
       "      <td>0.000000</td>\n",
       "      <td>0.000000</td>\n",
       "    </tr>\n",
       "    <tr>\n",
       "      <th>25%</th>\n",
       "      <td>0.050000</td>\n",
       "      <td>0.000004</td>\n",
       "      <td>90.750000</td>\n",
       "      <td>0.004000</td>\n",
       "      <td>0.002000</td>\n",
       "      <td>0.002000</td>\n",
       "      <td>1.000000e+02</td>\n",
       "      <td>300.000000</td>\n",
       "      <td>0.000000</td>\n",
       "      <td>300.000000</td>\n",
       "      <td>0.000000</td>\n",
       "      <td>300.000000</td>\n",
       "      <td>100.000000</td>\n",
       "      <td>0.200000</td>\n",
       "      <td>0.200000</td>\n",
       "      <td>0.200000</td>\n",
       "    </tr>\n",
       "    <tr>\n",
       "      <th>50%</th>\n",
       "      <td>0.120000</td>\n",
       "      <td>0.000064</td>\n",
       "      <td>198.500000</td>\n",
       "      <td>0.010000</td>\n",
       "      <td>0.005000</td>\n",
       "      <td>0.005000</td>\n",
       "      <td>2.000000e+02</td>\n",
       "      <td>500.000000</td>\n",
       "      <td>100.000000</td>\n",
       "      <td>400.000000</td>\n",
       "      <td>100.000000</td>\n",
       "      <td>300.000000</td>\n",
       "      <td>100.000000</td>\n",
       "      <td>0.500000</td>\n",
       "      <td>0.500000</td>\n",
       "      <td>0.500000</td>\n",
       "    </tr>\n",
       "    <tr>\n",
       "      <th>75%</th>\n",
       "      <td>0.500000</td>\n",
       "      <td>0.000111</td>\n",
       "      <td>306.250000</td>\n",
       "      <td>0.016000</td>\n",
       "      <td>0.008000</td>\n",
       "      <td>0.008000</td>\n",
       "      <td>3.000000e+02</td>\n",
       "      <td>600.000000</td>\n",
       "      <td>200.000000</td>\n",
       "      <td>500.000000</td>\n",
       "      <td>200.000000</td>\n",
       "      <td>400.000000</td>\n",
       "      <td>200.000000</td>\n",
       "      <td>0.800000</td>\n",
       "      <td>0.800000</td>\n",
       "      <td>0.800000</td>\n",
       "    </tr>\n",
       "    <tr>\n",
       "      <th>max</th>\n",
       "      <td>10.000000</td>\n",
       "      <td>0.000111</td>\n",
       "      <td>396.000000</td>\n",
       "      <td>0.020000</td>\n",
       "      <td>0.010000</td>\n",
       "      <td>0.010000</td>\n",
       "      <td>6.000000e+02</td>\n",
       "      <td>600.000000</td>\n",
       "      <td>200.000000</td>\n",
       "      <td>500.000000</td>\n",
       "      <td>200.000000</td>\n",
       "      <td>400.000000</td>\n",
       "      <td>200.000000</td>\n",
       "      <td>1.000000</td>\n",
       "      <td>1.000000</td>\n",
       "      <td>1.000000</td>\n",
       "    </tr>\n",
       "  </tbody>\n",
       "</table>\n",
       "</div>"
      ],
      "text/plain": [
       "            Time (s)          Alpha           Node              X  \\\n",
       "count  310392.000000  310392.000000  310392.000000  310392.000000   \n",
       "mean        0.756263       0.000050     198.500000       0.010000   \n",
       "std         1.763122       0.000041     123.401644       0.006831   \n",
       "min         0.010000       0.000004       1.000000       0.000000   \n",
       "25%         0.050000       0.000004      90.750000       0.004000   \n",
       "50%         0.120000       0.000064     198.500000       0.010000   \n",
       "75%         0.500000       0.000111     306.250000       0.016000   \n",
       "max        10.000000       0.000111     396.000000       0.020000   \n",
       "\n",
       "                   Y              Z   Temperature         T_left  \\\n",
       "count  310392.000000  310392.000000  3.103920e+05  310392.000000   \n",
       "mean        0.005000       0.005000  2.123130e+02     450.034795   \n",
       "std         0.003416       0.003416  1.469663e+02     111.896899   \n",
       "min         0.000000       0.000000 -1.757920e-35     300.000000   \n",
       "25%         0.002000       0.002000  1.000000e+02     300.000000   \n",
       "50%         0.005000       0.005000  2.000000e+02     500.000000   \n",
       "75%         0.008000       0.008000  3.000000e+02     600.000000   \n",
       "max         0.010000       0.010000  6.000000e+02     600.000000   \n",
       "\n",
       "             T_right       T_bottom          T_top         T_back  \\\n",
       "count  310392.000000  310392.000000  310392.000000  310392.000000   \n",
       "mean      100.069589     400.069589     100.139179     333.263744   \n",
       "std        81.607134      81.692364      81.649671      47.115867   \n",
       "min         0.000000     300.000000       0.000000     300.000000   \n",
       "25%         0.000000     300.000000       0.000000     300.000000   \n",
       "50%       100.000000     400.000000     100.000000     300.000000   \n",
       "75%       200.000000     500.000000     200.000000     400.000000   \n",
       "max       200.000000     500.000000     200.000000     400.000000   \n",
       "\n",
       "             T_front            x/L            y/L            z/L  \n",
       "count  310392.000000  310392.000000  310392.000000  310392.000000  \n",
       "mean      133.402923       0.500000       0.500000       0.500000  \n",
       "std        47.165074       0.341566       0.341566       0.341566  \n",
       "min       100.000000       0.000000       0.000000       0.000000  \n",
       "25%       100.000000       0.200000       0.200000       0.200000  \n",
       "50%       100.000000       0.500000       0.500000       0.500000  \n",
       "75%       200.000000       0.800000       0.800000       0.800000  \n",
       "max       200.000000       1.000000       1.000000       1.000000  "
      ]
     },
     "execution_count": 53,
     "metadata": {},
     "output_type": "execute_result"
    }
   ],
   "source": [
    "data.describe()"
   ]
  },
  {
   "cell_type": "code",
   "execution_count": 54,
   "metadata": {},
   "outputs": [
    {
     "data": {
      "text/plain": [
       "(310392, 18)"
      ]
     },
     "execution_count": 54,
     "metadata": {},
     "output_type": "execute_result"
    }
   ],
   "source": [
    "indices = data[ data['x/L'] == 0.1].index\n",
    "newdata = data.drop(indices, axis=0)\n",
    "newdata.shape"
   ]
  },
  {
   "cell_type": "code",
   "execution_count": 55,
   "metadata": {},
   "outputs": [
    {
     "data": {
      "text/plain": [
       "(310392, 18)"
      ]
     },
     "execution_count": 55,
     "metadata": {},
     "output_type": "execute_result"
    }
   ],
   "source": [
    "indices = data[ data['x/L'] == 0.3].index\n",
    "newdata = newdata.drop(indices, axis=0)\n",
    "newdata.shape"
   ]
  },
  {
   "cell_type": "code",
   "execution_count": 56,
   "metadata": {},
   "outputs": [
    {
     "data": {
      "text/plain": [
       "(310392, 18)"
      ]
     },
     "execution_count": 56,
     "metadata": {},
     "output_type": "execute_result"
    }
   ],
   "source": [
    "indices = data[ data['x/L'] == 0.5].index\n",
    "newdata = newdata.drop(indices, axis=0)\n",
    "newdata.shape"
   ]
  },
  {
   "cell_type": "code",
   "execution_count": 57,
   "metadata": {},
   "outputs": [
    {
     "data": {
      "text/plain": [
       "(310392, 18)"
      ]
     },
     "execution_count": 57,
     "metadata": {},
     "output_type": "execute_result"
    }
   ],
   "source": [
    "indices = data[ data['x/L'] == 0.7].index\n",
    "newdata = newdata.drop(indices, axis=0)\n",
    "newdata.shape"
   ]
  },
  {
   "cell_type": "code",
   "execution_count": 58,
   "metadata": {},
   "outputs": [
    {
     "data": {
      "text/plain": [
       "(310392, 18)"
      ]
     },
     "execution_count": 58,
     "metadata": {},
     "output_type": "execute_result"
    }
   ],
   "source": [
    "indices = data[ data['X'] == 0.018].index\n",
    "newdata = newdata.drop(indices, axis=0)\n",
    "newdata.shape"
   ]
  },
  {
   "cell_type": "code",
   "execution_count": 59,
   "metadata": {},
   "outputs": [],
   "source": [
    "data = newdata"
   ]
  },
  {
   "cell_type": "code",
   "execution_count": 60,
   "metadata": {},
   "outputs": [
    {
     "data": {
      "image/png": "[encoded data removed]",
      "text/plain": [
       "<Figure size 432x288 with 1 Axes>"
      ]
     },
     "metadata": {
      "needs_background": "light"
     },
     "output_type": "display_data"
    }
   ],
   "source": [
    "plt.scatter(data['x/L'], data['Temperature'], color='blue')\n",
    "plt.title('Temperature Vs Location-X', fontsize=14)\n",
    "plt.xlabel('Location-X', fontsize=14)\n",
    "plt.ylabel('Temperature', fontsize=14)\n",
    "plt.grid(True)\n",
    "plt.show()"
   ]
  },
  {
   "cell_type": "code",
   "execution_count": 61,
   "metadata": {},
   "outputs": [
    {
     "data": {
      "image/png": "[encoded data removed]",
      "text/plain": [
       "<Figure size 432x288 with 1 Axes>"
      ]
     },
     "metadata": {
      "needs_background": "light"
     },
     "output_type": "display_data"
    }
   ],
   "source": [
    "plt.scatter(data['y/L'], data['Temperature'], color='blue')\n",
    "plt.title('Temperature Vs Location-Y', fontsize=14)\n",
    "plt.xlabel('Location-Y', fontsize=14)\n",
    "plt.ylabel('Temperature', fontsize=14)\n",
    "plt.grid(True)\n",
    "plt.show()"
   ]
  },
  {
   "cell_type": "code",
   "execution_count": 62,
   "metadata": {},
   "outputs": [
    {
     "data": {
      "image/png": "[encoded data removed]",
      "text/plain": [
       "<Figure size 432x288 with 1 Axes>"
      ]
     },
     "metadata": {
      "needs_background": "light"
     },
     "output_type": "display_data"
    }
   ],
   "source": [
    "plt.scatter(data['z/L'], data['Temperature'], color='blue')\n",
    "plt.title('Temperature Vs Location-Z', fontsize=14)\n",
    "plt.xlabel('Location-Z', fontsize=14)\n",
    "plt.ylabel('Temperature', fontsize=14)\n",
    "plt.grid(True)\n",
    "plt.show()"
   ]
  },
  {
   "cell_type": "code",
   "execution_count": 63,
   "metadata": {},
   "outputs": [
    {
     "data": {
      "image/png": "[encoded data removed]",
      "text/plain": [
       "<Figure size 432x288 with 1 Axes>"
      ]
     },
     "metadata": {
      "needs_background": "light"
     },
     "output_type": "display_data"
    }
   ],
   "source": [
    "plt.scatter(data['Time (s)'], data['Temperature'], color='blue')\n",
    "plt.title('Temperature Vs Time', fontsize=14)\n",
    "plt.xlabel('Time (s)', fontsize=14)\n",
    "plt.ylabel('Temperature', fontsize=14)\n",
    "plt.grid(True)\n",
    "plt.show()"
   ]
  },
  {
   "cell_type": "code",
   "execution_count": 64,
   "metadata": {},
   "outputs": [
    {
     "data": {
      "image/png": "[encoded data removed]",
      "text/plain": [
       "<Figure size 432x288 with 1 Axes>"
      ]
     },
     "metadata": {
      "needs_background": "light"
     },
     "output_type": "display_data"
    }
   ],
   "source": [
    "plt.scatter(data['Alpha'], data['Temperature'], color='blue')\n",
    "plt.title('Temperature Vs Diffusion Coefficient', fontsize=14)\n",
    "plt.xlabel('Diffusion Coefficient', fontsize=14)\n",
    "plt.ylabel('Temperature', fontsize=14)\n",
    "plt.grid(True)\n",
    "plt.xlim([0, 1.2E-4])\n",
    "plt.show()"
   ]
  },
  {
   "cell_type": "code",
   "execution_count": 65,
   "metadata": {},
   "outputs": [
    {
     "data": {
      "image/png": "[encoded data removed]",
      "text/plain": [
       "<Figure size 432x288 with 1 Axes>"
      ]
     },
     "metadata": {
      "needs_background": "light"
     },
     "output_type": "display_data"
    }
   ],
   "source": [
    "plt.scatter(data['T_left'], data['Temperature'], color='blue')\n",
    "plt.title('Temperature Vs T_left', fontsize=14)\n",
    "plt.xlabel('T_left', fontsize=14)\n",
    "plt.ylabel('Temperature', fontsize=14)\n",
    "plt.grid(True)\n",
    "plt.show()"
   ]
  },
  {
   "cell_type": "code",
   "execution_count": 66,
   "metadata": {},
   "outputs": [
    {
     "data": {
      "image/png": "[encoded data removed]",
      "text/plain": [
       "<Figure size 432x288 with 1 Axes>"
      ]
     },
     "metadata": {
      "needs_background": "light"
     },
     "output_type": "display_data"
    }
   ],
   "source": [
    "plt.scatter(data['T_right'], data['Temperature'], color='blue')\n",
    "plt.title('Temperature Vs T_right', fontsize=14)\n",
    "plt.xlabel('T_right', fontsize=14)\n",
    "plt.ylabel('Temperature', fontsize=14)\n",
    "plt.grid(True)\n",
    "plt.show()"
   ]
  },
  {
   "cell_type": "code",
   "execution_count": 67,
   "metadata": {},
   "outputs": [
    {
     "data": {
      "image/png": "[encoded data removed]",
      "text/plain": [
       "<Figure size 432x288 with 1 Axes>"
      ]
     },
     "metadata": {
      "needs_background": "light"
     },
     "output_type": "display_data"
    }
   ],
   "source": [
    "plt.scatter(data['T_bottom'], data['Temperature'], color='blue')\n",
    "plt.title('Temperature Vs T_bottom', fontsize=14)\n",
    "plt.xlabel('T_bottom', fontsize=14)\n",
    "plt.ylabel('Temperature', fontsize=14)\n",
    "plt.grid(True)\n",
    "plt.show()"
   ]
  },
  {
   "cell_type": "code",
   "execution_count": 68,
   "metadata": {},
   "outputs": [
    {
     "data": {
      "image/png": "[encoded data removed]",
      "text/plain": [
       "<Figure size 432x288 with 1 Axes>"
      ]
     },
     "metadata": {
      "needs_background": "light"
     },
     "output_type": "display_data"
    }
   ],
   "source": [
    "plt.scatter(data['T_top'], data['Temperature'], color='blue')\n",
    "plt.title('Temperature Vs T_top', fontsize=14)\n",
    "plt.xlabel('T_top', fontsize=14)\n",
    "plt.ylabel('Temperature', fontsize=14)\n",
    "plt.grid(True)\n",
    "plt.show()"
   ]
  },
  {
   "cell_type": "code",
   "execution_count": 69,
   "metadata": {},
   "outputs": [
    {
     "data": {
      "image/png": "[encoded data removed]",
      "text/plain": [
       "<Figure size 432x288 with 1 Axes>"
      ]
     },
     "metadata": {
      "needs_background": "light"
     },
     "output_type": "display_data"
    }
   ],
   "source": [
    "plt.scatter(data['T_back'], data['Temperature'], color='blue')\n",
    "plt.title('Temperature Vs T_back', fontsize=14)\n",
    "plt.xlabel('T_back', fontsize=14)\n",
    "plt.ylabel('Temperature', fontsize=14)\n",
    "plt.grid(True)\n",
    "plt.show()"
   ]
  },
  {
   "cell_type": "code",
   "execution_count": 70,
   "metadata": {},
   "outputs": [
    {
     "data": {
      "image/png": "[encoded data removed]",
      "text/plain": [
       "<Figure size 432x288 with 1 Axes>"
      ]
     },
     "metadata": {
      "needs_background": "light"
     },
     "output_type": "display_data"
    }
   ],
   "source": [
    "plt.scatter(data['T_front'], data['Temperature'], color='blue')\n",
    "plt.title('Temperature Vs T_front', fontsize=14)\n",
    "plt.xlabel('T_front', fontsize=14)\n",
    "plt.ylabel('Temperature', fontsize=14)\n",
    "plt.grid(True)\n",
    "plt.show()"
   ]
  },
  {
   "cell_type": "code",
   "execution_count": 71,
   "metadata": {},
   "outputs": [
    {
     "data": {
      "text/plain": [
       "((310392, 11), (310392,))"
      ]
     },
     "execution_count": 71,
     "metadata": {},
     "output_type": "execute_result"
    }
   ],
   "source": [
    "#seperating independent and dependent variables, Temperature is the only dependent variable in our case\n",
    "x = data[['T_left', 'T_right', 'T_bottom', 'T_top', 'T_back', 'T_front', 'Time (s)', 'Alpha', 'x/L', 'y/L', 'z/L']]\n",
    "y = data['Temperature']\n",
    "x.shape, y.shape"
   ]
  },
  {
   "cell_type": "code",
   "execution_count": 72,
   "metadata": {},
   "outputs": [],
   "source": [
    "import time\n",
    "#storing starting time\n",
    "begin = time.time()\n",
    "\n",
    "#Creating Training-Testing data from the new data frame\n",
    "\n",
    "from sklearn.model_selection import train_test_split\n",
    "train_x, test_x, train_y, test_y = train_test_split(x, y , test_size = 0.25, random_state = 100)"
   ]
  },
  {
   "cell_type": "code",
   "execution_count": 73,
   "metadata": {},
   "outputs": [],
   "source": [
    "from sklearn.ensemble import RandomForestRegressor\n",
    "rf = RandomForestRegressor(n_estimators=1000, max_depth= 12, random_state=100, oob_score = True)"
   ]
  },
  {
   "cell_type": "code",
   "execution_count": 74,
   "metadata": {},
   "outputs": [
    {
     "data": {
      "text/plain": [
       "RandomForestRegressor(max_depth=12, n_estimators=1000, oob_score=True,\n",
       "                      random_state=100)"
      ]
     },
     "execution_count": 74,
     "metadata": {},
     "output_type": "execute_result"
    }
   ],
   "source": [
    "rf.fit(train_x, train_y)"
   ]
  },
  {
   "cell_type": "code",
   "execution_count": 75,
   "metadata": {},
   "outputs": [
    {
     "name": "stdout",
     "output_type": "stream",
     "text": [
      "[1.00000000e+02 5.42565117e-35 2.09949638e+02 ... 2.95893751e+02\n",
      " 4.00000000e+02 1.28591683e+02]\n"
     ]
    }
   ],
   "source": [
    "y_pred = rf.predict(test_x)\n",
    "print (y_pred)"
   ]
  },
  {
   "cell_type": "code",
   "execution_count": 76,
   "metadata": {},
   "outputs": [
    {
     "data": {
      "text/plain": [
       "0.980172123407949"
      ]
     },
     "execution_count": 76,
     "metadata": {},
     "output_type": "execute_result"
    }
   ],
   "source": [
    "from sklearn.metrics import r2_score\n",
    "r2_score(test_y, y_pred)"
   ]
  },
  {
   "cell_type": "code",
   "execution_count": 77,
   "metadata": {},
   "outputs": [],
   "source": [
    "#storing end time\n",
    "time.sleep(1)\n",
    "end = time.time()"
   ]
  },
  {
   "cell_type": "code",
   "execution_count": 78,
   "metadata": {},
   "outputs": [
    {
     "name": "stdout",
     "output_type": "stream",
     "text": [
      "Total runtime of Random Forest program (in seconds) is 159.6921079158783\n"
     ]
    }
   ],
   "source": [
    "#Calculating runtime\n",
    "print (\"Total runtime of Random Forest program (in seconds) is\", end - begin)"
   ]
  },
  {
   "cell_type": "code",
   "execution_count": 79,
   "metadata": {},
   "outputs": [
    {
     "name": "stdout",
     "output_type": "stream",
     "text": [
      "Mean Absolute Error: 8.920822556472674\n",
      "Mean Squared Error: 424.29739208716126\n",
      "Root Mean Squared Error: 20.59848033441208\n"
     ]
    }
   ],
   "source": [
    "from sklearn import metrics\n",
    "print('Mean Absolute Error:', metrics.mean_absolute_error(test_y, y_pred)) \n",
    "print('Mean Squared Error:', metrics.mean_squared_error(test_y, y_pred))  \n",
    "print('Root Mean Squared Error:', np.sqrt(metrics.mean_squared_error(test_y, y_pred)))"
   ]
  },
  {
   "cell_type": "code",
   "execution_count": 80,
   "metadata": {},
   "outputs": [],
   "source": [
    "importances = pd.DataFrame({'feature':train_x.columns,'importance':np.round(rf.feature_importances_,3)})\n",
    "importances = importances.sort_values('importance',ascending=False).set_index('feature')\n"
   ]
  },
  {
   "cell_type": "code",
   "execution_count": 81,
   "metadata": {},
   "outputs": [
    {
     "data": {
      "text/html": [
       "<div>\n",
       "<style scoped>\n",
       "    .dataframe tbody tr th:only-of-type {\n",
       "        vertical-align: middle;\n",
       "    }\n",
       "\n",
       "    .dataframe tbody tr th {\n",
       "        vertical-align: top;\n",
       "    }\n",
       "\n",
       "    .dataframe thead th {\n",
       "        text-align: right;\n",
       "    }\n",
       "</style>\n",
       "<table border=\"1\" class=\"dataframe\">\n",
       "  <thead>\n",
       "    <tr style=\"text-align: right;\">\n",
       "      <th></th>\n",
       "      <th>importance</th>\n",
       "    </tr>\n",
       "    <tr>\n",
       "      <th>feature</th>\n",
       "      <th></th>\n",
       "    </tr>\n",
       "  </thead>\n",
       "  <tbody>\n",
       "    <tr>\n",
       "      <th>z/L</th>\n",
       "      <td>0.323</td>\n",
       "    </tr>\n",
       "    <tr>\n",
       "      <th>y/L</th>\n",
       "      <td>0.249</td>\n",
       "    </tr>\n",
       "    <tr>\n",
       "      <th>x/L</th>\n",
       "      <td>0.224</td>\n",
       "    </tr>\n",
       "    <tr>\n",
       "      <th>Time (s)</th>\n",
       "      <td>0.047</td>\n",
       "    </tr>\n",
       "    <tr>\n",
       "      <th>T_left</th>\n",
       "      <td>0.033</td>\n",
       "    </tr>\n",
       "  </tbody>\n",
       "</table>\n",
       "</div>"
      ],
      "text/plain": [
       "          importance\n",
       "feature             \n",
       "z/L            0.323\n",
       "y/L            0.249\n",
       "x/L            0.224\n",
       "Time (s)       0.047\n",
       "T_left         0.033"
      ]
     },
     "execution_count": 81,
     "metadata": {},
     "output_type": "execute_result"
    }
   ],
   "source": [
    "importances.head()"
   ]
  },
  {
   "cell_type": "code",
   "execution_count": 82,
   "metadata": {},
   "outputs": [
    {
     "data": {
      "text/plain": [
       "<AxesSubplot:xlabel='feature'>"
      ]
     },
     "execution_count": 82,
     "metadata": {},
     "output_type": "execute_result"
    },
    {
     "data": {
      "image/png": "[encoded data removed]",
      "text/plain": [
       "<Figure size 432x288 with 1 Axes>"
      ]
     },
     "metadata": {
      "needs_background": "light"
     },
     "output_type": "display_data"
    }
   ],
   "source": [
    "importances.plot.bar()"
   ]
  },
  {
   "cell_type": "code",
   "execution_count": 83,
   "metadata": {},
   "outputs": [
    {
     "data": {
      "text/plain": [
       "0.9804338846100279"
      ]
     },
     "execution_count": 83,
     "metadata": {},
     "output_type": "execute_result"
    }
   ],
   "source": [
    "rf.oob_score_"
   ]
  },
  {
   "cell_type": "code",
   "execution_count": 84,
   "metadata": {},
   "outputs": [
    {
     "data": {
      "text/html": [
       "<div>\n",
       "<style scoped>\n",
       "    .dataframe tbody tr th:only-of-type {\n",
       "        vertical-align: middle;\n",
       "    }\n",
       "\n",
       "    .dataframe tbody tr th {\n",
       "        vertical-align: top;\n",
       "    }\n",
       "\n",
       "    .dataframe thead th {\n",
       "        text-align: right;\n",
       "    }\n",
       "</style>\n",
       "<table border=\"1\" class=\"dataframe\">\n",
       "  <thead>\n",
       "    <tr style=\"text-align: right;\">\n",
       "      <th></th>\n",
       "      <th>Actual</th>\n",
       "      <th>Predicted</th>\n",
       "    </tr>\n",
       "  </thead>\n",
       "  <tbody>\n",
       "    <tr>\n",
       "      <th>18132</th>\n",
       "      <td>1.000000e+02</td>\n",
       "      <td>1.000000e+02</td>\n",
       "    </tr>\n",
       "    <tr>\n",
       "      <th>235249</th>\n",
       "      <td>7.766960e-35</td>\n",
       "      <td>5.425651e-35</td>\n",
       "    </tr>\n",
       "    <tr>\n",
       "      <th>275916</th>\n",
       "      <td>2.000000e+02</td>\n",
       "      <td>2.099496e+02</td>\n",
       "    </tr>\n",
       "    <tr>\n",
       "      <th>509164</th>\n",
       "      <td>3.091750e+02</td>\n",
       "      <td>2.181491e+02</td>\n",
       "    </tr>\n",
       "    <tr>\n",
       "      <th>446466</th>\n",
       "      <td>3.000000e+02</td>\n",
       "      <td>3.000000e+02</td>\n",
       "    </tr>\n",
       "    <tr>\n",
       "      <th>...</th>\n",
       "      <td>...</td>\n",
       "      <td>...</td>\n",
       "    </tr>\n",
       "    <tr>\n",
       "      <th>79449</th>\n",
       "      <td>4.000000e+02</td>\n",
       "      <td>4.000000e+02</td>\n",
       "    </tr>\n",
       "    <tr>\n",
       "      <th>409949</th>\n",
       "      <td>5.000000e+02</td>\n",
       "      <td>5.000000e+02</td>\n",
       "    </tr>\n",
       "    <tr>\n",
       "      <th>199684</th>\n",
       "      <td>2.969400e+02</td>\n",
       "      <td>2.958938e+02</td>\n",
       "    </tr>\n",
       "    <tr>\n",
       "      <th>85119</th>\n",
       "      <td>4.000000e+02</td>\n",
       "      <td>4.000000e+02</td>\n",
       "    </tr>\n",
       "    <tr>\n",
       "      <th>96315</th>\n",
       "      <td>1.411250e+02</td>\n",
       "      <td>1.285917e+02</td>\n",
       "    </tr>\n",
       "  </tbody>\n",
       "</table>\n",
       "<p>77598 rows × 2 columns</p>\n",
       "</div>"
      ],
      "text/plain": [
       "              Actual     Predicted\n",
       "18132   1.000000e+02  1.000000e+02\n",
       "235249  7.766960e-35  5.425651e-35\n",
       "275916  2.000000e+02  2.099496e+02\n",
       "509164  3.091750e+02  2.181491e+02\n",
       "446466  3.000000e+02  3.000000e+02\n",
       "...              ...           ...\n",
       "79449   4.000000e+02  4.000000e+02\n",
       "409949  5.000000e+02  5.000000e+02\n",
       "199684  2.969400e+02  2.958938e+02\n",
       "85119   4.000000e+02  4.000000e+02\n",
       "96315   1.411250e+02  1.285917e+02\n",
       "\n",
       "[77598 rows x 2 columns]"
      ]
     },
     "execution_count": 84,
     "metadata": {},
     "output_type": "execute_result"
    }
   ],
   "source": [
    "df=pd.DataFrame({'Actual':test_y, 'Predicted':y_pred})\n",
    "df"
   ]
  },
  {
   "cell_type": "code",
   "execution_count": 85,
   "metadata": {},
   "outputs": [
    {
     "data": {
      "image/png": "[encoded data removed]",
      "text/plain": [
       "<Figure size 360x504 with 1 Axes>"
      ]
     },
     "metadata": {
      "needs_background": "light"
     },
     "output_type": "display_data"
    }
   ],
   "source": [
    "import seaborn as sns\n",
    "plt.figure(figsize=(5, 7))\n",
    "\n",
    "\n",
    "ax = sns.distplot(y, hist=False, color=\"r\", label=\"Actual Value\")\n",
    "sns.distplot(y_pred, hist=False, color=\"b\", label=\"Fitted Values\" , ax=ax)\n",
    "\n",
    "\n",
    "plt.title('Actual vs Fitted Values for Temperature')\n",
    "\n",
    "\n",
    "plt.show()\n",
    "plt.close()"
   ]
  },
  {
   "cell_type": "code",
   "execution_count": 39,
   "metadata": {},
   "outputs": [],
   "source": [
    "#x_test = np.array([0.8,0.33,8e-6,400,150])\n",
    "#x_test = x_test.reshape((1,-1))\n",
    "#y_pred = rf.predict(x_test)"
   ]
  },
  {
   "cell_type": "code",
   "execution_count": 40,
   "metadata": {},
   "outputs": [
    {
     "name": "stdout",
     "output_type": "stream",
     "text": [
      "The predicted temperature for the given parameters is 100.0\n"
     ]
    }
   ],
   "source": [
    "print (\"The predicted temperature for the given parameters is\", y_pred[0])"
   ]
  },
  {
   "cell_type": "code",
   "execution_count": 41,
   "metadata": {},
   "outputs": [],
   "source": [
    "# pip install yellowbrick"
   ]
  },
  {
   "cell_type": "code",
   "execution_count": 42,
   "metadata": {},
   "outputs": [],
   "source": [
    "#from yellowbrick.datasets import load_energy\n",
    "# from yellowbrick.model_selection import validation_curve"
   ]
  },
  {
   "cell_type": "code",
   "execution_count": 43,
   "metadata": {},
   "outputs": [],
   "source": [
    "\n",
    "# x = data[['T_left', 'T_right', 'T_bottom', 'T_top', 'T_back', 'T_front', 'Time (s)', 'Alpha', 'x/L', 'y/L', 'z/L']]\n",
    "# y = data['Temperature']"
   ]
  },
  {
   "cell_type": "code",
   "execution_count": 44,
   "metadata": {},
   "outputs": [],
   "source": [
    "# parameter_range = np.arange(1, 15, 1)"
   ]
  },
  {
   "cell_type": "code",
   "execution_count": 45,
   "metadata": {
    "scrolled": true
   },
   "outputs": [],
   "source": [
    "# begin = time.time()\n",
    "# viz = validation_curve(RandomForestRegressor(), x, y, param_name = \"max_depth\", param_range = parameter_range, cv = 10, scoring = \"r2\")"
   ]
  },
  {
   "cell_type": "code",
   "execution_count": 46,
   "metadata": {},
   "outputs": [],
   "source": [
    "#viz.fit(x,y)\n",
    "# viz.show()\n",
    "# print(\"Validation curve time taken: \", time.time() - begin)"
   ]
  },
  {
   "cell_type": "code",
   "execution_count": 47,
   "metadata": {},
   "outputs": [],
   "source": [
    "# print(\"Time: \", time.time() - begin)"
   ]
  },
  {
   "cell_type": "code",
   "execution_count": 48,
   "metadata": {},
   "outputs": [],
   "source": [
    "# parameter_range = np.arange(1, 8000, 1000)\n",
    "# begin = time.time()\n",
    "# viz = validation_curve(RandomForestRegressor(), x, y, param_name = \"n_estimators\", param_range = parameter_range, cv = 5, scoring = \"r2\")\n",
    "# print(\"N Estimators time taken: \", time.time() - begin)"
   ]
  },
  {
   "cell_type": "code",
   "execution_count": 49,
   "metadata": {},
   "outputs": [],
   "source": [
    "# from yellowbrick.model_selection import learning_curve\n",
    "\n",
    "# x = data[['T_left', 'T_right', 'T_bottom', 'T_top', 'Time (s)', 'Alpha', 'x/L', 'y/L']]\n",
    "# y = data['Temperature']"
   ]
  },
  {
   "cell_type": "code",
   "execution_count": 50,
   "metadata": {},
   "outputs": [],
   "source": [
    "# print(learning_curve(RandomForestRegressor(), x, y, cv=10, scoring='r2'))"
   ]
  },
  {
   "cell_type": "code",
   "execution_count": 51,
   "metadata": {},
   "outputs": [],
   "source": [
    "# from sklearn.linear_model import Lasso\n",
    "# from sklearn.model_selection import train_test_split\n",
    "\n",
    "# from yellowbrick.regressor import PredictionError\n",
    "\n",
    "# # Load a regression dataset\n",
    "# x = data[['T_left', 'T_right', 'T_bottom', 'T_top', 'Time (s)', 'Alpha', 'x/L', 'y/L']]\n",
    "# y = data['Temperature']\n",
    "\n",
    "# # Instantiate the linear model and visualizer\n",
    "# model = Lasso()\n",
    "# visualizer = PredictionError(model)\n",
    "\n",
    "# visualizer.fit(train_x, train_y)  # Fit the training data to the visualizer\n",
    "# visualizer.score(test_x, test_y)  # Evaluate the model on the test data\n",
    "# visualizer.show()                 # Finalize and render the figure"
   ]
  }
 ],
 "metadata": {
  "kernelspec": {
   "display_name": "Python 3",
   "language": "python",
   "name": "python3"
  },
  "language_info": {
   "codemirror_mode": {
    "name": "ipython",
    "version": 3
   },
   "file_extension": ".py",
   "mimetype": "text/x-python",
   "name": "python",
   "nbconvert_exporter": "python",
   "pygments_lexer": "ipython3",
   "version": "3.8.5"
  }
 },
 "nbformat": 4,
 "nbformat_minor": 4
}
