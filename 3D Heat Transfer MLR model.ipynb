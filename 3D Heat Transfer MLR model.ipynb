{
 "cells": [
  {
   "cell_type": "code",
   "execution_count": 1,
   "metadata": {},
   "outputs": [],
   "source": [
    "import pandas as pd\n",
    "import numpy as np"
   ]
  },
  {
   "cell_type": "code",
   "execution_count": 2,
   "metadata": {},
   "outputs": [],
   "source": [
    "import statsmodels.api as sm\n",
    "import sklearn\n",
    "import matplotlib.pyplot as plt\n",
    "import seaborn as sns\n",
    "%matplotlib inline"
   ]
  },
  {
   "cell_type": "code",
   "execution_count": 3,
   "metadata": {},
   "outputs": [],
   "source": [
    "import warnings\n",
    "warnings.filterwarnings('ignore')"
   ]
  },
  {
   "cell_type": "code",
   "execution_count": 4,
   "metadata": {},
   "outputs": [],
   "source": [
    "data = pd.read_excel(r\"C:\\Users\\Asus\\Desktop\\DDP\\Clean3d_master_dataset.xlsx\")"
   ]
  },
  {
   "cell_type": "code",
   "execution_count": 5,
   "metadata": {},
   "outputs": [
    {
     "data": {
      "text/html": [
       "<div>\n",
       "<style scoped>\n",
       "    .dataframe tbody tr th:only-of-type {\n",
       "        vertical-align: middle;\n",
       "    }\n",
       "\n",
       "    .dataframe tbody tr th {\n",
       "        vertical-align: top;\n",
       "    }\n",
       "\n",
       "    .dataframe thead th {\n",
       "        text-align: right;\n",
       "    }\n",
       "</style>\n",
       "<table border=\"1\" class=\"dataframe\">\n",
       "  <thead>\n",
       "    <tr style=\"text-align: right;\">\n",
       "      <th></th>\n",
       "      <th>Time (s)</th>\n",
       "      <th>Material</th>\n",
       "      <th>Alpha</th>\n",
       "      <th>Part</th>\n",
       "      <th>Node</th>\n",
       "      <th>X</th>\n",
       "      <th>Y</th>\n",
       "      <th>Z</th>\n",
       "      <th>Temperature</th>\n",
       "      <th>T_left</th>\n",
       "      <th>T_right</th>\n",
       "      <th>T_bottom</th>\n",
       "      <th>T_top</th>\n",
       "      <th>T_back</th>\n",
       "      <th>T_front</th>\n",
       "      <th>x/L</th>\n",
       "      <th>y/L</th>\n",
       "      <th>z/L</th>\n",
       "    </tr>\n",
       "  </thead>\n",
       "  <tbody>\n",
       "    <tr>\n",
       "      <th>0</th>\n",
       "      <td>0.01</td>\n",
       "      <td>Copper</td>\n",
       "      <td>0.000111</td>\n",
       "      <td>PART-1-2</td>\n",
       "      <td>1</td>\n",
       "      <td>0.02</td>\n",
       "      <td>0.010</td>\n",
       "      <td>0.01</td>\n",
       "      <td>100.0</td>\n",
       "      <td>300</td>\n",
       "      <td>100</td>\n",
       "      <td>300</td>\n",
       "      <td>100</td>\n",
       "      <td>300</td>\n",
       "      <td>100</td>\n",
       "      <td>1.0</td>\n",
       "      <td>1.0</td>\n",
       "      <td>1.0</td>\n",
       "    </tr>\n",
       "    <tr>\n",
       "      <th>1</th>\n",
       "      <td>0.01</td>\n",
       "      <td>Copper</td>\n",
       "      <td>0.000111</td>\n",
       "      <td>PART-1-2</td>\n",
       "      <td>2</td>\n",
       "      <td>0.02</td>\n",
       "      <td>0.008</td>\n",
       "      <td>0.01</td>\n",
       "      <td>100.0</td>\n",
       "      <td>300</td>\n",
       "      <td>100</td>\n",
       "      <td>300</td>\n",
       "      <td>100</td>\n",
       "      <td>300</td>\n",
       "      <td>100</td>\n",
       "      <td>1.0</td>\n",
       "      <td>0.8</td>\n",
       "      <td>1.0</td>\n",
       "    </tr>\n",
       "    <tr>\n",
       "      <th>2</th>\n",
       "      <td>0.01</td>\n",
       "      <td>Copper</td>\n",
       "      <td>0.000111</td>\n",
       "      <td>PART-1-2</td>\n",
       "      <td>3</td>\n",
       "      <td>0.02</td>\n",
       "      <td>0.006</td>\n",
       "      <td>0.01</td>\n",
       "      <td>100.0</td>\n",
       "      <td>300</td>\n",
       "      <td>100</td>\n",
       "      <td>300</td>\n",
       "      <td>100</td>\n",
       "      <td>300</td>\n",
       "      <td>100</td>\n",
       "      <td>1.0</td>\n",
       "      <td>0.6</td>\n",
       "      <td>1.0</td>\n",
       "    </tr>\n",
       "    <tr>\n",
       "      <th>3</th>\n",
       "      <td>0.01</td>\n",
       "      <td>Copper</td>\n",
       "      <td>0.000111</td>\n",
       "      <td>PART-1-2</td>\n",
       "      <td>4</td>\n",
       "      <td>0.02</td>\n",
       "      <td>0.004</td>\n",
       "      <td>0.01</td>\n",
       "      <td>100.0</td>\n",
       "      <td>300</td>\n",
       "      <td>100</td>\n",
       "      <td>300</td>\n",
       "      <td>100</td>\n",
       "      <td>300</td>\n",
       "      <td>100</td>\n",
       "      <td>1.0</td>\n",
       "      <td>0.4</td>\n",
       "      <td>1.0</td>\n",
       "    </tr>\n",
       "    <tr>\n",
       "      <th>4</th>\n",
       "      <td>0.01</td>\n",
       "      <td>Copper</td>\n",
       "      <td>0.000111</td>\n",
       "      <td>PART-1-2</td>\n",
       "      <td>5</td>\n",
       "      <td>0.02</td>\n",
       "      <td>0.002</td>\n",
       "      <td>0.01</td>\n",
       "      <td>100.0</td>\n",
       "      <td>300</td>\n",
       "      <td>100</td>\n",
       "      <td>300</td>\n",
       "      <td>100</td>\n",
       "      <td>300</td>\n",
       "      <td>100</td>\n",
       "      <td>1.0</td>\n",
       "      <td>0.2</td>\n",
       "      <td>1.0</td>\n",
       "    </tr>\n",
       "  </tbody>\n",
       "</table>\n",
       "</div>"
      ],
      "text/plain": [
       "   Time (s) Material     Alpha      Part  Node     X      Y     Z  \\\n",
       "0      0.01   Copper  0.000111  PART-1-2     1  0.02  0.010  0.01   \n",
       "1      0.01   Copper  0.000111  PART-1-2     2  0.02  0.008  0.01   \n",
       "2      0.01   Copper  0.000111  PART-1-2     3  0.02  0.006  0.01   \n",
       "3      0.01   Copper  0.000111  PART-1-2     4  0.02  0.004  0.01   \n",
       "4      0.01   Copper  0.000111  PART-1-2     5  0.02  0.002  0.01   \n",
       "\n",
       "   Temperature  T_left  T_right  T_bottom  T_top  T_back  T_front  x/L  y/L  \\\n",
       "0        100.0     300      100       300    100     300      100  1.0  1.0   \n",
       "1        100.0     300      100       300    100     300      100  1.0  0.8   \n",
       "2        100.0     300      100       300    100     300      100  1.0  0.6   \n",
       "3        100.0     300      100       300    100     300      100  1.0  0.4   \n",
       "4        100.0     300      100       300    100     300      100  1.0  0.2   \n",
       "\n",
       "   z/L  \n",
       "0  1.0  \n",
       "1  1.0  \n",
       "2  1.0  \n",
       "3  1.0  \n",
       "4  1.0  "
      ]
     },
     "execution_count": 5,
     "metadata": {},
     "output_type": "execute_result"
    }
   ],
   "source": [
    "data.head()"
   ]
  },
  {
   "cell_type": "code",
   "execution_count": 6,
   "metadata": {},
   "outputs": [
    {
     "data": {
      "text/html": [
       "<div>\n",
       "<style scoped>\n",
       "    .dataframe tbody tr th:only-of-type {\n",
       "        vertical-align: middle;\n",
       "    }\n",
       "\n",
       "    .dataframe tbody tr th {\n",
       "        vertical-align: top;\n",
       "    }\n",
       "\n",
       "    .dataframe thead th {\n",
       "        text-align: right;\n",
       "    }\n",
       "</style>\n",
       "<table border=\"1\" class=\"dataframe\">\n",
       "  <thead>\n",
       "    <tr style=\"text-align: right;\">\n",
       "      <th></th>\n",
       "      <th>Time (s)</th>\n",
       "      <th>Alpha</th>\n",
       "      <th>Node</th>\n",
       "      <th>X</th>\n",
       "      <th>Y</th>\n",
       "      <th>Z</th>\n",
       "      <th>Temperature</th>\n",
       "      <th>T_left</th>\n",
       "      <th>T_right</th>\n",
       "      <th>T_bottom</th>\n",
       "      <th>T_top</th>\n",
       "      <th>T_back</th>\n",
       "      <th>T_front</th>\n",
       "      <th>x/L</th>\n",
       "      <th>y/L</th>\n",
       "      <th>z/L</th>\n",
       "    </tr>\n",
       "  </thead>\n",
       "  <tbody>\n",
       "    <tr>\n",
       "      <th>count</th>\n",
       "      <td>569052.000000</td>\n",
       "      <td>569052.000000</td>\n",
       "      <td>569052.000000</td>\n",
       "      <td>569052.000000</td>\n",
       "      <td>569052.000000</td>\n",
       "      <td>569052.000000</td>\n",
       "      <td>5.690520e+05</td>\n",
       "      <td>569052.000000</td>\n",
       "      <td>569052.000000</td>\n",
       "      <td>569052.000000</td>\n",
       "      <td>569052.000000</td>\n",
       "      <td>569052.000000</td>\n",
       "      <td>569052.000000</td>\n",
       "      <td>569052.000000</td>\n",
       "      <td>569052.000000</td>\n",
       "      <td>569052.000000</td>\n",
       "    </tr>\n",
       "    <tr>\n",
       "      <th>mean</th>\n",
       "      <td>0.756263</td>\n",
       "      <td>0.000050</td>\n",
       "      <td>198.500000</td>\n",
       "      <td>0.010000</td>\n",
       "      <td>0.005000</td>\n",
       "      <td>0.005000</td>\n",
       "      <td>2.077144e+02</td>\n",
       "      <td>450.034795</td>\n",
       "      <td>100.069589</td>\n",
       "      <td>400.069589</td>\n",
       "      <td>100.139179</td>\n",
       "      <td>333.263744</td>\n",
       "      <td>133.402923</td>\n",
       "      <td>0.500000</td>\n",
       "      <td>0.500000</td>\n",
       "      <td>0.500000</td>\n",
       "    </tr>\n",
       "    <tr>\n",
       "      <th>std</th>\n",
       "      <td>1.763121</td>\n",
       "      <td>0.000041</td>\n",
       "      <td>114.315089</td>\n",
       "      <td>0.006325</td>\n",
       "      <td>0.003416</td>\n",
       "      <td>0.003416</td>\n",
       "      <td>1.406171e+02</td>\n",
       "      <td>111.896817</td>\n",
       "      <td>81.607074</td>\n",
       "      <td>81.692304</td>\n",
       "      <td>81.649611</td>\n",
       "      <td>47.115832</td>\n",
       "      <td>47.165039</td>\n",
       "      <td>0.316228</td>\n",
       "      <td>0.341565</td>\n",
       "      <td>0.341565</td>\n",
       "    </tr>\n",
       "    <tr>\n",
       "      <th>min</th>\n",
       "      <td>0.010000</td>\n",
       "      <td>0.000004</td>\n",
       "      <td>1.000000</td>\n",
       "      <td>0.000000</td>\n",
       "      <td>0.000000</td>\n",
       "      <td>0.000000</td>\n",
       "      <td>-1.757920e-35</td>\n",
       "      <td>300.000000</td>\n",
       "      <td>0.000000</td>\n",
       "      <td>300.000000</td>\n",
       "      <td>0.000000</td>\n",
       "      <td>300.000000</td>\n",
       "      <td>100.000000</td>\n",
       "      <td>0.000000</td>\n",
       "      <td>0.000000</td>\n",
       "      <td>0.000000</td>\n",
       "    </tr>\n",
       "    <tr>\n",
       "      <th>25%</th>\n",
       "      <td>0.050000</td>\n",
       "      <td>0.000004</td>\n",
       "      <td>99.750000</td>\n",
       "      <td>0.004000</td>\n",
       "      <td>0.002000</td>\n",
       "      <td>0.002000</td>\n",
       "      <td>1.000000e+02</td>\n",
       "      <td>300.000000</td>\n",
       "      <td>0.000000</td>\n",
       "      <td>300.000000</td>\n",
       "      <td>0.000000</td>\n",
       "      <td>300.000000</td>\n",
       "      <td>100.000000</td>\n",
       "      <td>0.200000</td>\n",
       "      <td>0.200000</td>\n",
       "      <td>0.200000</td>\n",
       "    </tr>\n",
       "    <tr>\n",
       "      <th>50%</th>\n",
       "      <td>0.120000</td>\n",
       "      <td>0.000064</td>\n",
       "      <td>198.500000</td>\n",
       "      <td>0.010000</td>\n",
       "      <td>0.005000</td>\n",
       "      <td>0.005000</td>\n",
       "      <td>2.000000e+02</td>\n",
       "      <td>500.000000</td>\n",
       "      <td>100.000000</td>\n",
       "      <td>400.000000</td>\n",
       "      <td>100.000000</td>\n",
       "      <td>300.000000</td>\n",
       "      <td>100.000000</td>\n",
       "      <td>0.500000</td>\n",
       "      <td>0.500000</td>\n",
       "      <td>0.500000</td>\n",
       "    </tr>\n",
       "    <tr>\n",
       "      <th>75%</th>\n",
       "      <td>0.500000</td>\n",
       "      <td>0.000111</td>\n",
       "      <td>297.250000</td>\n",
       "      <td>0.016000</td>\n",
       "      <td>0.008000</td>\n",
       "      <td>0.008000</td>\n",
       "      <td>3.000000e+02</td>\n",
       "      <td>600.000000</td>\n",
       "      <td>200.000000</td>\n",
       "      <td>500.000000</td>\n",
       "      <td>200.000000</td>\n",
       "      <td>400.000000</td>\n",
       "      <td>200.000000</td>\n",
       "      <td>0.800000</td>\n",
       "      <td>0.800000</td>\n",
       "      <td>0.800000</td>\n",
       "    </tr>\n",
       "    <tr>\n",
       "      <th>max</th>\n",
       "      <td>10.000000</td>\n",
       "      <td>0.000111</td>\n",
       "      <td>396.000000</td>\n",
       "      <td>0.020000</td>\n",
       "      <td>0.010000</td>\n",
       "      <td>0.010000</td>\n",
       "      <td>6.000000e+02</td>\n",
       "      <td>600.000000</td>\n",
       "      <td>200.000000</td>\n",
       "      <td>500.000000</td>\n",
       "      <td>200.000000</td>\n",
       "      <td>400.000000</td>\n",
       "      <td>200.000000</td>\n",
       "      <td>1.000000</td>\n",
       "      <td>1.000000</td>\n",
       "      <td>1.000000</td>\n",
       "    </tr>\n",
       "  </tbody>\n",
       "</table>\n",
       "</div>"
      ],
      "text/plain": [
       "            Time (s)          Alpha           Node              X  \\\n",
       "count  569052.000000  569052.000000  569052.000000  569052.000000   \n",
       "mean        0.756263       0.000050     198.500000       0.010000   \n",
       "std         1.763121       0.000041     114.315089       0.006325   \n",
       "min         0.010000       0.000004       1.000000       0.000000   \n",
       "25%         0.050000       0.000004      99.750000       0.004000   \n",
       "50%         0.120000       0.000064     198.500000       0.010000   \n",
       "75%         0.500000       0.000111     297.250000       0.016000   \n",
       "max        10.000000       0.000111     396.000000       0.020000   \n",
       "\n",
       "                   Y              Z   Temperature         T_left  \\\n",
       "count  569052.000000  569052.000000  5.690520e+05  569052.000000   \n",
       "mean        0.005000       0.005000  2.077144e+02     450.034795   \n",
       "std         0.003416       0.003416  1.406171e+02     111.896817   \n",
       "min         0.000000       0.000000 -1.757920e-35     300.000000   \n",
       "25%         0.002000       0.002000  1.000000e+02     300.000000   \n",
       "50%         0.005000       0.005000  2.000000e+02     500.000000   \n",
       "75%         0.008000       0.008000  3.000000e+02     600.000000   \n",
       "max         0.010000       0.010000  6.000000e+02     600.000000   \n",
       "\n",
       "             T_right       T_bottom          T_top         T_back  \\\n",
       "count  569052.000000  569052.000000  569052.000000  569052.000000   \n",
       "mean      100.069589     400.069589     100.139179     333.263744   \n",
       "std        81.607074      81.692304      81.649611      47.115832   \n",
       "min         0.000000     300.000000       0.000000     300.000000   \n",
       "25%         0.000000     300.000000       0.000000     300.000000   \n",
       "50%       100.000000     400.000000     100.000000     300.000000   \n",
       "75%       200.000000     500.000000     200.000000     400.000000   \n",
       "max       200.000000     500.000000     200.000000     400.000000   \n",
       "\n",
       "             T_front            x/L            y/L            z/L  \n",
       "count  569052.000000  569052.000000  569052.000000  569052.000000  \n",
       "mean      133.402923       0.500000       0.500000       0.500000  \n",
       "std        47.165039       0.316228       0.341565       0.341565  \n",
       "min       100.000000       0.000000       0.000000       0.000000  \n",
       "25%       100.000000       0.200000       0.200000       0.200000  \n",
       "50%       100.000000       0.500000       0.500000       0.500000  \n",
       "75%       200.000000       0.800000       0.800000       0.800000  \n",
       "max       200.000000       1.000000       1.000000       1.000000  "
      ]
     },
     "execution_count": 6,
     "metadata": {},
     "output_type": "execute_result"
    }
   ],
   "source": [
    "data.describe()"
   ]
  },
  {
   "cell_type": "code",
   "execution_count": 7,
   "metadata": {},
   "outputs": [
    {
     "data": {
      "text/plain": [
       "((569052, 11), (569052,))"
      ]
     },
     "execution_count": 7,
     "metadata": {},
     "output_type": "execute_result"
    }
   ],
   "source": [
    "import time\n",
    "#storing starting time\n",
    "begin = time.time()\n",
    "\n",
    "#seperating independent and dependent variables, Temperature is the only dependent variable in our case\n",
    "x = data[['T_left', 'T_right','T_bottom', 'T_top', 'T_back', 'T_front', 'Time (s)', 'x/L', 'y/L', 'z/L', 'Alpha']]\n",
    "y = data['Temperature']\n",
    "x.shape, y.shape "
   ]
  },
  {
   "cell_type": "code",
   "execution_count": 8,
   "metadata": {},
   "outputs": [],
   "source": [
    "#Creating Training-Testing data from the new data frame\n",
    "\n",
    "from sklearn.model_selection import train_test_split\n",
    "train_x,test_x,train_y,test_y = train_test_split(x, y , test_size = 0.25, random_state = 100)"
   ]
  },
  {
   "cell_type": "code",
   "execution_count": 9,
   "metadata": {},
   "outputs": [],
   "source": [
    "#Importing Linear Regression and metric mean absolute error\n",
    "\n",
    "from sklearn.linear_model import LinearRegression as LR\n",
    "from sklearn.metrics import mean_absolute_error as mae"
   ]
  },
  {
   "cell_type": "code",
   "execution_count": 10,
   "metadata": {},
   "outputs": [
    {
     "name": "stdout",
     "output_type": "stream",
     "text": [
      "43574948833666.38\n"
     ]
    }
   ],
   "source": [
    "lr = LR()\n",
    "# Fitting the model\n",
    "lr.fit(train_x, train_y)\n",
    "\n",
    "print(lr.intercept_) #Intercept of the Multiple Linear Regression"
   ]
  },
  {
   "cell_type": "code",
   "execution_count": 11,
   "metadata": {},
   "outputs": [
    {
     "name": "stdout",
     "output_type": "stream",
     "text": [
      "Total runtime of Linear Regression program (in seconds) is 9.110755920410156\n"
     ]
    }
   ],
   "source": [
    "#storing end time\n",
    "time.sleep(1)\n",
    "end = time.time()\n",
    "\n",
    "#Calculating runtime\n",
    "print (\"Total runtime of Linear Regression program (in seconds) is\", end - begin)"
   ]
  },
  {
   "cell_type": "code",
   "execution_count": 12,
   "metadata": {},
   "outputs": [
    {
     "data": {
      "image/png": "[encoded data removed]",
      "text/plain": [
       "<Figure size 1080x1080 with 2 Axes>"
      ]
     },
     "metadata": {
      "needs_background": "light"
     },
     "output_type": "display_data"
    }
   ],
   "source": [
    "plt.figure(figsize = (15, 15))\n",
    "sns.heatmap(train_x.corr(), annot = True, cmap=\"RdYlGn\", vmin = -1, vmax = 1)\n",
    "plt.show()   "
   ]
  },
  {
   "cell_type": "code",
   "execution_count": 13,
   "metadata": {},
   "outputs": [
    {
     "name": "stdout",
     "output_type": "stream",
     "text": [
      "Training Mean Absolute Error 83.72668375487768\n"
     ]
    }
   ],
   "source": [
    "# Predicting over the Train Set and calculating error\n",
    "train_predict = lr.predict(train_x)\n",
    "k = mae(train_predict, train_y)\n",
    "print('Training Mean Absolute Error', k )"
   ]
  },
  {
   "cell_type": "code",
   "execution_count": 14,
   "metadata": {},
   "outputs": [
    {
     "name": "stdout",
     "output_type": "stream",
     "text": [
      "Test Mean Absolute Error     84.20026556531944\n"
     ]
    }
   ],
   "source": [
    "# Predicting over the Test Set and calculating error\n",
    "test_predict = lr.predict(test_x)\n",
    "k = mae(test_predict, test_y)\n",
    "print('Test Mean Absolute Error    ', k )"
   ]
  },
  {
   "cell_type": "code",
   "execution_count": 15,
   "metadata": {},
   "outputs": [
    {
     "name": "stdout",
     "output_type": "stream",
     "text": [
      "   Variables   Coefficient\n",
      "0     T_left  5.604197e-02\n",
      "1    T_right  6.699610e-02\n",
      "2   T_bottom -2.109277e+10\n",
      "3      T_top -1.593117e+11\n",
      "4     T_back -1.382189e+11\n",
      "5    T_front  2.014972e+11\n",
      "6   Time (s)  9.010306e+00\n",
      "7        x/L -1.057834e+02\n",
      "8        y/L -1.527585e+02\n",
      "9        z/L -1.613612e+02\n",
      "10     Alpha  3.227240e+05\n"
     ]
    }
   ],
   "source": [
    "#Regression Coefficients of the variables in order \n",
    "Coeff_data = {'Variables': ['T_left', 'T_right', 'T_bottom', 'T_top', 'T_back', 'T_front','Time (s)', 'x/L', 'y/L', 'z/L', \n",
    "                            'Alpha'], 'Coefficient': lr.coef_}\n",
    "df = pd.DataFrame(Coeff_data, columns = ['Variables', 'Coefficient'])\n",
    "\n",
    "print(df)"
   ]
  },
  {
   "cell_type": "code",
   "execution_count": 16,
   "metadata": {},
   "outputs": [
    {
     "data": {
      "text/plain": [
       "Text(0.5, 1.0, 'Coefficient plot')"
      ]
     },
     "execution_count": 16,
     "metadata": {},
     "output_type": "execute_result"
    },
    {
     "data": {
      "image/png": "[encoded data removed]",
      "text/plain": [
       "<Figure size 960x720 with 1 Axes>"
      ]
     },
     "metadata": {},
     "output_type": "display_data"
    }
   ],
   "source": [
    "#Unscaled Coefficient vs Variable plot\n",
    "plt.figure(figsize=(8, 6), dpi=120, facecolor='w', edgecolor='b')\n",
    "x = range(len(train_x.columns))\n",
    "y = lr.coef_\n",
    "plt.bar( x, y )\n",
    "plt.xlabel( \"Variables\")\n",
    "plt.ylabel('Coefficients')\n",
    "plt.title('Coefficient plot')"
   ]
  },
  {
   "cell_type": "code",
   "execution_count": 17,
   "metadata": {},
   "outputs": [
    {
     "data": {
      "text/plain": [
       "40.48738963587848"
      ]
     },
     "execution_count": 17,
     "metadata": {},
     "output_type": "execute_result"
    }
   ],
   "source": [
    "lr.score(train_x, train_y)*100"
   ]
  },
  {
   "cell_type": "code",
   "execution_count": 18,
   "metadata": {},
   "outputs": [
    {
     "data": {
      "text/plain": [
       "40.17753413221803"
      ]
     },
     "execution_count": 18,
     "metadata": {},
     "output_type": "execute_result"
    }
   ],
   "source": [
    "lr.score(test_x,test_y)*100"
   ]
  },
  {
   "cell_type": "code",
   "execution_count": 19,
   "metadata": {},
   "outputs": [
    {
     "name": "stdout",
     "output_type": "stream",
     "text": [
      "[134.09375   232.171875  240.796875  ... 237.609375  140.8828125\n",
      " 203.9375   ]\n"
     ]
    }
   ],
   "source": [
    "y_pred = lr.predict(test_x)\n",
    "print (y_pred)"
   ]
  },
  {
   "cell_type": "code",
   "execution_count": 20,
   "metadata": {},
   "outputs": [
    {
     "data": {
      "text/html": [
       "<div>\n",
       "<style scoped>\n",
       "    .dataframe tbody tr th:only-of-type {\n",
       "        vertical-align: middle;\n",
       "    }\n",
       "\n",
       "    .dataframe tbody tr th {\n",
       "        vertical-align: top;\n",
       "    }\n",
       "\n",
       "    .dataframe thead th {\n",
       "        text-align: right;\n",
       "    }\n",
       "</style>\n",
       "<table border=\"1\" class=\"dataframe\">\n",
       "  <thead>\n",
       "    <tr style=\"text-align: right;\">\n",
       "      <th></th>\n",
       "      <th>Actual</th>\n",
       "      <th>Predicted</th>\n",
       "    </tr>\n",
       "  </thead>\n",
       "  <tbody>\n",
       "    <tr>\n",
       "      <th>306399</th>\n",
       "      <td>100.00000</td>\n",
       "      <td>134.093750</td>\n",
       "    </tr>\n",
       "    <tr>\n",
       "      <th>114750</th>\n",
       "      <td>200.00000</td>\n",
       "      <td>232.171875</td>\n",
       "    </tr>\n",
       "    <tr>\n",
       "      <th>439305</th>\n",
       "      <td>300.00000</td>\n",
       "      <td>240.796875</td>\n",
       "    </tr>\n",
       "    <tr>\n",
       "      <th>163614</th>\n",
       "      <td>300.00000</td>\n",
       "      <td>142.539062</td>\n",
       "    </tr>\n",
       "    <tr>\n",
       "      <th>109257</th>\n",
       "      <td>300.00000</td>\n",
       "      <td>405.453125</td>\n",
       "    </tr>\n",
       "    <tr>\n",
       "      <th>...</th>\n",
       "      <td>...</td>\n",
       "      <td>...</td>\n",
       "    </tr>\n",
       "    <tr>\n",
       "      <th>142312</th>\n",
       "      <td>200.00000</td>\n",
       "      <td>218.656250</td>\n",
       "    </tr>\n",
       "    <tr>\n",
       "      <th>434710</th>\n",
       "      <td>2.62269</td>\n",
       "      <td>188.734375</td>\n",
       "    </tr>\n",
       "    <tr>\n",
       "      <th>36817</th>\n",
       "      <td>400.00000</td>\n",
       "      <td>237.609375</td>\n",
       "    </tr>\n",
       "    <tr>\n",
       "      <th>512875</th>\n",
       "      <td>55.97630</td>\n",
       "      <td>140.882812</td>\n",
       "    </tr>\n",
       "    <tr>\n",
       "      <th>320819</th>\n",
       "      <td>300.00000</td>\n",
       "      <td>203.937500</td>\n",
       "    </tr>\n",
       "  </tbody>\n",
       "</table>\n",
       "<p>142263 rows × 2 columns</p>\n",
       "</div>"
      ],
      "text/plain": [
       "           Actual   Predicted\n",
       "306399  100.00000  134.093750\n",
       "114750  200.00000  232.171875\n",
       "439305  300.00000  240.796875\n",
       "163614  300.00000  142.539062\n",
       "109257  300.00000  405.453125\n",
       "...           ...         ...\n",
       "142312  200.00000  218.656250\n",
       "434710    2.62269  188.734375\n",
       "36817   400.00000  237.609375\n",
       "512875   55.97630  140.882812\n",
       "320819  300.00000  203.937500\n",
       "\n",
       "[142263 rows x 2 columns]"
      ]
     },
     "execution_count": 20,
     "metadata": {},
     "output_type": "execute_result"
    }
   ],
   "source": [
    "df=pd.DataFrame({'Actual':test_y, 'Predicted':y_pred})\n",
    "df"
   ]
  },
  {
   "cell_type": "code",
   "execution_count": 21,
   "metadata": {},
   "outputs": [
    {
     "data": {
      "image/png": "[encoded data removed]",
      "text/plain": [
       "<Figure size 360x504 with 1 Axes>"
      ]
     },
     "metadata": {
      "needs_background": "light"
     },
     "output_type": "display_data"
    }
   ],
   "source": [
    "import seaborn as sns\n",
    "plt.figure(figsize=(5, 7))\n",
    "\n",
    "\n",
    "ax = sns.distplot(y, hist=False, color=\"r\", label=\"Actual Value\")\n",
    "sns.distplot(y_pred, hist=False, color=\"b\", label=\"Fitted Values\" , ax=ax)\n",
    "\n",
    "\n",
    "plt.title('Actual vs Fitted Values for Temperature (Linear Regression)')\n",
    "\n",
    "\n",
    "plt.show()\n",
    "plt.close()"
   ]
  },
  {
   "cell_type": "code",
   "execution_count": null,
   "metadata": {},
   "outputs": [],
   "source": []
  },
  {
   "cell_type": "markdown",
   "metadata": {},
   "source": [
    "## Scaling the Variables"
   ]
  },
  {
   "cell_type": "code",
   "execution_count": 22,
   "metadata": {},
   "outputs": [],
   "source": [
    "from sklearn.preprocessing import StandardScaler"
   ]
  },
  {
   "cell_type": "code",
   "execution_count": 23,
   "metadata": {},
   "outputs": [
    {
     "data": {
      "text/html": [
       "<div>\n",
       "<style scoped>\n",
       "    .dataframe tbody tr th:only-of-type {\n",
       "        vertical-align: middle;\n",
       "    }\n",
       "\n",
       "    .dataframe tbody tr th {\n",
       "        vertical-align: top;\n",
       "    }\n",
       "\n",
       "    .dataframe thead th {\n",
       "        text-align: right;\n",
       "    }\n",
       "</style>\n",
       "<table border=\"1\" class=\"dataframe\">\n",
       "  <thead>\n",
       "    <tr style=\"text-align: right;\">\n",
       "      <th></th>\n",
       "      <th>Time (s)</th>\n",
       "      <th>Material</th>\n",
       "      <th>Alpha</th>\n",
       "      <th>Part</th>\n",
       "      <th>Node</th>\n",
       "      <th>X</th>\n",
       "      <th>Y</th>\n",
       "      <th>Z</th>\n",
       "      <th>Temperature</th>\n",
       "      <th>T_left</th>\n",
       "      <th>...</th>\n",
       "      <th>y/L</th>\n",
       "      <th>z/L</th>\n",
       "      <th>scaled_T_left</th>\n",
       "      <th>scaled_T_right</th>\n",
       "      <th>scaled_T_bottom</th>\n",
       "      <th>scaled_T_top</th>\n",
       "      <th>scaled_time</th>\n",
       "      <th>scaled_location_x</th>\n",
       "      <th>scaled_location_y</th>\n",
       "      <th>scaled_alpha</th>\n",
       "    </tr>\n",
       "  </thead>\n",
       "  <tbody>\n",
       "    <tr>\n",
       "      <th>0</th>\n",
       "      <td>0.01</td>\n",
       "      <td>Copper</td>\n",
       "      <td>0.000111</td>\n",
       "      <td>PART-1-2</td>\n",
       "      <td>1</td>\n",
       "      <td>0.02</td>\n",
       "      <td>0.010</td>\n",
       "      <td>0.01</td>\n",
       "      <td>100.0</td>\n",
       "      <td>300</td>\n",
       "      <td>...</td>\n",
       "      <td>1.0</td>\n",
       "      <td>1.0</td>\n",
       "      <td>-1.340833</td>\n",
       "      <td>-0.000853</td>\n",
       "      <td>-1.224958</td>\n",
       "      <td>-0.001705</td>\n",
       "      <td>-0.423263</td>\n",
       "      <td>1.581139</td>\n",
       "      <td>1.46385</td>\n",
       "      <td>1.467504</td>\n",
       "    </tr>\n",
       "    <tr>\n",
       "      <th>1</th>\n",
       "      <td>0.01</td>\n",
       "      <td>Copper</td>\n",
       "      <td>0.000111</td>\n",
       "      <td>PART-1-2</td>\n",
       "      <td>2</td>\n",
       "      <td>0.02</td>\n",
       "      <td>0.008</td>\n",
       "      <td>0.01</td>\n",
       "      <td>100.0</td>\n",
       "      <td>300</td>\n",
       "      <td>...</td>\n",
       "      <td>0.8</td>\n",
       "      <td>1.0</td>\n",
       "      <td>-1.340833</td>\n",
       "      <td>-0.000853</td>\n",
       "      <td>-1.224958</td>\n",
       "      <td>-0.001705</td>\n",
       "      <td>-0.423263</td>\n",
       "      <td>1.581139</td>\n",
       "      <td>0.87831</td>\n",
       "      <td>1.467504</td>\n",
       "    </tr>\n",
       "    <tr>\n",
       "      <th>2</th>\n",
       "      <td>0.01</td>\n",
       "      <td>Copper</td>\n",
       "      <td>0.000111</td>\n",
       "      <td>PART-1-2</td>\n",
       "      <td>3</td>\n",
       "      <td>0.02</td>\n",
       "      <td>0.006</td>\n",
       "      <td>0.01</td>\n",
       "      <td>100.0</td>\n",
       "      <td>300</td>\n",
       "      <td>...</td>\n",
       "      <td>0.6</td>\n",
       "      <td>1.0</td>\n",
       "      <td>-1.340833</td>\n",
       "      <td>-0.000853</td>\n",
       "      <td>-1.224958</td>\n",
       "      <td>-0.001705</td>\n",
       "      <td>-0.423263</td>\n",
       "      <td>1.581139</td>\n",
       "      <td>0.29277</td>\n",
       "      <td>1.467504</td>\n",
       "    </tr>\n",
       "    <tr>\n",
       "      <th>3</th>\n",
       "      <td>0.01</td>\n",
       "      <td>Copper</td>\n",
       "      <td>0.000111</td>\n",
       "      <td>PART-1-2</td>\n",
       "      <td>4</td>\n",
       "      <td>0.02</td>\n",
       "      <td>0.004</td>\n",
       "      <td>0.01</td>\n",
       "      <td>100.0</td>\n",
       "      <td>300</td>\n",
       "      <td>...</td>\n",
       "      <td>0.4</td>\n",
       "      <td>1.0</td>\n",
       "      <td>-1.340833</td>\n",
       "      <td>-0.000853</td>\n",
       "      <td>-1.224958</td>\n",
       "      <td>-0.001705</td>\n",
       "      <td>-0.423263</td>\n",
       "      <td>1.581139</td>\n",
       "      <td>-0.29277</td>\n",
       "      <td>1.467504</td>\n",
       "    </tr>\n",
       "    <tr>\n",
       "      <th>4</th>\n",
       "      <td>0.01</td>\n",
       "      <td>Copper</td>\n",
       "      <td>0.000111</td>\n",
       "      <td>PART-1-2</td>\n",
       "      <td>5</td>\n",
       "      <td>0.02</td>\n",
       "      <td>0.002</td>\n",
       "      <td>0.01</td>\n",
       "      <td>100.0</td>\n",
       "      <td>300</td>\n",
       "      <td>...</td>\n",
       "      <td>0.2</td>\n",
       "      <td>1.0</td>\n",
       "      <td>-1.340833</td>\n",
       "      <td>-0.000853</td>\n",
       "      <td>-1.224958</td>\n",
       "      <td>-0.001705</td>\n",
       "      <td>-0.423263</td>\n",
       "      <td>1.581139</td>\n",
       "      <td>-0.87831</td>\n",
       "      <td>1.467504</td>\n",
       "    </tr>\n",
       "    <tr>\n",
       "      <th>...</th>\n",
       "      <td>...</td>\n",
       "      <td>...</td>\n",
       "      <td>...</td>\n",
       "      <td>...</td>\n",
       "      <td>...</td>\n",
       "      <td>...</td>\n",
       "      <td>...</td>\n",
       "      <td>...</td>\n",
       "      <td>...</td>\n",
       "      <td>...</td>\n",
       "      <td>...</td>\n",
       "      <td>...</td>\n",
       "      <td>...</td>\n",
       "      <td>...</td>\n",
       "      <td>...</td>\n",
       "      <td>...</td>\n",
       "      <td>...</td>\n",
       "      <td>...</td>\n",
       "      <td>...</td>\n",
       "      <td>...</td>\n",
       "      <td>...</td>\n",
       "    </tr>\n",
       "    <tr>\n",
       "      <th>569047</th>\n",
       "      <td>10.00</td>\n",
       "      <td>Stainless Steel 310</td>\n",
       "      <td>0.000004</td>\n",
       "      <td>PART-1-2</td>\n",
       "      <td>392</td>\n",
       "      <td>0.00</td>\n",
       "      <td>0.008</td>\n",
       "      <td>0.00</td>\n",
       "      <td>300.0</td>\n",
       "      <td>600</td>\n",
       "      <td>...</td>\n",
       "      <td>0.8</td>\n",
       "      <td>0.0</td>\n",
       "      <td>1.340211</td>\n",
       "      <td>-1.226238</td>\n",
       "      <td>1.223255</td>\n",
       "      <td>1.223042</td>\n",
       "      <td>5.242831</td>\n",
       "      <td>-1.581139</td>\n",
       "      <td>0.87831</td>\n",
       "      <td>-1.136450</td>\n",
       "    </tr>\n",
       "    <tr>\n",
       "      <th>569048</th>\n",
       "      <td>10.00</td>\n",
       "      <td>Stainless Steel 310</td>\n",
       "      <td>0.000004</td>\n",
       "      <td>PART-1-2</td>\n",
       "      <td>393</td>\n",
       "      <td>0.00</td>\n",
       "      <td>0.006</td>\n",
       "      <td>0.00</td>\n",
       "      <td>300.0</td>\n",
       "      <td>600</td>\n",
       "      <td>...</td>\n",
       "      <td>0.6</td>\n",
       "      <td>0.0</td>\n",
       "      <td>1.340211</td>\n",
       "      <td>-1.226238</td>\n",
       "      <td>1.223255</td>\n",
       "      <td>1.223042</td>\n",
       "      <td>5.242831</td>\n",
       "      <td>-1.581139</td>\n",
       "      <td>0.29277</td>\n",
       "      <td>-1.136450</td>\n",
       "    </tr>\n",
       "    <tr>\n",
       "      <th>569049</th>\n",
       "      <td>10.00</td>\n",
       "      <td>Stainless Steel 310</td>\n",
       "      <td>0.000004</td>\n",
       "      <td>PART-1-2</td>\n",
       "      <td>394</td>\n",
       "      <td>0.00</td>\n",
       "      <td>0.004</td>\n",
       "      <td>0.00</td>\n",
       "      <td>300.0</td>\n",
       "      <td>600</td>\n",
       "      <td>...</td>\n",
       "      <td>0.4</td>\n",
       "      <td>0.0</td>\n",
       "      <td>1.340211</td>\n",
       "      <td>-1.226238</td>\n",
       "      <td>1.223255</td>\n",
       "      <td>1.223042</td>\n",
       "      <td>5.242831</td>\n",
       "      <td>-1.581139</td>\n",
       "      <td>-0.29277</td>\n",
       "      <td>-1.136450</td>\n",
       "    </tr>\n",
       "    <tr>\n",
       "      <th>569050</th>\n",
       "      <td>10.00</td>\n",
       "      <td>Stainless Steel 310</td>\n",
       "      <td>0.000004</td>\n",
       "      <td>PART-1-2</td>\n",
       "      <td>395</td>\n",
       "      <td>0.00</td>\n",
       "      <td>0.002</td>\n",
       "      <td>0.00</td>\n",
       "      <td>300.0</td>\n",
       "      <td>600</td>\n",
       "      <td>...</td>\n",
       "      <td>0.2</td>\n",
       "      <td>0.0</td>\n",
       "      <td>1.340211</td>\n",
       "      <td>-1.226238</td>\n",
       "      <td>1.223255</td>\n",
       "      <td>1.223042</td>\n",
       "      <td>5.242831</td>\n",
       "      <td>-1.581139</td>\n",
       "      <td>-0.87831</td>\n",
       "      <td>-1.136450</td>\n",
       "    </tr>\n",
       "    <tr>\n",
       "      <th>569051</th>\n",
       "      <td>10.00</td>\n",
       "      <td>Stainless Steel 310</td>\n",
       "      <td>0.000004</td>\n",
       "      <td>PART-1-2</td>\n",
       "      <td>396</td>\n",
       "      <td>0.00</td>\n",
       "      <td>0.000</td>\n",
       "      <td>0.00</td>\n",
       "      <td>300.0</td>\n",
       "      <td>600</td>\n",
       "      <td>...</td>\n",
       "      <td>0.0</td>\n",
       "      <td>0.0</td>\n",
       "      <td>1.340211</td>\n",
       "      <td>-1.226238</td>\n",
       "      <td>1.223255</td>\n",
       "      <td>1.223042</td>\n",
       "      <td>5.242831</td>\n",
       "      <td>-1.581139</td>\n",
       "      <td>-1.46385</td>\n",
       "      <td>-1.136450</td>\n",
       "    </tr>\n",
       "  </tbody>\n",
       "</table>\n",
       "<p>569052 rows × 26 columns</p>\n",
       "</div>"
      ],
      "text/plain": [
       "        Time (s)             Material     Alpha      Part  Node     X      Y  \\\n",
       "0           0.01               Copper  0.000111  PART-1-2     1  0.02  0.010   \n",
       "1           0.01               Copper  0.000111  PART-1-2     2  0.02  0.008   \n",
       "2           0.01               Copper  0.000111  PART-1-2     3  0.02  0.006   \n",
       "3           0.01               Copper  0.000111  PART-1-2     4  0.02  0.004   \n",
       "4           0.01               Copper  0.000111  PART-1-2     5  0.02  0.002   \n",
       "...          ...                  ...       ...       ...   ...   ...    ...   \n",
       "569047     10.00  Stainless Steel 310  0.000004  PART-1-2   392  0.00  0.008   \n",
       "569048     10.00  Stainless Steel 310  0.000004  PART-1-2   393  0.00  0.006   \n",
       "569049     10.00  Stainless Steel 310  0.000004  PART-1-2   394  0.00  0.004   \n",
       "569050     10.00  Stainless Steel 310  0.000004  PART-1-2   395  0.00  0.002   \n",
       "569051     10.00  Stainless Steel 310  0.000004  PART-1-2   396  0.00  0.000   \n",
       "\n",
       "           Z  Temperature  T_left  ...  y/L  z/L  scaled_T_left  \\\n",
       "0       0.01        100.0     300  ...  1.0  1.0      -1.340833   \n",
       "1       0.01        100.0     300  ...  0.8  1.0      -1.340833   \n",
       "2       0.01        100.0     300  ...  0.6  1.0      -1.340833   \n",
       "3       0.01        100.0     300  ...  0.4  1.0      -1.340833   \n",
       "4       0.01        100.0     300  ...  0.2  1.0      -1.340833   \n",
       "...      ...          ...     ...  ...  ...  ...            ...   \n",
       "569047  0.00        300.0     600  ...  0.8  0.0       1.340211   \n",
       "569048  0.00        300.0     600  ...  0.6  0.0       1.340211   \n",
       "569049  0.00        300.0     600  ...  0.4  0.0       1.340211   \n",
       "569050  0.00        300.0     600  ...  0.2  0.0       1.340211   \n",
       "569051  0.00        300.0     600  ...  0.0  0.0       1.340211   \n",
       "\n",
       "        scaled_T_right  scaled_T_bottom  scaled_T_top  scaled_time  \\\n",
       "0            -0.000853        -1.224958     -0.001705    -0.423263   \n",
       "1            -0.000853        -1.224958     -0.001705    -0.423263   \n",
       "2            -0.000853        -1.224958     -0.001705    -0.423263   \n",
       "3            -0.000853        -1.224958     -0.001705    -0.423263   \n",
       "4            -0.000853        -1.224958     -0.001705    -0.423263   \n",
       "...                ...              ...           ...          ...   \n",
       "569047       -1.226238         1.223255      1.223042     5.242831   \n",
       "569048       -1.226238         1.223255      1.223042     5.242831   \n",
       "569049       -1.226238         1.223255      1.223042     5.242831   \n",
       "569050       -1.226238         1.223255      1.223042     5.242831   \n",
       "569051       -1.226238         1.223255      1.223042     5.242831   \n",
       "\n",
       "        scaled_location_x  scaled_location_y  scaled_alpha  \n",
       "0                1.581139            1.46385      1.467504  \n",
       "1                1.581139            0.87831      1.467504  \n",
       "2                1.581139            0.29277      1.467504  \n",
       "3                1.581139           -0.29277      1.467504  \n",
       "4                1.581139           -0.87831      1.467504  \n",
       "...                   ...                ...           ...  \n",
       "569047          -1.581139            0.87831     -1.136450  \n",
       "569048          -1.581139            0.29277     -1.136450  \n",
       "569049          -1.581139           -0.29277     -1.136450  \n",
       "569050          -1.581139           -0.87831     -1.136450  \n",
       "569051          -1.581139           -1.46385     -1.136450  \n",
       "\n",
       "[569052 rows x 26 columns]"
      ]
     },
     "execution_count": 23,
     "metadata": {},
     "output_type": "execute_result"
    }
   ],
   "source": [
    "data['scaled_T_left']   = StandardScaler().fit_transform(data[['T_left']])\n",
    "data['scaled_T_right']  = StandardScaler().fit_transform(data[['T_right']])\n",
    "data['scaled_T_bottom'] = StandardScaler().fit_transform(data[['T_bottom']])\n",
    "data['scaled_T_top']    = StandardScaler().fit_transform(data[['T_top']])\n",
    "data['scaled_time']     = StandardScaler().fit_transform(data[['Time (s)']])\n",
    "data['scaled_location_x'] = StandardScaler().fit_transform(data[['x/L']])\n",
    "data['scaled_location_y'] = StandardScaler().fit_transform(data[['y/L']])\n",
    "data['scaled_alpha']    = StandardScaler().fit_transform(data[['Alpha']])\n",
    "data"
   ]
  },
  {
   "cell_type": "code",
   "execution_count": 24,
   "metadata": {},
   "outputs": [
    {
     "data": {
      "text/plain": [
       "((569052, 8), (569052,))"
      ]
     },
     "execution_count": 24,
     "metadata": {},
     "output_type": "execute_result"
    }
   ],
   "source": [
    "#seperating independent and dependent variables, Temperature is the only dependent variable in our case\n",
    "x = data[['scaled_T_left', 'scaled_T_right', 'scaled_T_bottom', 'scaled_T_top', 'scaled_time', 'scaled_location_x', 'scaled_location_y', 'scaled_alpha']]\n",
    "y = data['Temperature']\n",
    "x.shape, y.shape"
   ]
  },
  {
   "cell_type": "code",
   "execution_count": 25,
   "metadata": {},
   "outputs": [
    {
     "name": "stdout",
     "output_type": "stream",
     "text": [
      "Mean MAE: 97.952\n"
     ]
    }
   ],
   "source": [
    "\n",
    "# example of normalizing input and output variables for regression.\n",
    "from numpy import mean\n",
    "from numpy import absolute\n",
    "from numpy import loadtxt\n",
    "from sklearn.model_selection import cross_val_score\n",
    "from sklearn.model_selection import KFold\n",
    "from sklearn.pipeline import Pipeline\n",
    "from sklearn.linear_model import HuberRegressor\n",
    "from sklearn.preprocessing import MinMaxScaler\n",
    "from sklearn.compose import TransformedTargetRegressor\n",
    "# load data\n",
    "#dataset = loadtxt('housing.csv', delimiter=\",\")\n",
    "# split into inputs and outputs\n",
    "#X, y = dataset[:, :-1], dataset[:, -1]\n",
    "x = data[['scaled_T_left', 'scaled_T_right','scaled_T_bottom', 'scaled_T_top', 'scaled_time', 'scaled_location_x', 'scaled_location_y', 'scaled_alpha']]\n",
    "y = data['Temperature']\n",
    "# prepare the model with input scaling\n",
    "pipeline = Pipeline(steps=[('normalize', StandardScaler()), ('model', LR())])\n",
    "# prepare the model with target scaling\n",
    "model = TransformedTargetRegressor(regressor=pipeline, transformer=StandardScaler())\n",
    "# evaluate model\n",
    "cv = KFold(n_splits=10, shuffle=True, random_state=1)\n",
    "scores = cross_val_score(model, x, y, scoring='neg_mean_absolute_error', cv=cv, n_jobs=-1)\n",
    "# convert scores to positive\n",
    "scores = absolute(scores)\n",
    "# summarize the result\n",
    "s_mean = mean(scores)\n",
    "print('Mean MAE: %.3f' % (s_mean))"
   ]
  },
  {
   "cell_type": "code",
   "execution_count": 26,
   "metadata": {},
   "outputs": [],
   "source": [
    "import time\n",
    "#storing starting time\n",
    "begin = time.time()\n",
    "\n",
    "#Creating Training-Testing data from the new data frame\n",
    "\n",
    "from sklearn.model_selection import train_test_split\n",
    "train_x,test_x,train_y,test_y = train_test_split(x, y , test_size = 0.25, random_state = 100)"
   ]
  },
  {
   "cell_type": "code",
   "execution_count": 27,
   "metadata": {},
   "outputs": [],
   "source": [
    "#Importing Linear Regression and metric mean absolute error\n",
    "\n",
    "from sklearn.linear_model import LinearRegression as LR\n",
    "from sklearn.metrics import mean_absolute_error as mae"
   ]
  },
  {
   "cell_type": "code",
   "execution_count": 28,
   "metadata": {},
   "outputs": [
    {
     "name": "stdout",
     "output_type": "stream",
     "text": [
      "207.68531326731053\n"
     ]
    }
   ],
   "source": [
    "# Creating instance of Linear Regresssion\n",
    "lr = LR()\n",
    "\n",
    "# Fitting the model\n",
    "lr.fit(train_x, train_y)\n",
    "\n",
    "print(lr.intercept_) #Intercept of the Multiple Linear Regression"
   ]
  },
  {
   "cell_type": "code",
   "execution_count": 29,
   "metadata": {},
   "outputs": [
    {
     "name": "stdout",
     "output_type": "stream",
     "text": [
      "Total runtime of Random Forest program (in seconds) is 2.057631015777588\n"
     ]
    }
   ],
   "source": [
    "#storing end time\n",
    "time.sleep(1)\n",
    "end = time.time()\n",
    "\n",
    "#Calculating runtime\n",
    "print (\"Total runtime of Random Forest program (in seconds) is\", end - begin)"
   ]
  },
  {
   "cell_type": "code",
   "execution_count": 30,
   "metadata": {},
   "outputs": [
    {
     "data": {
      "image/png": "[encoded data removed]",
      "text/plain": [
       "<Figure size 1080x1080 with 2 Axes>"
      ]
     },
     "metadata": {
      "needs_background": "light"
     },
     "output_type": "display_data"
    }
   ],
   "source": [
    "plt.figure(figsize = (15, 15))\n",
    "sns.heatmap(train_x.corr(), annot = True, cmap=\"RdYlGn\", vmin = -1, vmax = 1)\n",
    "plt.show() "
   ]
  },
  {
   "cell_type": "code",
   "execution_count": 31,
   "metadata": {},
   "outputs": [
    {
     "name": "stdout",
     "output_type": "stream",
     "text": [
      "Training Mean Absolute Error 97.86241725573107\n"
     ]
    }
   ],
   "source": [
    "# Predicting over the Train Set and calculating error\n",
    "train_predict = lr.predict(train_x)\n",
    "k = mae(train_predict, train_y)\n",
    "print('Training Mean Absolute Error', k )"
   ]
  },
  {
   "cell_type": "code",
   "execution_count": 32,
   "metadata": {},
   "outputs": [
    {
     "name": "stdout",
     "output_type": "stream",
     "text": [
      "Test Mean Absolute Error     98.19783212388971\n"
     ]
    }
   ],
   "source": [
    "# Predicting over the Test Set and calculating error\n",
    "test_predict = lr.predict(test_x)\n",
    "k = mae(test_predict, test_y)\n",
    "print('Test Mean Absolute Error    ', k )"
   ]
  },
  {
   "cell_type": "code",
   "execution_count": 33,
   "metadata": {},
   "outputs": [
    {
     "data": {
      "text/plain": [
       "array([  6.26310299,   5.45085794,  23.81821032,   6.81112921,\n",
       "        15.86830434, -33.41680853, -52.14182897,  13.28365372])"
      ]
     },
     "execution_count": 33,
     "metadata": {},
     "output_type": "execute_result"
    }
   ],
   "source": [
    "lr.coef_"
   ]
  },
  {
   "cell_type": "code",
   "execution_count": 34,
   "metadata": {},
   "outputs": [
    {
     "name": "stdout",
     "output_type": "stream",
     "text": [
      "           Variables  Coefficient\n",
      "0      scaled_T_left     6.263103\n",
      "1     scaled_T_right     5.450858\n",
      "2    scaled_T_bottom    23.818210\n",
      "3       scaled_T_top     6.811129\n",
      "4        scaled_time    15.868304\n",
      "5  scaled_location_x   -33.416809\n",
      "6  scaled_location_y   -52.141829\n",
      "7       scaled_Alpha    13.283654\n"
     ]
    }
   ],
   "source": [
    "#Regression Coefficients of the variables in order \n",
    "Coeff_data = {'Variables': ['scaled_T_left', 'scaled_T_right', 'scaled_T_bottom', 'scaled_T_top', 'scaled_time', 'scaled_location_x', 'scaled_location_y', 'scaled_Alpha'], 'Coefficient': lr.coef_}\n",
    "df = pd.DataFrame(Coeff_data, columns = ['Variables', 'Coefficient'])\n",
    "\n",
    "print(df)"
   ]
  },
  {
   "cell_type": "code",
   "execution_count": 35,
   "metadata": {},
   "outputs": [
    {
     "data": {
      "text/plain": [
       "Text(0.5, 1.0, 'Coefficient plot')"
      ]
     },
     "execution_count": 35,
     "metadata": {},
     "output_type": "execute_result"
    },
    {
     "data": {
      "image/png": "[encoded data removed]",
      "text/plain": [
       "<Figure size 960x720 with 1 Axes>"
      ]
     },
     "metadata": {},
     "output_type": "display_data"
    }
   ],
   "source": [
    "plt.figure(figsize=(8, 6), dpi=120, facecolor='w', edgecolor='b')\n",
    "x = range(len(train_x.columns))\n",
    "y = lr.coef_\n",
    "plt.bar( x, y )\n",
    "plt.xlabel( \"Variables\")\n",
    "plt.ylabel('Coefficients')\n",
    "plt.title('Coefficient plot')"
   ]
  },
  {
   "cell_type": "code",
   "execution_count": 36,
   "metadata": {},
   "outputs": [
    {
     "data": {
      "text/plain": [
       "25.10530864056646"
      ]
     },
     "execution_count": 36,
     "metadata": {},
     "output_type": "execute_result"
    }
   ],
   "source": [
    "lr.score(train_x, train_y)*100"
   ]
  },
  {
   "cell_type": "code",
   "execution_count": 37,
   "metadata": {},
   "outputs": [
    {
     "data": {
      "text/plain": [
       "25.002319487290904"
      ]
     },
     "execution_count": 37,
     "metadata": {},
     "output_type": "execute_result"
    }
   ],
   "source": [
    "lr.score(test_x,test_y)*100"
   ]
  },
  {
   "cell_type": "code",
   "execution_count": 38,
   "metadata": {},
   "outputs": [
    {
     "name": "stdout",
     "output_type": "stream",
     "text": [
      "[214.59774159 215.98988257 160.01487098 ... 189.0100491  124.85889492\n",
      " 187.69993159]\n"
     ]
    }
   ],
   "source": [
    "y_pred = lr.predict(test_x)\n",
    "print (y_pred)"
   ]
  },
  {
   "cell_type": "code",
   "execution_count": 39,
   "metadata": {},
   "outputs": [
    {
     "data": {
      "text/html": [
       "<div>\n",
       "<style scoped>\n",
       "    .dataframe tbody tr th:only-of-type {\n",
       "        vertical-align: middle;\n",
       "    }\n",
       "\n",
       "    .dataframe tbody tr th {\n",
       "        vertical-align: top;\n",
       "    }\n",
       "\n",
       "    .dataframe thead th {\n",
       "        text-align: right;\n",
       "    }\n",
       "</style>\n",
       "<table border=\"1\" class=\"dataframe\">\n",
       "  <thead>\n",
       "    <tr style=\"text-align: right;\">\n",
       "      <th></th>\n",
       "      <th>Actual</th>\n",
       "      <th>Predicted</th>\n",
       "    </tr>\n",
       "  </thead>\n",
       "  <tbody>\n",
       "    <tr>\n",
       "      <th>306399</th>\n",
       "      <td>100.00000</td>\n",
       "      <td>214.597742</td>\n",
       "    </tr>\n",
       "    <tr>\n",
       "      <th>114750</th>\n",
       "      <td>200.00000</td>\n",
       "      <td>215.989883</td>\n",
       "    </tr>\n",
       "    <tr>\n",
       "      <th>439305</th>\n",
       "      <td>300.00000</td>\n",
       "      <td>160.014871</td>\n",
       "    </tr>\n",
       "    <tr>\n",
       "      <th>163614</th>\n",
       "      <td>300.00000</td>\n",
       "      <td>61.781702</td>\n",
       "    </tr>\n",
       "    <tr>\n",
       "      <th>109257</th>\n",
       "      <td>300.00000</td>\n",
       "      <td>324.662793</td>\n",
       "    </tr>\n",
       "    <tr>\n",
       "      <th>...</th>\n",
       "      <td>...</td>\n",
       "      <td>...</td>\n",
       "    </tr>\n",
       "    <tr>\n",
       "      <th>142312</th>\n",
       "      <td>200.00000</td>\n",
       "      <td>299.277961</td>\n",
       "    </tr>\n",
       "    <tr>\n",
       "      <th>434710</th>\n",
       "      <td>2.62269</td>\n",
       "      <td>236.975384</td>\n",
       "    </tr>\n",
       "    <tr>\n",
       "      <th>36817</th>\n",
       "      <td>400.00000</td>\n",
       "      <td>189.010049</td>\n",
       "    </tr>\n",
       "    <tr>\n",
       "      <th>512875</th>\n",
       "      <td>55.97630</td>\n",
       "      <td>124.858895</td>\n",
       "    </tr>\n",
       "    <tr>\n",
       "      <th>320819</th>\n",
       "      <td>300.00000</td>\n",
       "      <td>187.699932</td>\n",
       "    </tr>\n",
       "  </tbody>\n",
       "</table>\n",
       "<p>142263 rows × 2 columns</p>\n",
       "</div>"
      ],
      "text/plain": [
       "           Actual   Predicted\n",
       "306399  100.00000  214.597742\n",
       "114750  200.00000  215.989883\n",
       "439305  300.00000  160.014871\n",
       "163614  300.00000   61.781702\n",
       "109257  300.00000  324.662793\n",
       "...           ...         ...\n",
       "142312  200.00000  299.277961\n",
       "434710    2.62269  236.975384\n",
       "36817   400.00000  189.010049\n",
       "512875   55.97630  124.858895\n",
       "320819  300.00000  187.699932\n",
       "\n",
       "[142263 rows x 2 columns]"
      ]
     },
     "execution_count": 39,
     "metadata": {},
     "output_type": "execute_result"
    }
   ],
   "source": [
    "df=pd.DataFrame({'Actual':test_y, 'Predicted':y_pred})\n",
    "df"
   ]
  },
  {
   "cell_type": "code",
   "execution_count": 40,
   "metadata": {},
   "outputs": [
    {
     "data": {
      "image/png": "[encoded data removed]",
      "text/plain": [
       "<Figure size 360x504 with 1 Axes>"
      ]
     },
     "metadata": {
      "needs_background": "light"
     },
     "output_type": "display_data"
    }
   ],
   "source": [
    "import seaborn as sns\n",
    "plt.figure(figsize=(5, 7))\n",
    "\n",
    "\n",
    "ax = sns.distplot(y, hist=False, color=\"r\", label=\"Actual Value\")\n",
    "sns.distplot(y_pred, hist=False, color=\"b\", label=\"Fitted Values\" , ax=ax)\n",
    "\n",
    "\n",
    "plt.title('Actual vs Fitted Values for Temperature (Linear Regression)')\n",
    "\n",
    "\n",
    "plt.show()\n",
    "plt.close()"
   ]
  },
  {
   "cell_type": "markdown",
   "metadata": {},
   "source": [
    "## Using Analytical Solution to create features"
   ]
  },
  {
   "cell_type": "code",
   "execution_count": 41,
   "metadata": {},
   "outputs": [],
   "source": [
    "#Taking Negative Natural Logarithm values of Diffusion Coefficient\n",
    "#data['negLog_DC'] = np.log(data['Diffusion Coeff'])*(-1)\n",
    "\n",
    "data['exp t1'] = np.exp((-10)* data['Time (s)'])\n",
    "\n",
    "data['exp t2'] = np.exp((-40)* data['Time (s)'])\n",
    "\n",
    "data['exp t3'] = np.exp((-90)* data['Time (s)'])\n",
    "\n",
    "data['sq_x/L'] = np.square(data['x/L'])\n",
    "\n",
    "data['sq_y/L'] = np.square(data['y/L'])\n",
    "\n",
    "data['Tl-Tr'] = data['T_left'] - data['T_right']\n",
    "data['Tb-Tt'] = data['T_bottom'] - data['T_top']\n",
    "\n",
    "data['Tl+Tr'] = data['T_left'] + data['T_right']\n",
    "data['Tb+Tt'] = data['T_bottom'] + data['T_top']\n",
    "\n",
    "data['(sq_x/L)-x/L'] = data['sq_x/L'] - data['x/L']\n",
    "data['(sq_y/L)-y/L'] = data['sq_y/L'] - data['y/L']\n",
    "\n",
    "data['deltaT_x/L'] = data['Tl-Tr'] * data['x/L']\n",
    "\n",
    "data['Timespacex1'] = data['(sq_x/L)-x/L'] * data['Tl+Tr'] * data['exp t1'] \n",
    "data['Timespacey1'] = data['(sq_y/L)-y/L'] * data['Tb+Tt'] * data['exp t1'] \n",
    "\n",
    "data['Timespacex2'] = data['(sq_x/L)-x/L'] * data['Tl-Tr'] * data['exp t2']\n",
    "data['Timespacey2'] = data['(sq_y/L)-y/L'] * data['Tb-Tt'] * data['exp t2'] \n",
    "\n",
    "data['Timespacex3'] = data['(sq_x/L)-x/L'] * data['Tl+Tr'] * data['exp t3']\n",
    "data['Timespacey3'] = data['(sq_y/L)-y/L'] * data['Tb+Tt'] * data['exp t3'] \n",
    "#data['DCParameter'] = (data['Diffusion Coeff'] * data['Time(s)'] * data['Tl-Tr']) / (data['sq_x/L'])\n"
   ]
  },
  {
   "cell_type": "code",
   "execution_count": 42,
   "metadata": {},
   "outputs": [
    {
     "data": {
      "text/html": [
       "<div>\n",
       "<style scoped>\n",
       "    .dataframe tbody tr th:only-of-type {\n",
       "        vertical-align: middle;\n",
       "    }\n",
       "\n",
       "    .dataframe tbody tr th {\n",
       "        vertical-align: top;\n",
       "    }\n",
       "\n",
       "    .dataframe thead th {\n",
       "        text-align: right;\n",
       "    }\n",
       "</style>\n",
       "<table border=\"1\" class=\"dataframe\">\n",
       "  <thead>\n",
       "    <tr style=\"text-align: right;\">\n",
       "      <th></th>\n",
       "      <th>Time (s)</th>\n",
       "      <th>Material</th>\n",
       "      <th>Alpha</th>\n",
       "      <th>Part</th>\n",
       "      <th>Node</th>\n",
       "      <th>X</th>\n",
       "      <th>Y</th>\n",
       "      <th>Z</th>\n",
       "      <th>Temperature</th>\n",
       "      <th>T_left</th>\n",
       "      <th>...</th>\n",
       "      <th>Tb+Tt</th>\n",
       "      <th>(sq_x/L)-x/L</th>\n",
       "      <th>(sq_y/L)-y/L</th>\n",
       "      <th>deltaT_x/L</th>\n",
       "      <th>Timespacex1</th>\n",
       "      <th>Timespacey1</th>\n",
       "      <th>Timespacex2</th>\n",
       "      <th>Timespacey2</th>\n",
       "      <th>Timespacex3</th>\n",
       "      <th>Timespacey3</th>\n",
       "    </tr>\n",
       "  </thead>\n",
       "  <tbody>\n",
       "    <tr>\n",
       "      <th>569047</th>\n",
       "      <td>10.0</td>\n",
       "      <td>Stainless Steel 310</td>\n",
       "      <td>0.000004</td>\n",
       "      <td>PART-1-2</td>\n",
       "      <td>392</td>\n",
       "      <td>0.0</td>\n",
       "      <td>0.008</td>\n",
       "      <td>0.0</td>\n",
       "      <td>300.0</td>\n",
       "      <td>600</td>\n",
       "      <td>...</td>\n",
       "      <td>700</td>\n",
       "      <td>0.0</td>\n",
       "      <td>-0.16</td>\n",
       "      <td>0.0</td>\n",
       "      <td>0.0</td>\n",
       "      <td>-4.166485e-42</td>\n",
       "      <td>0.0</td>\n",
       "      <td>-9.192814e-173</td>\n",
       "      <td>0.0</td>\n",
       "      <td>-0.0</td>\n",
       "    </tr>\n",
       "    <tr>\n",
       "      <th>569048</th>\n",
       "      <td>10.0</td>\n",
       "      <td>Stainless Steel 310</td>\n",
       "      <td>0.000004</td>\n",
       "      <td>PART-1-2</td>\n",
       "      <td>393</td>\n",
       "      <td>0.0</td>\n",
       "      <td>0.006</td>\n",
       "      <td>0.0</td>\n",
       "      <td>300.0</td>\n",
       "      <td>600</td>\n",
       "      <td>...</td>\n",
       "      <td>700</td>\n",
       "      <td>0.0</td>\n",
       "      <td>-0.24</td>\n",
       "      <td>0.0</td>\n",
       "      <td>0.0</td>\n",
       "      <td>-6.249728e-42</td>\n",
       "      <td>0.0</td>\n",
       "      <td>-1.378922e-172</td>\n",
       "      <td>0.0</td>\n",
       "      <td>-0.0</td>\n",
       "    </tr>\n",
       "    <tr>\n",
       "      <th>569049</th>\n",
       "      <td>10.0</td>\n",
       "      <td>Stainless Steel 310</td>\n",
       "      <td>0.000004</td>\n",
       "      <td>PART-1-2</td>\n",
       "      <td>394</td>\n",
       "      <td>0.0</td>\n",
       "      <td>0.004</td>\n",
       "      <td>0.0</td>\n",
       "      <td>300.0</td>\n",
       "      <td>600</td>\n",
       "      <td>...</td>\n",
       "      <td>700</td>\n",
       "      <td>0.0</td>\n",
       "      <td>-0.24</td>\n",
       "      <td>0.0</td>\n",
       "      <td>0.0</td>\n",
       "      <td>-6.249728e-42</td>\n",
       "      <td>0.0</td>\n",
       "      <td>-1.378922e-172</td>\n",
       "      <td>0.0</td>\n",
       "      <td>-0.0</td>\n",
       "    </tr>\n",
       "    <tr>\n",
       "      <th>569050</th>\n",
       "      <td>10.0</td>\n",
       "      <td>Stainless Steel 310</td>\n",
       "      <td>0.000004</td>\n",
       "      <td>PART-1-2</td>\n",
       "      <td>395</td>\n",
       "      <td>0.0</td>\n",
       "      <td>0.002</td>\n",
       "      <td>0.0</td>\n",
       "      <td>300.0</td>\n",
       "      <td>600</td>\n",
       "      <td>...</td>\n",
       "      <td>700</td>\n",
       "      <td>0.0</td>\n",
       "      <td>-0.16</td>\n",
       "      <td>0.0</td>\n",
       "      <td>0.0</td>\n",
       "      <td>-4.166485e-42</td>\n",
       "      <td>0.0</td>\n",
       "      <td>-9.192814e-173</td>\n",
       "      <td>0.0</td>\n",
       "      <td>-0.0</td>\n",
       "    </tr>\n",
       "    <tr>\n",
       "      <th>569051</th>\n",
       "      <td>10.0</td>\n",
       "      <td>Stainless Steel 310</td>\n",
       "      <td>0.000004</td>\n",
       "      <td>PART-1-2</td>\n",
       "      <td>396</td>\n",
       "      <td>0.0</td>\n",
       "      <td>0.000</td>\n",
       "      <td>0.0</td>\n",
       "      <td>300.0</td>\n",
       "      <td>600</td>\n",
       "      <td>...</td>\n",
       "      <td>700</td>\n",
       "      <td>0.0</td>\n",
       "      <td>0.00</td>\n",
       "      <td>0.0</td>\n",
       "      <td>0.0</td>\n",
       "      <td>0.000000e+00</td>\n",
       "      <td>0.0</td>\n",
       "      <td>0.000000e+00</td>\n",
       "      <td>0.0</td>\n",
       "      <td>0.0</td>\n",
       "    </tr>\n",
       "  </tbody>\n",
       "</table>\n",
       "<p>5 rows × 44 columns</p>\n",
       "</div>"
      ],
      "text/plain": [
       "        Time (s)             Material     Alpha      Part  Node    X      Y  \\\n",
       "569047      10.0  Stainless Steel 310  0.000004  PART-1-2   392  0.0  0.008   \n",
       "569048      10.0  Stainless Steel 310  0.000004  PART-1-2   393  0.0  0.006   \n",
       "569049      10.0  Stainless Steel 310  0.000004  PART-1-2   394  0.0  0.004   \n",
       "569050      10.0  Stainless Steel 310  0.000004  PART-1-2   395  0.0  0.002   \n",
       "569051      10.0  Stainless Steel 310  0.000004  PART-1-2   396  0.0  0.000   \n",
       "\n",
       "          Z  Temperature  T_left  ...  Tb+Tt  (sq_x/L)-x/L  (sq_y/L)-y/L  \\\n",
       "569047  0.0        300.0     600  ...    700           0.0         -0.16   \n",
       "569048  0.0        300.0     600  ...    700           0.0         -0.24   \n",
       "569049  0.0        300.0     600  ...    700           0.0         -0.24   \n",
       "569050  0.0        300.0     600  ...    700           0.0         -0.16   \n",
       "569051  0.0        300.0     600  ...    700           0.0          0.00   \n",
       "\n",
       "        deltaT_x/L  Timespacex1   Timespacey1  Timespacex2    Timespacey2  \\\n",
       "569047         0.0          0.0 -4.166485e-42          0.0 -9.192814e-173   \n",
       "569048         0.0          0.0 -6.249728e-42          0.0 -1.378922e-172   \n",
       "569049         0.0          0.0 -6.249728e-42          0.0 -1.378922e-172   \n",
       "569050         0.0          0.0 -4.166485e-42          0.0 -9.192814e-173   \n",
       "569051         0.0          0.0  0.000000e+00          0.0   0.000000e+00   \n",
       "\n",
       "        Timespacex3  Timespacey3  \n",
       "569047          0.0         -0.0  \n",
       "569048          0.0         -0.0  \n",
       "569049          0.0         -0.0  \n",
       "569050          0.0         -0.0  \n",
       "569051          0.0          0.0  \n",
       "\n",
       "[5 rows x 44 columns]"
      ]
     },
     "execution_count": 42,
     "metadata": {},
     "output_type": "execute_result"
    }
   ],
   "source": [
    "data.tail()"
   ]
  },
  {
   "cell_type": "code",
   "execution_count": 43,
   "metadata": {},
   "outputs": [
    {
     "data": {
      "image/png": "[encoded data removed]",
      "text/plain": [
       "<Figure size 432x288 with 1 Axes>"
      ]
     },
     "metadata": {
      "needs_background": "light"
     },
     "output_type": "display_data"
    }
   ],
   "source": [
    "plt.scatter(data['x/L'], data['Temperature'], color='green')\n",
    "plt.title('Temperature Vs Location_X', fontsize=14)\n",
    "plt.xlabel('Location_X', fontsize=14)\n",
    "plt.ylabel('Temperature', fontsize=14)\n",
    "plt.grid(True)\n",
    "plt.show()"
   ]
  },
  {
   "cell_type": "code",
   "execution_count": 44,
   "metadata": {},
   "outputs": [
    {
     "data": {
      "image/png": "[encoded data removed]",
      "text/plain": [
       "<Figure size 432x288 with 1 Axes>"
      ]
     },
     "metadata": {
      "needs_background": "light"
     },
     "output_type": "display_data"
    }
   ],
   "source": [
    "plt.scatter(data['Timespacex1'], data['Temperature'], color='green')\n",
    "plt.title('Temperature Vs Timespace X Parameter 1', fontsize=14)\n",
    "plt.xlabel('Timespacex1', fontsize=14)\n",
    "plt.ylabel('Temperature', fontsize=14)\n",
    "plt.grid(True)\n",
    "plt.show()"
   ]
  },
  {
   "cell_type": "code",
   "execution_count": 45,
   "metadata": {},
   "outputs": [
    {
     "data": {
      "image/png": "[encoded data removed]",
      "text/plain": [
       "<Figure size 432x288 with 1 Axes>"
      ]
     },
     "metadata": {
      "needs_background": "light"
     },
     "output_type": "display_data"
    }
   ],
   "source": [
    "plt.scatter(data['Timespacex2'], data['Temperature'], color='green')\n",
    "plt.title('Temperature Vs Timespace X Parameter 2', fontsize=14)\n",
    "plt.xlabel('Timespacex2', fontsize=14)\n",
    "plt.ylabel('Temperature', fontsize=14)\n",
    "plt.grid(True)\n",
    "plt.show()"
   ]
  },
  {
   "cell_type": "code",
   "execution_count": 46,
   "metadata": {},
   "outputs": [
    {
     "data": {
      "image/png": "[encoded data removed]",
      "text/plain": [
       "<Figure size 432x288 with 1 Axes>"
      ]
     },
     "metadata": {
      "needs_background": "light"
     },
     "output_type": "display_data"
    }
   ],
   "source": [
    "plt.scatter(data['Timespacex3'], data['Temperature'], color='green')\n",
    "plt.title('Temperature Vs Timespace X Parameter 3', fontsize=14)\n",
    "plt.xlabel('Timespacex3', fontsize=14)\n",
    "plt.ylabel('Temperature', fontsize=14)\n",
    "plt.grid(True)\n",
    "plt.show()"
   ]
  }
 ],
 "metadata": {
  "kernelspec": {
   "display_name": "Python 3",
   "language": "python",
   "name": "python3"
  },
  "language_info": {
   "codemirror_mode": {
    "name": "ipython",
    "version": 3
   },
   "file_extension": ".py",
   "mimetype": "text/x-python",
   "name": "python",
   "nbconvert_exporter": "python",
   "pygments_lexer": "ipython3",
   "version": "3.7.6"
  }
 },
 "nbformat": 4,
 "nbformat_minor": 4
}
