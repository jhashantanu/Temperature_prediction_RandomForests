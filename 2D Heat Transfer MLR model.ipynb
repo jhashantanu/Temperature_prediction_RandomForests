{
 "cells": [
  {
   "cell_type": "code",
   "execution_count": 1,
   "metadata": {},
   "outputs": [],
   "source": [
    "import pandas as pd\n",
    "import numpy as np"
   ]
  },
  {
   "cell_type": "code",
   "execution_count": 2,
   "metadata": {},
   "outputs": [],
   "source": [
    "import statsmodels.api as sm\n",
    "import sklearn\n",
    "import matplotlib.pyplot as plt\n",
    "import seaborn as sns\n",
    "%matplotlib inline"
   ]
  },
  {
   "cell_type": "code",
   "execution_count": 3,
   "metadata": {},
   "outputs": [],
   "source": [
    "import warnings\n",
    "warnings.filterwarnings('ignore')"
   ]
  },
  {
   "cell_type": "code",
   "execution_count": 4,
   "metadata": {},
   "outputs": [],
   "source": [
    "data = pd.read_excel(r\"C:\\Users\\Asus\\Desktop\\DDP\\Clean2d_master_dataset.xlsx\")"
   ]
  },
  {
   "cell_type": "code",
   "execution_count": 5,
   "metadata": {},
   "outputs": [
    {
     "data": {
      "text/html": [
       "<div>\n",
       "<style scoped>\n",
       "    .dataframe tbody tr th:only-of-type {\n",
       "        vertical-align: middle;\n",
       "    }\n",
       "\n",
       "    .dataframe tbody tr th {\n",
       "        vertical-align: top;\n",
       "    }\n",
       "\n",
       "    .dataframe thead th {\n",
       "        text-align: right;\n",
       "    }\n",
       "</style>\n",
       "<table border=\"1\" class=\"dataframe\">\n",
       "  <thead>\n",
       "    <tr style=\"text-align: right;\">\n",
       "      <th></th>\n",
       "      <th>Time (s)</th>\n",
       "      <th>Material</th>\n",
       "      <th>Alpha</th>\n",
       "      <th>Part</th>\n",
       "      <th>Node</th>\n",
       "      <th>X</th>\n",
       "      <th>Y</th>\n",
       "      <th>Z</th>\n",
       "      <th>Temperature</th>\n",
       "      <th>T_left</th>\n",
       "      <th>T_right</th>\n",
       "      <th>T_bottom</th>\n",
       "      <th>T_top</th>\n",
       "      <th>x/L</th>\n",
       "      <th>y/L</th>\n",
       "      <th>z/L</th>\n",
       "      <th>Tdiff_0.0005 (s)</th>\n",
       "    </tr>\n",
       "  </thead>\n",
       "  <tbody>\n",
       "    <tr>\n",
       "      <th>0</th>\n",
       "      <td>0.01</td>\n",
       "      <td>Copper</td>\n",
       "      <td>0.000111</td>\n",
       "      <td>PART-1-1</td>\n",
       "      <td>1</td>\n",
       "      <td>0.000</td>\n",
       "      <td>0.0</td>\n",
       "      <td>0</td>\n",
       "      <td>300.0</td>\n",
       "      <td>300</td>\n",
       "      <td>100</td>\n",
       "      <td>300</td>\n",
       "      <td>100</td>\n",
       "      <td>0.0</td>\n",
       "      <td>0.0</td>\n",
       "      <td>0</td>\n",
       "      <td>1.25</td>\n",
       "    </tr>\n",
       "    <tr>\n",
       "      <th>1</th>\n",
       "      <td>0.01</td>\n",
       "      <td>Copper</td>\n",
       "      <td>0.000111</td>\n",
       "      <td>PART-1-1</td>\n",
       "      <td>9</td>\n",
       "      <td>0.004</td>\n",
       "      <td>0.0</td>\n",
       "      <td>0</td>\n",
       "      <td>300.0</td>\n",
       "      <td>300</td>\n",
       "      <td>100</td>\n",
       "      <td>300</td>\n",
       "      <td>100</td>\n",
       "      <td>0.2</td>\n",
       "      <td>0.0</td>\n",
       "      <td>0</td>\n",
       "      <td>1.25</td>\n",
       "    </tr>\n",
       "    <tr>\n",
       "      <th>2</th>\n",
       "      <td>0.01</td>\n",
       "      <td>Copper</td>\n",
       "      <td>0.000111</td>\n",
       "      <td>PART-1-1</td>\n",
       "      <td>17</td>\n",
       "      <td>0.008</td>\n",
       "      <td>0.0</td>\n",
       "      <td>0</td>\n",
       "      <td>300.0</td>\n",
       "      <td>300</td>\n",
       "      <td>100</td>\n",
       "      <td>300</td>\n",
       "      <td>100</td>\n",
       "      <td>0.4</td>\n",
       "      <td>0.0</td>\n",
       "      <td>0</td>\n",
       "      <td>1.25</td>\n",
       "    </tr>\n",
       "    <tr>\n",
       "      <th>3</th>\n",
       "      <td>0.01</td>\n",
       "      <td>Copper</td>\n",
       "      <td>0.000111</td>\n",
       "      <td>PART-1-1</td>\n",
       "      <td>25</td>\n",
       "      <td>0.012</td>\n",
       "      <td>0.0</td>\n",
       "      <td>0</td>\n",
       "      <td>300.0</td>\n",
       "      <td>300</td>\n",
       "      <td>100</td>\n",
       "      <td>300</td>\n",
       "      <td>100</td>\n",
       "      <td>0.6</td>\n",
       "      <td>0.0</td>\n",
       "      <td>0</td>\n",
       "      <td>1.25</td>\n",
       "    </tr>\n",
       "    <tr>\n",
       "      <th>4</th>\n",
       "      <td>0.01</td>\n",
       "      <td>Copper</td>\n",
       "      <td>0.000111</td>\n",
       "      <td>PART-1-1</td>\n",
       "      <td>33</td>\n",
       "      <td>0.016</td>\n",
       "      <td>0.0</td>\n",
       "      <td>0</td>\n",
       "      <td>300.0</td>\n",
       "      <td>300</td>\n",
       "      <td>100</td>\n",
       "      <td>300</td>\n",
       "      <td>100</td>\n",
       "      <td>0.8</td>\n",
       "      <td>0.0</td>\n",
       "      <td>0</td>\n",
       "      <td>1.25</td>\n",
       "    </tr>\n",
       "  </tbody>\n",
       "</table>\n",
       "</div>"
      ],
      "text/plain": [
       "   Time (s) Material     Alpha      Part  Node      X    Y  Z  Temperature  \\\n",
       "0      0.01   Copper  0.000111  PART-1-1     1  0.000  0.0  0        300.0   \n",
       "1      0.01   Copper  0.000111  PART-1-1     9  0.004  0.0  0        300.0   \n",
       "2      0.01   Copper  0.000111  PART-1-1    17  0.008  0.0  0        300.0   \n",
       "3      0.01   Copper  0.000111  PART-1-1    25  0.012  0.0  0        300.0   \n",
       "4      0.01   Copper  0.000111  PART-1-1    33  0.016  0.0  0        300.0   \n",
       "\n",
       "   T_left  T_right  T_bottom  T_top  x/L  y/L  z/L  Tdiff_0.0005 (s)  \n",
       "0     300      100       300    100  0.0  0.0    0              1.25  \n",
       "1     300      100       300    100  0.2  0.0    0              1.25  \n",
       "2     300      100       300    100  0.4  0.0    0              1.25  \n",
       "3     300      100       300    100  0.6  0.0    0              1.25  \n",
       "4     300      100       300    100  0.8  0.0    0              1.25  "
      ]
     },
     "execution_count": 5,
     "metadata": {},
     "output_type": "execute_result"
    }
   ],
   "source": [
    "data.head()"
   ]
  },
  {
   "cell_type": "code",
   "execution_count": 6,
   "metadata": {},
   "outputs": [
    {
     "data": {
      "text/html": [
       "<div>\n",
       "<style scoped>\n",
       "    .dataframe tbody tr th:only-of-type {\n",
       "        vertical-align: middle;\n",
       "    }\n",
       "\n",
       "    .dataframe tbody tr th {\n",
       "        vertical-align: top;\n",
       "    }\n",
       "\n",
       "    .dataframe thead th {\n",
       "        text-align: right;\n",
       "    }\n",
       "</style>\n",
       "<table border=\"1\" class=\"dataframe\">\n",
       "  <thead>\n",
       "    <tr style=\"text-align: right;\">\n",
       "      <th></th>\n",
       "      <th>Time (s)</th>\n",
       "      <th>Alpha</th>\n",
       "      <th>Node</th>\n",
       "      <th>X</th>\n",
       "      <th>Y</th>\n",
       "      <th>Z</th>\n",
       "      <th>Temperature</th>\n",
       "      <th>T_left</th>\n",
       "      <th>T_right</th>\n",
       "      <th>T_bottom</th>\n",
       "      <th>T_top</th>\n",
       "      <th>x/L</th>\n",
       "      <th>y/L</th>\n",
       "      <th>z/L</th>\n",
       "      <th>Tdiff_0.0005 (s)</th>\n",
       "    </tr>\n",
       "  </thead>\n",
       "  <tbody>\n",
       "    <tr>\n",
       "      <th>count</th>\n",
       "      <td>38016.000000</td>\n",
       "      <td>38016.000000</td>\n",
       "      <td>38016.000000</td>\n",
       "      <td>38016.000000</td>\n",
       "      <td>38016.000000</td>\n",
       "      <td>38016.0</td>\n",
       "      <td>3.801600e+04</td>\n",
       "      <td>38016.000000</td>\n",
       "      <td>38016.000000</td>\n",
       "      <td>38016.000000</td>\n",
       "      <td>38016.000000</td>\n",
       "      <td>38016.00000</td>\n",
       "      <td>38016.00000</td>\n",
       "      <td>38016.0</td>\n",
       "      <td>19008.000000</td>\n",
       "    </tr>\n",
       "    <tr>\n",
       "      <th>mean</th>\n",
       "      <td>1.289773</td>\n",
       "      <td>0.000050</td>\n",
       "      <td>431.000000</td>\n",
       "      <td>0.010000</td>\n",
       "      <td>0.005000</td>\n",
       "      <td>0.0</td>\n",
       "      <td>1.780572e+02</td>\n",
       "      <td>450.000000</td>\n",
       "      <td>100.000000</td>\n",
       "      <td>350.000000</td>\n",
       "      <td>50.000000</td>\n",
       "      <td>0.50000</td>\n",
       "      <td>0.50000</td>\n",
       "      <td>0.0</td>\n",
       "      <td>1.585000</td>\n",
       "    </tr>\n",
       "    <tr>\n",
       "      <th>std</th>\n",
       "      <td>3.347419</td>\n",
       "      <td>0.000041</td>\n",
       "      <td>280.420045</td>\n",
       "      <td>0.006831</td>\n",
       "      <td>0.003416</td>\n",
       "      <td>0.0</td>\n",
       "      <td>1.546827e+02</td>\n",
       "      <td>111.804869</td>\n",
       "      <td>81.650732</td>\n",
       "      <td>50.000658</td>\n",
       "      <td>50.000658</td>\n",
       "      <td>0.34157</td>\n",
       "      <td>0.34157</td>\n",
       "      <td>0.0</td>\n",
       "      <td>0.335009</td>\n",
       "    </tr>\n",
       "    <tr>\n",
       "      <th>min</th>\n",
       "      <td>0.010000</td>\n",
       "      <td>0.000004</td>\n",
       "      <td>1.000000</td>\n",
       "      <td>0.000000</td>\n",
       "      <td>0.000000</td>\n",
       "      <td>0.0</td>\n",
       "      <td>-2.887560e-33</td>\n",
       "      <td>300.000000</td>\n",
       "      <td>0.000000</td>\n",
       "      <td>300.000000</td>\n",
       "      <td>0.000000</td>\n",
       "      <td>0.00000</td>\n",
       "      <td>0.00000</td>\n",
       "      <td>0.0</td>\n",
       "      <td>1.250000</td>\n",
       "    </tr>\n",
       "    <tr>\n",
       "      <th>25%</th>\n",
       "      <td>0.050000</td>\n",
       "      <td>0.000018</td>\n",
       "      <td>187.000000</td>\n",
       "      <td>0.004000</td>\n",
       "      <td>0.002000</td>\n",
       "      <td>0.0</td>\n",
       "      <td>4.525520e+01</td>\n",
       "      <td>375.000000</td>\n",
       "      <td>0.000000</td>\n",
       "      <td>300.000000</td>\n",
       "      <td>0.000000</td>\n",
       "      <td>0.20000</td>\n",
       "      <td>0.20000</td>\n",
       "      <td>0.0</td>\n",
       "      <td>1.250000</td>\n",
       "    </tr>\n",
       "    <tr>\n",
       "      <th>50%</th>\n",
       "      <td>0.150000</td>\n",
       "      <td>0.000044</td>\n",
       "      <td>431.000000</td>\n",
       "      <td>0.010000</td>\n",
       "      <td>0.005000</td>\n",
       "      <td>0.0</td>\n",
       "      <td>1.227250e+02</td>\n",
       "      <td>450.000000</td>\n",
       "      <td>100.000000</td>\n",
       "      <td>350.000000</td>\n",
       "      <td>50.000000</td>\n",
       "      <td>0.50000</td>\n",
       "      <td>0.50000</td>\n",
       "      <td>0.0</td>\n",
       "      <td>1.585000</td>\n",
       "    </tr>\n",
       "    <tr>\n",
       "      <th>75%</th>\n",
       "      <td>1.000000</td>\n",
       "      <td>0.000076</td>\n",
       "      <td>675.000000</td>\n",
       "      <td>0.016000</td>\n",
       "      <td>0.008000</td>\n",
       "      <td>0.0</td>\n",
       "      <td>3.000000e+02</td>\n",
       "      <td>525.000000</td>\n",
       "      <td>200.000000</td>\n",
       "      <td>400.000000</td>\n",
       "      <td>100.000000</td>\n",
       "      <td>0.80000</td>\n",
       "      <td>0.80000</td>\n",
       "      <td>0.0</td>\n",
       "      <td>1.920000</td>\n",
       "    </tr>\n",
       "    <tr>\n",
       "      <th>max</th>\n",
       "      <td>20.000000</td>\n",
       "      <td>0.000111</td>\n",
       "      <td>861.000000</td>\n",
       "      <td>0.020000</td>\n",
       "      <td>0.010000</td>\n",
       "      <td>0.0</td>\n",
       "      <td>6.000000e+02</td>\n",
       "      <td>600.000000</td>\n",
       "      <td>200.000000</td>\n",
       "      <td>400.000000</td>\n",
       "      <td>100.000000</td>\n",
       "      <td>1.00000</td>\n",
       "      <td>1.00000</td>\n",
       "      <td>0.0</td>\n",
       "      <td>1.920000</td>\n",
       "    </tr>\n",
       "  </tbody>\n",
       "</table>\n",
       "</div>"
      ],
      "text/plain": [
       "           Time (s)         Alpha          Node             X             Y  \\\n",
       "count  38016.000000  38016.000000  38016.000000  38016.000000  38016.000000   \n",
       "mean       1.289773      0.000050    431.000000      0.010000      0.005000   \n",
       "std        3.347419      0.000041    280.420045      0.006831      0.003416   \n",
       "min        0.010000      0.000004      1.000000      0.000000      0.000000   \n",
       "25%        0.050000      0.000018    187.000000      0.004000      0.002000   \n",
       "50%        0.150000      0.000044    431.000000      0.010000      0.005000   \n",
       "75%        1.000000      0.000076    675.000000      0.016000      0.008000   \n",
       "max       20.000000      0.000111    861.000000      0.020000      0.010000   \n",
       "\n",
       "             Z   Temperature        T_left       T_right      T_bottom  \\\n",
       "count  38016.0  3.801600e+04  38016.000000  38016.000000  38016.000000   \n",
       "mean       0.0  1.780572e+02    450.000000    100.000000    350.000000   \n",
       "std        0.0  1.546827e+02    111.804869     81.650732     50.000658   \n",
       "min        0.0 -2.887560e-33    300.000000      0.000000    300.000000   \n",
       "25%        0.0  4.525520e+01    375.000000      0.000000    300.000000   \n",
       "50%        0.0  1.227250e+02    450.000000    100.000000    350.000000   \n",
       "75%        0.0  3.000000e+02    525.000000    200.000000    400.000000   \n",
       "max        0.0  6.000000e+02    600.000000    200.000000    400.000000   \n",
       "\n",
       "              T_top          x/L          y/L      z/L  Tdiff_0.0005 (s)  \n",
       "count  38016.000000  38016.00000  38016.00000  38016.0      19008.000000  \n",
       "mean      50.000000      0.50000      0.50000      0.0          1.585000  \n",
       "std       50.000658      0.34157      0.34157      0.0          0.335009  \n",
       "min        0.000000      0.00000      0.00000      0.0          1.250000  \n",
       "25%        0.000000      0.20000      0.20000      0.0          1.250000  \n",
       "50%       50.000000      0.50000      0.50000      0.0          1.585000  \n",
       "75%      100.000000      0.80000      0.80000      0.0          1.920000  \n",
       "max      100.000000      1.00000      1.00000      0.0          1.920000  "
      ]
     },
     "execution_count": 6,
     "metadata": {},
     "output_type": "execute_result"
    }
   ],
   "source": [
    "data.describe()"
   ]
  },
  {
   "cell_type": "code",
   "execution_count": 10,
   "metadata": {},
   "outputs": [
    {
     "data": {
      "text/plain": [
       "((38016, 8), (38016,))"
      ]
     },
     "execution_count": 10,
     "metadata": {},
     "output_type": "execute_result"
    }
   ],
   "source": [
    "import time\n",
    "#storing starting time\n",
    "begin = time.time()\n",
    "\n",
    "#seperating independent and dependent variables, Temperature is the only dependent variable in our case\n",
    "x = data[['T_left', 'T_right','T_bottom', 'T_top', 'Time (s)', 'x/L', 'y/L','Alpha']]\n",
    "y = data['Temperature']\n",
    "x.shape, y.shape "
   ]
  },
  {
   "cell_type": "code",
   "execution_count": 11,
   "metadata": {},
   "outputs": [],
   "source": [
    "#Creating Training-Testing data from the new data frame\n",
    "\n",
    "from sklearn.model_selection import train_test_split\n",
    "train_x,test_x,train_y,test_y = train_test_split(x, y , test_size = 0.25, random_state = 100)"
   ]
  },
  {
   "cell_type": "code",
   "execution_count": 12,
   "metadata": {},
   "outputs": [],
   "source": [
    "#Importing Linear Regression and metric mean absolute error\n",
    "\n",
    "from sklearn.linear_model import LinearRegression as LR\n",
    "from sklearn.metrics import mean_absolute_error as mae"
   ]
  },
  {
   "cell_type": "code",
   "execution_count": 13,
   "metadata": {},
   "outputs": [
    {
     "name": "stdout",
     "output_type": "stream",
     "text": [
      "303.6833755519048\n"
     ]
    }
   ],
   "source": [
    "lr = LR()\n",
    "# Fitting the model\n",
    "lr.fit(train_x, train_y)\n",
    "\n",
    "print(lr.intercept_) #Intercept of the Multiple Linear Regression"
   ]
  },
  {
   "cell_type": "code",
   "execution_count": 14,
   "metadata": {},
   "outputs": [
    {
     "name": "stdout",
     "output_type": "stream",
     "text": [
      "Total runtime of Linear Regression program (in seconds) is 2.2309844493865967\n"
     ]
    }
   ],
   "source": [
    "#storing end time\n",
    "time.sleep(1)\n",
    "end = time.time()\n",
    "\n",
    "#Calculating runtime\n",
    "print (\"Total runtime of Linear Regression program (in seconds) is\", end - begin)"
   ]
  },
  {
   "cell_type": "code",
   "execution_count": 15,
   "metadata": {},
   "outputs": [
    {
     "data": {
      "image/png": "[encoded data removed]",
      "text/plain": [
       "<Figure size 1080x1080 with 2 Axes>"
      ]
     },
     "metadata": {
      "needs_background": "light"
     },
     "output_type": "display_data"
    }
   ],
   "source": [
    "plt.figure(figsize = (15, 15))\n",
    "sns.heatmap(train_x.corr(), annot = True, cmap=\"RdYlGn\", vmin = -1, vmax = 1)\n",
    "plt.show()   "
   ]
  },
  {
   "cell_type": "code",
   "execution_count": 16,
   "metadata": {},
   "outputs": [
    {
     "name": "stdout",
     "output_type": "stream",
     "text": [
      "Training Mean Absolute Error 85.53069685939165\n"
     ]
    }
   ],
   "source": [
    "# Predicting over the Train Set and calculating error\n",
    "train_predict = lr.predict(train_x)\n",
    "k = mae(train_predict, train_y)\n",
    "print('Training Mean Absolute Error', k )"
   ]
  },
  {
   "cell_type": "code",
   "execution_count": 17,
   "metadata": {},
   "outputs": [
    {
     "name": "stdout",
     "output_type": "stream",
     "text": [
      "Test Mean Absolute Error     83.48081914188836\n"
     ]
    }
   ],
   "source": [
    "# Predicting over the Test Set and calculating error\n",
    "test_predict = lr.predict(test_x)\n",
    "k = mae(test_predict, test_y)\n",
    "print('Test Mean Absolute Error    ', k )"
   ]
  },
  {
   "cell_type": "code",
   "execution_count": 19,
   "metadata": {},
   "outputs": [
    {
     "name": "stdout",
     "output_type": "stream",
     "text": [
      "  Variables    Coefficient\n",
      "0    T_left       0.137578\n",
      "1   T_right       0.157611\n",
      "2  T_bottom      -0.013467\n",
      "3     T_top       0.013467\n",
      "4  Time (s)       4.675102\n",
      "5       x/L    -215.174172\n",
      "6       y/L    -223.036744\n",
      "7     Alpha  275372.449570\n"
     ]
    }
   ],
   "source": [
    "#Regression Coefficients of the variables in order \n",
    "Coeff_data = {'Variables': ['T_left', 'T_right', 'T_bottom', 'T_top', 'Time (s)', 'x/L', 'y/L', 'Alpha'], 'Coefficient': lr.coef_}\n",
    "df = pd.DataFrame(Coeff_data, columns = ['Variables', 'Coefficient'])\n",
    "\n",
    "print(df)"
   ]
  },
  {
   "cell_type": "code",
   "execution_count": 20,
   "metadata": {},
   "outputs": [
    {
     "data": {
      "text/plain": [
       "Text(0.5, 1.0, 'Coefficient plot')"
      ]
     },
     "execution_count": 20,
     "metadata": {},
     "output_type": "execute_result"
    },
    {
     "data": {
      "image/png": "[encoded data removed]",
      "text/plain": [
       "<Figure size 960x720 with 1 Axes>"
      ]
     },
     "metadata": {},
     "output_type": "display_data"
    }
   ],
   "source": [
    "#Unscaled Coefficient vs Variable plot\n",
    "plt.figure(figsize=(8, 6), dpi=120, facecolor='w', edgecolor='b')\n",
    "x = range(len(train_x.columns))\n",
    "y = lr.coef_\n",
    "plt.bar( x, y )\n",
    "plt.xlabel( \"Variables\")\n",
    "plt.ylabel('Coefficients')\n",
    "plt.title('Coefficient plot')"
   ]
  },
  {
   "cell_type": "code",
   "execution_count": 21,
   "metadata": {},
   "outputs": [
    {
     "data": {
      "text/plain": [
       "49.269012785796136"
      ]
     },
     "execution_count": 21,
     "metadata": {},
     "output_type": "execute_result"
    }
   ],
   "source": [
    "lr.score(train_x, train_y)*100"
   ]
  },
  {
   "cell_type": "code",
   "execution_count": 22,
   "metadata": {},
   "outputs": [
    {
     "data": {
      "text/plain": [
       "48.89495589103898"
      ]
     },
     "execution_count": 22,
     "metadata": {},
     "output_type": "execute_result"
    }
   ],
   "source": [
    "lr.score(test_x,test_y)*100"
   ]
  },
  {
   "cell_type": "code",
   "execution_count": 23,
   "metadata": {},
   "outputs": [
    {
     "name": "stdout",
     "output_type": "stream",
     "text": [
      "[154.1923479  144.72078927 142.60311272 ... 194.75633582 -42.4823442\n",
      " 123.01551111]\n"
     ]
    }
   ],
   "source": [
    "y_pred = lr.predict(test_x)\n",
    "print (y_pred)"
   ]
  },
  {
   "cell_type": "code",
   "execution_count": 24,
   "metadata": {},
   "outputs": [
    {
     "data": {
      "text/html": [
       "<div>\n",
       "<style scoped>\n",
       "    .dataframe tbody tr th:only-of-type {\n",
       "        vertical-align: middle;\n",
       "    }\n",
       "\n",
       "    .dataframe tbody tr th {\n",
       "        vertical-align: top;\n",
       "    }\n",
       "\n",
       "    .dataframe thead th {\n",
       "        text-align: right;\n",
       "    }\n",
       "</style>\n",
       "<table border=\"1\" class=\"dataframe\">\n",
       "  <thead>\n",
       "    <tr style=\"text-align: right;\">\n",
       "      <th></th>\n",
       "      <th>Actual</th>\n",
       "      <th>Predicted</th>\n",
       "    </tr>\n",
       "  </thead>\n",
       "  <tbody>\n",
       "    <tr>\n",
       "      <th>5771</th>\n",
       "      <td>1.000000e+02</td>\n",
       "      <td>154.192348</td>\n",
       "    </tr>\n",
       "    <tr>\n",
       "      <th>27401</th>\n",
       "      <td>-8.259910e-35</td>\n",
       "      <td>144.720789</td>\n",
       "    </tr>\n",
       "    <tr>\n",
       "      <th>22628</th>\n",
       "      <td>2.732510e+01</td>\n",
       "      <td>142.603113</td>\n",
       "    </tr>\n",
       "    <tr>\n",
       "      <th>12451</th>\n",
       "      <td>1.000000e+02</td>\n",
       "      <td>166.985024</td>\n",
       "    </tr>\n",
       "    <tr>\n",
       "      <th>13111</th>\n",
       "      <td>8.743740e+01</td>\n",
       "      <td>286.096164</td>\n",
       "    </tr>\n",
       "    <tr>\n",
       "      <th>...</th>\n",
       "      <td>...</td>\n",
       "      <td>...</td>\n",
       "    </tr>\n",
       "    <tr>\n",
       "      <th>35221</th>\n",
       "      <td>2.681660e+02</td>\n",
       "      <td>333.322171</td>\n",
       "    </tr>\n",
       "    <tr>\n",
       "      <th>13384</th>\n",
       "      <td>9.986740e+01</td>\n",
       "      <td>25.413664</td>\n",
       "    </tr>\n",
       "    <tr>\n",
       "      <th>9154</th>\n",
       "      <td>1.324940e+02</td>\n",
       "      <td>194.756336</td>\n",
       "    </tr>\n",
       "    <tr>\n",
       "      <th>16235</th>\n",
       "      <td>-8.480660e-42</td>\n",
       "      <td>-42.482344</td>\n",
       "    </tr>\n",
       "    <tr>\n",
       "      <th>6065</th>\n",
       "      <td>1.000000e+02</td>\n",
       "      <td>123.015511</td>\n",
       "    </tr>\n",
       "  </tbody>\n",
       "</table>\n",
       "<p>9504 rows × 2 columns</p>\n",
       "</div>"
      ],
      "text/plain": [
       "             Actual   Predicted\n",
       "5771   1.000000e+02  154.192348\n",
       "27401 -8.259910e-35  144.720789\n",
       "22628  2.732510e+01  142.603113\n",
       "12451  1.000000e+02  166.985024\n",
       "13111  8.743740e+01  286.096164\n",
       "...             ...         ...\n",
       "35221  2.681660e+02  333.322171\n",
       "13384  9.986740e+01   25.413664\n",
       "9154   1.324940e+02  194.756336\n",
       "16235 -8.480660e-42  -42.482344\n",
       "6065   1.000000e+02  123.015511\n",
       "\n",
       "[9504 rows x 2 columns]"
      ]
     },
     "execution_count": 24,
     "metadata": {},
     "output_type": "execute_result"
    }
   ],
   "source": [
    "df=pd.DataFrame({'Actual':test_y, 'Predicted':y_pred})\n",
    "df"
   ]
  },
  {
   "cell_type": "code",
   "execution_count": 25,
   "metadata": {},
   "outputs": [
    {
     "data": {
      "image/png": "[encoded data removed]",
      "text/plain": [
       "<Figure size 360x504 with 1 Axes>"
      ]
     },
     "metadata": {
      "needs_background": "light"
     },
     "output_type": "display_data"
    }
   ],
   "source": [
    "import seaborn as sns\n",
    "plt.figure(figsize=(5, 7))\n",
    "\n",
    "\n",
    "ax = sns.distplot(y, hist=False, color=\"r\", label=\"Actual Value\")\n",
    "sns.distplot(y_pred, hist=False, color=\"b\", label=\"Fitted Values\" , ax=ax)\n",
    "\n",
    "\n",
    "plt.title('Actual vs Fitted Values for Temperature (Linear Regression)')\n",
    "\n",
    "\n",
    "plt.show()\n",
    "plt.close()"
   ]
  },
  {
   "cell_type": "code",
   "execution_count": null,
   "metadata": {},
   "outputs": [],
   "source": []
  },
  {
   "cell_type": "markdown",
   "metadata": {},
   "source": [
    "## Scaling the Variables"
   ]
  },
  {
   "cell_type": "code",
   "execution_count": 27,
   "metadata": {},
   "outputs": [],
   "source": [
    "from sklearn.preprocessing import StandardScaler"
   ]
  },
  {
   "cell_type": "code",
   "execution_count": 29,
   "metadata": {},
   "outputs": [
    {
     "data": {
      "text/html": [
       "<div>\n",
       "<style scoped>\n",
       "    .dataframe tbody tr th:only-of-type {\n",
       "        vertical-align: middle;\n",
       "    }\n",
       "\n",
       "    .dataframe tbody tr th {\n",
       "        vertical-align: top;\n",
       "    }\n",
       "\n",
       "    .dataframe thead th {\n",
       "        text-align: right;\n",
       "    }\n",
       "</style>\n",
       "<table border=\"1\" class=\"dataframe\">\n",
       "  <thead>\n",
       "    <tr style=\"text-align: right;\">\n",
       "      <th></th>\n",
       "      <th>Time (s)</th>\n",
       "      <th>Material</th>\n",
       "      <th>Alpha</th>\n",
       "      <th>Part</th>\n",
       "      <th>Node</th>\n",
       "      <th>X</th>\n",
       "      <th>Y</th>\n",
       "      <th>Z</th>\n",
       "      <th>Temperature</th>\n",
       "      <th>T_left</th>\n",
       "      <th>...</th>\n",
       "      <th>z/L</th>\n",
       "      <th>Tdiff_0.0005 (s)</th>\n",
       "      <th>scaled_T_left</th>\n",
       "      <th>scaled_T_right</th>\n",
       "      <th>scaled_T_bottom</th>\n",
       "      <th>scaled_T_top</th>\n",
       "      <th>scaled_time</th>\n",
       "      <th>scaled_location_x</th>\n",
       "      <th>scaled_location_y</th>\n",
       "      <th>scaled_alpha</th>\n",
       "    </tr>\n",
       "  </thead>\n",
       "  <tbody>\n",
       "    <tr>\n",
       "      <th>0</th>\n",
       "      <td>0.01</td>\n",
       "      <td>Copper</td>\n",
       "      <td>0.000111</td>\n",
       "      <td>PART-1-1</td>\n",
       "      <td>1</td>\n",
       "      <td>0.000</td>\n",
       "      <td>0.00</td>\n",
       "      <td>0</td>\n",
       "      <td>3.000000e+02</td>\n",
       "      <td>300</td>\n",
       "      <td>...</td>\n",
       "      <td>0</td>\n",
       "      <td>1.25</td>\n",
       "      <td>-1.341641</td>\n",
       "      <td>0.000000</td>\n",
       "      <td>-1.0</td>\n",
       "      <td>1.0</td>\n",
       "      <td>-0.382321</td>\n",
       "      <td>-1.46385</td>\n",
       "      <td>-1.46385</td>\n",
       "      <td>1.469745</td>\n",
       "    </tr>\n",
       "    <tr>\n",
       "      <th>1</th>\n",
       "      <td>0.01</td>\n",
       "      <td>Copper</td>\n",
       "      <td>0.000111</td>\n",
       "      <td>PART-1-1</td>\n",
       "      <td>9</td>\n",
       "      <td>0.004</td>\n",
       "      <td>0.00</td>\n",
       "      <td>0</td>\n",
       "      <td>3.000000e+02</td>\n",
       "      <td>300</td>\n",
       "      <td>...</td>\n",
       "      <td>0</td>\n",
       "      <td>1.25</td>\n",
       "      <td>-1.341641</td>\n",
       "      <td>0.000000</td>\n",
       "      <td>-1.0</td>\n",
       "      <td>1.0</td>\n",
       "      <td>-0.382321</td>\n",
       "      <td>-0.87831</td>\n",
       "      <td>-1.46385</td>\n",
       "      <td>1.469745</td>\n",
       "    </tr>\n",
       "    <tr>\n",
       "      <th>2</th>\n",
       "      <td>0.01</td>\n",
       "      <td>Copper</td>\n",
       "      <td>0.000111</td>\n",
       "      <td>PART-1-1</td>\n",
       "      <td>17</td>\n",
       "      <td>0.008</td>\n",
       "      <td>0.00</td>\n",
       "      <td>0</td>\n",
       "      <td>3.000000e+02</td>\n",
       "      <td>300</td>\n",
       "      <td>...</td>\n",
       "      <td>0</td>\n",
       "      <td>1.25</td>\n",
       "      <td>-1.341641</td>\n",
       "      <td>0.000000</td>\n",
       "      <td>-1.0</td>\n",
       "      <td>1.0</td>\n",
       "      <td>-0.382321</td>\n",
       "      <td>-0.29277</td>\n",
       "      <td>-1.46385</td>\n",
       "      <td>1.469745</td>\n",
       "    </tr>\n",
       "    <tr>\n",
       "      <th>3</th>\n",
       "      <td>0.01</td>\n",
       "      <td>Copper</td>\n",
       "      <td>0.000111</td>\n",
       "      <td>PART-1-1</td>\n",
       "      <td>25</td>\n",
       "      <td>0.012</td>\n",
       "      <td>0.00</td>\n",
       "      <td>0</td>\n",
       "      <td>3.000000e+02</td>\n",
       "      <td>300</td>\n",
       "      <td>...</td>\n",
       "      <td>0</td>\n",
       "      <td>1.25</td>\n",
       "      <td>-1.341641</td>\n",
       "      <td>0.000000</td>\n",
       "      <td>-1.0</td>\n",
       "      <td>1.0</td>\n",
       "      <td>-0.382321</td>\n",
       "      <td>0.29277</td>\n",
       "      <td>-1.46385</td>\n",
       "      <td>1.469745</td>\n",
       "    </tr>\n",
       "    <tr>\n",
       "      <th>4</th>\n",
       "      <td>0.01</td>\n",
       "      <td>Copper</td>\n",
       "      <td>0.000111</td>\n",
       "      <td>PART-1-1</td>\n",
       "      <td>33</td>\n",
       "      <td>0.016</td>\n",
       "      <td>0.00</td>\n",
       "      <td>0</td>\n",
       "      <td>3.000000e+02</td>\n",
       "      <td>300</td>\n",
       "      <td>...</td>\n",
       "      <td>0</td>\n",
       "      <td>1.25</td>\n",
       "      <td>-1.341641</td>\n",
       "      <td>0.000000</td>\n",
       "      <td>-1.0</td>\n",
       "      <td>1.0</td>\n",
       "      <td>-0.382321</td>\n",
       "      <td>0.87831</td>\n",
       "      <td>-1.46385</td>\n",
       "      <td>1.469745</td>\n",
       "    </tr>\n",
       "    <tr>\n",
       "      <th>...</th>\n",
       "      <td>...</td>\n",
       "      <td>...</td>\n",
       "      <td>...</td>\n",
       "      <td>...</td>\n",
       "      <td>...</td>\n",
       "      <td>...</td>\n",
       "      <td>...</td>\n",
       "      <td>...</td>\n",
       "      <td>...</td>\n",
       "      <td>...</td>\n",
       "      <td>...</td>\n",
       "      <td>...</td>\n",
       "      <td>...</td>\n",
       "      <td>...</td>\n",
       "      <td>...</td>\n",
       "      <td>...</td>\n",
       "      <td>...</td>\n",
       "      <td>...</td>\n",
       "      <td>...</td>\n",
       "      <td>...</td>\n",
       "      <td>...</td>\n",
       "    </tr>\n",
       "    <tr>\n",
       "      <th>38011</th>\n",
       "      <td>20.00</td>\n",
       "      <td>Steel 310</td>\n",
       "      <td>0.000004</td>\n",
       "      <td>PART-1-1</td>\n",
       "      <td>829</td>\n",
       "      <td>0.004</td>\n",
       "      <td>0.01</td>\n",
       "      <td>0</td>\n",
       "      <td>3.127410e-34</td>\n",
       "      <td>600</td>\n",
       "      <td>...</td>\n",
       "      <td>0</td>\n",
       "      <td>NaN</td>\n",
       "      <td>1.341641</td>\n",
       "      <td>-1.224745</td>\n",
       "      <td>1.0</td>\n",
       "      <td>-1.0</td>\n",
       "      <td>5.589522</td>\n",
       "      <td>-0.87831</td>\n",
       "      <td>1.46385</td>\n",
       "      <td>-1.135726</td>\n",
       "    </tr>\n",
       "    <tr>\n",
       "      <th>38012</th>\n",
       "      <td>20.00</td>\n",
       "      <td>Steel 310</td>\n",
       "      <td>0.000004</td>\n",
       "      <td>PART-1-1</td>\n",
       "      <td>837</td>\n",
       "      <td>0.008</td>\n",
       "      <td>0.01</td>\n",
       "      <td>0</td>\n",
       "      <td>1.775720e-34</td>\n",
       "      <td>600</td>\n",
       "      <td>...</td>\n",
       "      <td>0</td>\n",
       "      <td>NaN</td>\n",
       "      <td>1.341641</td>\n",
       "      <td>-1.224745</td>\n",
       "      <td>1.0</td>\n",
       "      <td>-1.0</td>\n",
       "      <td>5.589522</td>\n",
       "      <td>-0.29277</td>\n",
       "      <td>1.46385</td>\n",
       "      <td>-1.135726</td>\n",
       "    </tr>\n",
       "    <tr>\n",
       "      <th>38013</th>\n",
       "      <td>20.00</td>\n",
       "      <td>Steel 310</td>\n",
       "      <td>0.000004</td>\n",
       "      <td>PART-1-1</td>\n",
       "      <td>845</td>\n",
       "      <td>0.012</td>\n",
       "      <td>0.01</td>\n",
       "      <td>0</td>\n",
       "      <td>1.301770e-34</td>\n",
       "      <td>600</td>\n",
       "      <td>...</td>\n",
       "      <td>0</td>\n",
       "      <td>NaN</td>\n",
       "      <td>1.341641</td>\n",
       "      <td>-1.224745</td>\n",
       "      <td>1.0</td>\n",
       "      <td>-1.0</td>\n",
       "      <td>5.589522</td>\n",
       "      <td>0.29277</td>\n",
       "      <td>1.46385</td>\n",
       "      <td>-1.135726</td>\n",
       "    </tr>\n",
       "    <tr>\n",
       "      <th>38014</th>\n",
       "      <td>20.00</td>\n",
       "      <td>Steel 310</td>\n",
       "      <td>0.000004</td>\n",
       "      <td>PART-1-1</td>\n",
       "      <td>853</td>\n",
       "      <td>0.016</td>\n",
       "      <td>0.01</td>\n",
       "      <td>0</td>\n",
       "      <td>7.662100e-35</td>\n",
       "      <td>600</td>\n",
       "      <td>...</td>\n",
       "      <td>0</td>\n",
       "      <td>NaN</td>\n",
       "      <td>1.341641</td>\n",
       "      <td>-1.224745</td>\n",
       "      <td>1.0</td>\n",
       "      <td>-1.0</td>\n",
       "      <td>5.589522</td>\n",
       "      <td>0.87831</td>\n",
       "      <td>1.46385</td>\n",
       "      <td>-1.135726</td>\n",
       "    </tr>\n",
       "    <tr>\n",
       "      <th>38015</th>\n",
       "      <td>20.00</td>\n",
       "      <td>Steel 310</td>\n",
       "      <td>0.000004</td>\n",
       "      <td>PART-1-1</td>\n",
       "      <td>861</td>\n",
       "      <td>0.020</td>\n",
       "      <td>0.01</td>\n",
       "      <td>0</td>\n",
       "      <td>-5.605190e-44</td>\n",
       "      <td>600</td>\n",
       "      <td>...</td>\n",
       "      <td>0</td>\n",
       "      <td>NaN</td>\n",
       "      <td>1.341641</td>\n",
       "      <td>-1.224745</td>\n",
       "      <td>1.0</td>\n",
       "      <td>-1.0</td>\n",
       "      <td>5.589522</td>\n",
       "      <td>1.46385</td>\n",
       "      <td>1.46385</td>\n",
       "      <td>-1.135726</td>\n",
       "    </tr>\n",
       "  </tbody>\n",
       "</table>\n",
       "<p>38016 rows × 25 columns</p>\n",
       "</div>"
      ],
      "text/plain": [
       "       Time (s)   Material     Alpha      Part  Node      X     Y  Z  \\\n",
       "0          0.01     Copper  0.000111  PART-1-1     1  0.000  0.00  0   \n",
       "1          0.01     Copper  0.000111  PART-1-1     9  0.004  0.00  0   \n",
       "2          0.01     Copper  0.000111  PART-1-1    17  0.008  0.00  0   \n",
       "3          0.01     Copper  0.000111  PART-1-1    25  0.012  0.00  0   \n",
       "4          0.01     Copper  0.000111  PART-1-1    33  0.016  0.00  0   \n",
       "...         ...        ...       ...       ...   ...    ...   ... ..   \n",
       "38011     20.00  Steel 310  0.000004  PART-1-1   829  0.004  0.01  0   \n",
       "38012     20.00  Steel 310  0.000004  PART-1-1   837  0.008  0.01  0   \n",
       "38013     20.00  Steel 310  0.000004  PART-1-1   845  0.012  0.01  0   \n",
       "38014     20.00  Steel 310  0.000004  PART-1-1   853  0.016  0.01  0   \n",
       "38015     20.00  Steel 310  0.000004  PART-1-1   861  0.020  0.01  0   \n",
       "\n",
       "        Temperature  T_left  ...  z/L  Tdiff_0.0005 (s)  scaled_T_left  \\\n",
       "0      3.000000e+02     300  ...    0              1.25      -1.341641   \n",
       "1      3.000000e+02     300  ...    0              1.25      -1.341641   \n",
       "2      3.000000e+02     300  ...    0              1.25      -1.341641   \n",
       "3      3.000000e+02     300  ...    0              1.25      -1.341641   \n",
       "4      3.000000e+02     300  ...    0              1.25      -1.341641   \n",
       "...             ...     ...  ...  ...               ...            ...   \n",
       "38011  3.127410e-34     600  ...    0               NaN       1.341641   \n",
       "38012  1.775720e-34     600  ...    0               NaN       1.341641   \n",
       "38013  1.301770e-34     600  ...    0               NaN       1.341641   \n",
       "38014  7.662100e-35     600  ...    0               NaN       1.341641   \n",
       "38015 -5.605190e-44     600  ...    0               NaN       1.341641   \n",
       "\n",
       "       scaled_T_right  scaled_T_bottom  scaled_T_top  scaled_time  \\\n",
       "0            0.000000             -1.0           1.0    -0.382321   \n",
       "1            0.000000             -1.0           1.0    -0.382321   \n",
       "2            0.000000             -1.0           1.0    -0.382321   \n",
       "3            0.000000             -1.0           1.0    -0.382321   \n",
       "4            0.000000             -1.0           1.0    -0.382321   \n",
       "...               ...              ...           ...          ...   \n",
       "38011       -1.224745              1.0          -1.0     5.589522   \n",
       "38012       -1.224745              1.0          -1.0     5.589522   \n",
       "38013       -1.224745              1.0          -1.0     5.589522   \n",
       "38014       -1.224745              1.0          -1.0     5.589522   \n",
       "38015       -1.224745              1.0          -1.0     5.589522   \n",
       "\n",
       "       scaled_location_x  scaled_location_y  scaled_alpha  \n",
       "0               -1.46385           -1.46385      1.469745  \n",
       "1               -0.87831           -1.46385      1.469745  \n",
       "2               -0.29277           -1.46385      1.469745  \n",
       "3                0.29277           -1.46385      1.469745  \n",
       "4                0.87831           -1.46385      1.469745  \n",
       "...                  ...                ...           ...  \n",
       "38011           -0.87831            1.46385     -1.135726  \n",
       "38012           -0.29277            1.46385     -1.135726  \n",
       "38013            0.29277            1.46385     -1.135726  \n",
       "38014            0.87831            1.46385     -1.135726  \n",
       "38015            1.46385            1.46385     -1.135726  \n",
       "\n",
       "[38016 rows x 25 columns]"
      ]
     },
     "execution_count": 29,
     "metadata": {},
     "output_type": "execute_result"
    }
   ],
   "source": [
    "data['scaled_T_left']   = StandardScaler().fit_transform(data[['T_left']])\n",
    "data['scaled_T_right']  = StandardScaler().fit_transform(data[['T_right']])\n",
    "data['scaled_T_bottom'] = StandardScaler().fit_transform(data[['T_bottom']])\n",
    "data['scaled_T_top']    = StandardScaler().fit_transform(data[['T_top']])\n",
    "data['scaled_time']     = StandardScaler().fit_transform(data[['Time (s)']])\n",
    "data['scaled_location_x'] = StandardScaler().fit_transform(data[['x/L']])\n",
    "data['scaled_location_y'] = StandardScaler().fit_transform(data[['y/L']])\n",
    "data['scaled_alpha']    = StandardScaler().fit_transform(data[['Alpha']])\n",
    "data"
   ]
  },
  {
   "cell_type": "code",
   "execution_count": 31,
   "metadata": {},
   "outputs": [
    {
     "data": {
      "text/plain": [
       "((38016, 8), (38016,))"
      ]
     },
     "execution_count": 31,
     "metadata": {},
     "output_type": "execute_result"
    }
   ],
   "source": [
    "#seperating independent and dependent variables, Temperature is the only dependent variable in our case\n",
    "x = data[['scaled_T_left', 'scaled_T_right', 'scaled_T_bottom', 'scaled_T_top', 'scaled_time', 'scaled_location_x', 'scaled_location_y', 'scaled_alpha']]\n",
    "y = data['Temperature']\n",
    "x.shape, y.shape"
   ]
  },
  {
   "cell_type": "code",
   "execution_count": 34,
   "metadata": {},
   "outputs": [
    {
     "name": "stdout",
     "output_type": "stream",
     "text": [
      "Mean MAE: 84.922\n"
     ]
    }
   ],
   "source": [
    "\n",
    "# example of normalizing input and output variables for regression.\n",
    "from numpy import mean\n",
    "from numpy import absolute\n",
    "from numpy import loadtxt\n",
    "from sklearn.model_selection import cross_val_score\n",
    "from sklearn.model_selection import KFold\n",
    "from sklearn.pipeline import Pipeline\n",
    "from sklearn.linear_model import HuberRegressor\n",
    "from sklearn.preprocessing import MinMaxScaler\n",
    "from sklearn.compose import TransformedTargetRegressor\n",
    "# load data\n",
    "#dataset = loadtxt('housing.csv', delimiter=\",\")\n",
    "# split into inputs and outputs\n",
    "#X, y = dataset[:, :-1], dataset[:, -1]\n",
    "x = data[['scaled_T_left', 'scaled_T_right','scaled_T_bottom', 'scaled_T_top', 'scaled_time', 'scaled_location_x', 'scaled_location_y', 'scaled_alpha']]\n",
    "y = data['Temperature']\n",
    "# prepare the model with input scaling\n",
    "pipeline = Pipeline(steps=[('normalize', StandardScaler()), ('model', LR())])\n",
    "# prepare the model with target scaling\n",
    "model = TransformedTargetRegressor(regressor=pipeline, transformer=StandardScaler())\n",
    "# evaluate model\n",
    "cv = KFold(n_splits=10, shuffle=True, random_state=1)\n",
    "scores = cross_val_score(model, x, y, scoring='neg_mean_absolute_error', cv=cv, n_jobs=-1)\n",
    "# convert scores to positive\n",
    "scores = absolute(scores)\n",
    "# summarize the result\n",
    "s_mean = mean(scores)\n",
    "print('Mean MAE: %.3f' % (s_mean))"
   ]
  },
  {
   "cell_type": "code",
   "execution_count": 35,
   "metadata": {},
   "outputs": [],
   "source": [
    "import time\n",
    "#storing starting time\n",
    "begin = time.time()\n",
    "\n",
    "#Creating Training-Testing data from the new data frame\n",
    "\n",
    "from sklearn.model_selection import train_test_split\n",
    "train_x,test_x,train_y,test_y = train_test_split(x, y , test_size = 0.25, random_state = 100)"
   ]
  },
  {
   "cell_type": "code",
   "execution_count": 36,
   "metadata": {},
   "outputs": [],
   "source": [
    "#Importing Linear Regression and metric mean absolute error\n",
    "\n",
    "from sklearn.linear_model import LinearRegression as LR\n",
    "from sklearn.metrics import mean_absolute_error as mae"
   ]
  },
  {
   "cell_type": "code",
   "execution_count": 37,
   "metadata": {},
   "outputs": [
    {
     "name": "stdout",
     "output_type": "stream",
     "text": [
      "178.11400524500147\n"
     ]
    }
   ],
   "source": [
    "# Creating instance of Linear Regresssion\n",
    "lr = LR()\n",
    "\n",
    "# Fitting the model\n",
    "lr.fit(train_x, train_y)\n",
    "\n",
    "print(lr.intercept_) #Intercept of the Multiple Linear Regression"
   ]
  },
  {
   "cell_type": "code",
   "execution_count": 38,
   "metadata": {},
   "outputs": [
    {
     "name": "stdout",
     "output_type": "stream",
     "text": [
      "Total runtime of Random Forest program (in seconds) is 5.188650369644165\n"
     ]
    }
   ],
   "source": [
    "#storing end time\n",
    "time.sleep(1)\n",
    "end = time.time()\n",
    "\n",
    "#Calculating runtime\n",
    "print (\"Total runtime of Random Forest program (in seconds) is\", end - begin)"
   ]
  },
  {
   "cell_type": "code",
   "execution_count": 39,
   "metadata": {},
   "outputs": [
    {
     "data": {
      "image/png": "[encoded data removed]",
      "text/plain": [
       "<Figure size 1080x1080 with 2 Axes>"
      ]
     },
     "metadata": {
      "needs_background": "light"
     },
     "output_type": "display_data"
    }
   ],
   "source": [
    "plt.figure(figsize = (15, 15))\n",
    "sns.heatmap(train_x.corr(), annot = True, cmap=\"RdYlGn\", vmin = -1, vmax = 1)\n",
    "plt.show() "
   ]
  },
  {
   "cell_type": "code",
   "execution_count": 40,
   "metadata": {},
   "outputs": [
    {
     "name": "stdout",
     "output_type": "stream",
     "text": [
      "Training Mean Absolute Error 85.53069685939157\n"
     ]
    }
   ],
   "source": [
    "# Predicting over the Train Set and calculating error\n",
    "train_predict = lr.predict(train_x)\n",
    "k = mae(train_predict, train_y)\n",
    "print('Training Mean Absolute Error', k )"
   ]
  },
  {
   "cell_type": "code",
   "execution_count": 41,
   "metadata": {},
   "outputs": [
    {
     "name": "stdout",
     "output_type": "stream",
     "text": [
      "Test Mean Absolute Error     83.48081914188829\n"
     ]
    }
   ],
   "source": [
    "# Predicting over the Test Set and calculating error\n",
    "test_predict = lr.predict(test_x)\n",
    "k = mae(test_predict, test_y)\n",
    "print('Test Mean Absolute Error    ', k )"
   ]
  },
  {
   "cell_type": "code",
   "execution_count": 42,
   "metadata": {},
   "outputs": [
    {
     "data": {
      "text/plain": [
       "array([ 15.38165362,  12.86888876,  -0.67334219,   0.67334219,\n",
       "        15.64932187, -73.49597161, -76.18155126,  11.35640278])"
      ]
     },
     "execution_count": 42,
     "metadata": {},
     "output_type": "execute_result"
    }
   ],
   "source": [
    "lr.coef_"
   ]
  },
  {
   "cell_type": "code",
   "execution_count": 44,
   "metadata": {},
   "outputs": [
    {
     "name": "stdout",
     "output_type": "stream",
     "text": [
      "           Variables  Coefficient\n",
      "0      scaled_T_left    15.381654\n",
      "1     scaled_T_right    12.868889\n",
      "2    scaled_T_bottom    -0.673342\n",
      "3       scaled_T_top     0.673342\n",
      "4        scaled_time    15.649322\n",
      "5  scaled_location_x   -73.495972\n",
      "6  scaled_location_y   -76.181551\n",
      "7       scaled_Alpha    11.356403\n"
     ]
    }
   ],
   "source": [
    "#Regression Coefficients of the variables in order \n",
    "Coeff_data = {'Variables': ['scaled_T_left', 'scaled_T_right', 'scaled_T_bottom', 'scaled_T_top', 'scaled_time', 'scaled_location_x', 'scaled_location_y', 'scaled_Alpha'], 'Coefficient': lr.coef_}\n",
    "df = pd.DataFrame(Coeff_data, columns = ['Variables', 'Coefficient'])\n",
    "\n",
    "print(df)"
   ]
  },
  {
   "cell_type": "code",
   "execution_count": 45,
   "metadata": {},
   "outputs": [
    {
     "data": {
      "text/plain": [
       "Text(0.5, 1.0, 'Coefficient plot')"
      ]
     },
     "execution_count": 45,
     "metadata": {},
     "output_type": "execute_result"
    },
    {
     "data": {
      "image/png": "[encoded data removed]",
      "text/plain": [
       "<Figure size 960x720 with 1 Axes>"
      ]
     },
     "metadata": {},
     "output_type": "display_data"
    }
   ],
   "source": [
    "plt.figure(figsize=(8, 6), dpi=120, facecolor='w', edgecolor='b')\n",
    "x = range(len(train_x.columns))\n",
    "y = lr.coef_\n",
    "plt.bar( x, y )\n",
    "plt.xlabel( \"Variables\")\n",
    "plt.ylabel('Coefficients')\n",
    "plt.title('Coefficient plot')"
   ]
  },
  {
   "cell_type": "code",
   "execution_count": 46,
   "metadata": {},
   "outputs": [
    {
     "data": {
      "text/plain": [
       "49.269012785796136"
      ]
     },
     "execution_count": 46,
     "metadata": {},
     "output_type": "execute_result"
    }
   ],
   "source": [
    "lr.score(train_x, train_y)*100"
   ]
  },
  {
   "cell_type": "code",
   "execution_count": 47,
   "metadata": {},
   "outputs": [
    {
     "data": {
      "text/plain": [
       "48.894955891039"
      ]
     },
     "execution_count": 47,
     "metadata": {},
     "output_type": "execute_result"
    }
   ],
   "source": [
    "lr.score(test_x,test_y)*100"
   ]
  },
  {
   "cell_type": "code",
   "execution_count": 48,
   "metadata": {},
   "outputs": [
    {
     "name": "stdout",
     "output_type": "stream",
     "text": [
      "[154.1923479  144.72078927 142.60311272 ... 194.75633582 -42.4823442\n",
      " 123.01551111]\n"
     ]
    }
   ],
   "source": [
    "y_pred = lr.predict(test_x)\n",
    "print (y_pred)"
   ]
  },
  {
   "cell_type": "code",
   "execution_count": 49,
   "metadata": {},
   "outputs": [
    {
     "data": {
      "text/html": [
       "<div>\n",
       "<style scoped>\n",
       "    .dataframe tbody tr th:only-of-type {\n",
       "        vertical-align: middle;\n",
       "    }\n",
       "\n",
       "    .dataframe tbody tr th {\n",
       "        vertical-align: top;\n",
       "    }\n",
       "\n",
       "    .dataframe thead th {\n",
       "        text-align: right;\n",
       "    }\n",
       "</style>\n",
       "<table border=\"1\" class=\"dataframe\">\n",
       "  <thead>\n",
       "    <tr style=\"text-align: right;\">\n",
       "      <th></th>\n",
       "      <th>Actual</th>\n",
       "      <th>Predicted</th>\n",
       "    </tr>\n",
       "  </thead>\n",
       "  <tbody>\n",
       "    <tr>\n",
       "      <th>5771</th>\n",
       "      <td>1.000000e+02</td>\n",
       "      <td>154.192348</td>\n",
       "    </tr>\n",
       "    <tr>\n",
       "      <th>27401</th>\n",
       "      <td>-8.259910e-35</td>\n",
       "      <td>144.720789</td>\n",
       "    </tr>\n",
       "    <tr>\n",
       "      <th>22628</th>\n",
       "      <td>2.732510e+01</td>\n",
       "      <td>142.603113</td>\n",
       "    </tr>\n",
       "    <tr>\n",
       "      <th>12451</th>\n",
       "      <td>1.000000e+02</td>\n",
       "      <td>166.985024</td>\n",
       "    </tr>\n",
       "    <tr>\n",
       "      <th>13111</th>\n",
       "      <td>8.743740e+01</td>\n",
       "      <td>286.096164</td>\n",
       "    </tr>\n",
       "    <tr>\n",
       "      <th>...</th>\n",
       "      <td>...</td>\n",
       "      <td>...</td>\n",
       "    </tr>\n",
       "    <tr>\n",
       "      <th>35221</th>\n",
       "      <td>2.681660e+02</td>\n",
       "      <td>333.322171</td>\n",
       "    </tr>\n",
       "    <tr>\n",
       "      <th>13384</th>\n",
       "      <td>9.986740e+01</td>\n",
       "      <td>25.413664</td>\n",
       "    </tr>\n",
       "    <tr>\n",
       "      <th>9154</th>\n",
       "      <td>1.324940e+02</td>\n",
       "      <td>194.756336</td>\n",
       "    </tr>\n",
       "    <tr>\n",
       "      <th>16235</th>\n",
       "      <td>-8.480660e-42</td>\n",
       "      <td>-42.482344</td>\n",
       "    </tr>\n",
       "    <tr>\n",
       "      <th>6065</th>\n",
       "      <td>1.000000e+02</td>\n",
       "      <td>123.015511</td>\n",
       "    </tr>\n",
       "  </tbody>\n",
       "</table>\n",
       "<p>9504 rows × 2 columns</p>\n",
       "</div>"
      ],
      "text/plain": [
       "             Actual   Predicted\n",
       "5771   1.000000e+02  154.192348\n",
       "27401 -8.259910e-35  144.720789\n",
       "22628  2.732510e+01  142.603113\n",
       "12451  1.000000e+02  166.985024\n",
       "13111  8.743740e+01  286.096164\n",
       "...             ...         ...\n",
       "35221  2.681660e+02  333.322171\n",
       "13384  9.986740e+01   25.413664\n",
       "9154   1.324940e+02  194.756336\n",
       "16235 -8.480660e-42  -42.482344\n",
       "6065   1.000000e+02  123.015511\n",
       "\n",
       "[9504 rows x 2 columns]"
      ]
     },
     "execution_count": 49,
     "metadata": {},
     "output_type": "execute_result"
    }
   ],
   "source": [
    "df=pd.DataFrame({'Actual':test_y, 'Predicted':y_pred})\n",
    "df"
   ]
  },
  {
   "cell_type": "code",
   "execution_count": 50,
   "metadata": {},
   "outputs": [
    {
     "data": {
      "image/png": "[encoded data removed]",
      "text/plain": [
       "<Figure size 360x504 with 1 Axes>"
      ]
     },
     "metadata": {
      "needs_background": "light"
     },
     "output_type": "display_data"
    }
   ],
   "source": [
    "import seaborn as sns\n",
    "plt.figure(figsize=(5, 7))\n",
    "\n",
    "\n",
    "ax = sns.distplot(y, hist=False, color=\"r\", label=\"Actual Value\")\n",
    "sns.distplot(y_pred, hist=False, color=\"b\", label=\"Fitted Values\" , ax=ax)\n",
    "\n",
    "\n",
    "plt.title('Actual vs Fitted Values for Temperature (Linear Regression)')\n",
    "\n",
    "\n",
    "plt.show()\n",
    "plt.close()"
   ]
  },
  {
   "cell_type": "markdown",
   "metadata": {},
   "source": [
    "## Using Analytical Solution to create features"
   ]
  },
  {
   "cell_type": "code",
   "execution_count": 51,
   "metadata": {},
   "outputs": [],
   "source": [
    "#Taking Negative Natural Logarithm values of Diffusion Coefficient\n",
    "#data['negLog_DC'] = np.log(data['Diffusion Coeff'])*(-1)\n",
    "\n",
    "data['exp t1'] = np.exp((-10)* data['Time (s)'])\n",
    "\n",
    "data['exp t2'] = np.exp((-40)* data['Time (s)'])\n",
    "\n",
    "data['exp t3'] = np.exp((-90)* data['Time (s)'])\n",
    "\n",
    "data['sq_x/L'] = np.square(data['x/L'])\n",
    "\n",
    "data['sq_y/L'] = np.square(data['y/L'])\n",
    "\n",
    "data['Tl-Tr'] = data['T_left'] - data['T_right']\n",
    "data['Tb-Tt'] = data['T_bottom'] - data['T_top']\n",
    "\n",
    "data['Tl+Tr'] = data['T_left'] + data['T_right']\n",
    "data['Tb+Tt'] = data['T_bottom'] + data['T_top']\n",
    "\n",
    "data['(sq_x/L)-x/L'] = data['sq_x/L'] - data['x/L']\n",
    "data['(sq_y/L)-y/L'] = data['sq_y/L'] - data['y/L']\n",
    "\n",
    "data['deltaT_x/L'] = data['Tl-Tr'] * data['x/L']\n",
    "\n",
    "data['Timespacex1'] = data['(sq_x/L)-x/L'] * data['Tl+Tr'] * data['exp t1'] \n",
    "data['Timespacey1'] = data['(sq_y/L)-y/L'] * data['Tb+Tt'] * data['exp t1'] \n",
    "\n",
    "data['Timespacex2'] = data['(sq_x/L)-x/L'] * data['Tl-Tr'] * data['exp t2']\n",
    "data['Timespacey2'] = data['(sq_y/L)-y/L'] * data['Tb-Tt'] * data['exp t2'] \n",
    "\n",
    "data['Timespacex3'] = data['(sq_x/L)-x/L'] * data['Tl+Tr'] * data['exp t3']\n",
    "data['Timespacey3'] = data['(sq_y/L)-y/L'] * data['Tb+Tt'] * data['exp t3'] \n",
    "#data['DCParameter'] = (data['Diffusion Coeff'] * data['Time(s)'] * data['Tl-Tr']) / (data['sq_x/L'])\n"
   ]
  },
  {
   "cell_type": "code",
   "execution_count": 52,
   "metadata": {},
   "outputs": [
    {
     "data": {
      "text/html": [
       "<div>\n",
       "<style scoped>\n",
       "    .dataframe tbody tr th:only-of-type {\n",
       "        vertical-align: middle;\n",
       "    }\n",
       "\n",
       "    .dataframe tbody tr th {\n",
       "        vertical-align: top;\n",
       "    }\n",
       "\n",
       "    .dataframe thead th {\n",
       "        text-align: right;\n",
       "    }\n",
       "</style>\n",
       "<table border=\"1\" class=\"dataframe\">\n",
       "  <thead>\n",
       "    <tr style=\"text-align: right;\">\n",
       "      <th></th>\n",
       "      <th>Time (s)</th>\n",
       "      <th>Material</th>\n",
       "      <th>Alpha</th>\n",
       "      <th>Part</th>\n",
       "      <th>Node</th>\n",
       "      <th>X</th>\n",
       "      <th>Y</th>\n",
       "      <th>Z</th>\n",
       "      <th>Temperature</th>\n",
       "      <th>T_left</th>\n",
       "      <th>...</th>\n",
       "      <th>Tb+Tt</th>\n",
       "      <th>(sq_x/L)-x/L</th>\n",
       "      <th>(sq_y/L)-y/L</th>\n",
       "      <th>deltaT_x/L</th>\n",
       "      <th>Timespacex1</th>\n",
       "      <th>Timespacey1</th>\n",
       "      <th>Timespacex2</th>\n",
       "      <th>Timespacey2</th>\n",
       "      <th>Timespacex3</th>\n",
       "      <th>Timespacey3</th>\n",
       "    </tr>\n",
       "  </thead>\n",
       "  <tbody>\n",
       "    <tr>\n",
       "      <th>38011</th>\n",
       "      <td>20.0</td>\n",
       "      <td>Steel 310</td>\n",
       "      <td>0.000004</td>\n",
       "      <td>PART-1-1</td>\n",
       "      <td>829</td>\n",
       "      <td>0.004</td>\n",
       "      <td>0.01</td>\n",
       "      <td>0</td>\n",
       "      <td>3.127410e-34</td>\n",
       "      <td>600</td>\n",
       "      <td>...</td>\n",
       "      <td>400</td>\n",
       "      <td>-0.16</td>\n",
       "      <td>0.0</td>\n",
       "      <td>120.0</td>\n",
       "      <td>-1.328541e-85</td>\n",
       "      <td>0.0</td>\n",
       "      <td>-0.0</td>\n",
       "      <td>0.0</td>\n",
       "      <td>-0.0</td>\n",
       "      <td>0.0</td>\n",
       "    </tr>\n",
       "    <tr>\n",
       "      <th>38012</th>\n",
       "      <td>20.0</td>\n",
       "      <td>Steel 310</td>\n",
       "      <td>0.000004</td>\n",
       "      <td>PART-1-1</td>\n",
       "      <td>837</td>\n",
       "      <td>0.008</td>\n",
       "      <td>0.01</td>\n",
       "      <td>0</td>\n",
       "      <td>1.775720e-34</td>\n",
       "      <td>600</td>\n",
       "      <td>...</td>\n",
       "      <td>400</td>\n",
       "      <td>-0.24</td>\n",
       "      <td>0.0</td>\n",
       "      <td>240.0</td>\n",
       "      <td>-1.992811e-85</td>\n",
       "      <td>0.0</td>\n",
       "      <td>-0.0</td>\n",
       "      <td>0.0</td>\n",
       "      <td>-0.0</td>\n",
       "      <td>0.0</td>\n",
       "    </tr>\n",
       "    <tr>\n",
       "      <th>38013</th>\n",
       "      <td>20.0</td>\n",
       "      <td>Steel 310</td>\n",
       "      <td>0.000004</td>\n",
       "      <td>PART-1-1</td>\n",
       "      <td>845</td>\n",
       "      <td>0.012</td>\n",
       "      <td>0.01</td>\n",
       "      <td>0</td>\n",
       "      <td>1.301770e-34</td>\n",
       "      <td>600</td>\n",
       "      <td>...</td>\n",
       "      <td>400</td>\n",
       "      <td>-0.24</td>\n",
       "      <td>0.0</td>\n",
       "      <td>360.0</td>\n",
       "      <td>-1.992811e-85</td>\n",
       "      <td>0.0</td>\n",
       "      <td>-0.0</td>\n",
       "      <td>0.0</td>\n",
       "      <td>-0.0</td>\n",
       "      <td>0.0</td>\n",
       "    </tr>\n",
       "    <tr>\n",
       "      <th>38014</th>\n",
       "      <td>20.0</td>\n",
       "      <td>Steel 310</td>\n",
       "      <td>0.000004</td>\n",
       "      <td>PART-1-1</td>\n",
       "      <td>853</td>\n",
       "      <td>0.016</td>\n",
       "      <td>0.01</td>\n",
       "      <td>0</td>\n",
       "      <td>7.662100e-35</td>\n",
       "      <td>600</td>\n",
       "      <td>...</td>\n",
       "      <td>400</td>\n",
       "      <td>-0.16</td>\n",
       "      <td>0.0</td>\n",
       "      <td>480.0</td>\n",
       "      <td>-1.328541e-85</td>\n",
       "      <td>0.0</td>\n",
       "      <td>-0.0</td>\n",
       "      <td>0.0</td>\n",
       "      <td>-0.0</td>\n",
       "      <td>0.0</td>\n",
       "    </tr>\n",
       "    <tr>\n",
       "      <th>38015</th>\n",
       "      <td>20.0</td>\n",
       "      <td>Steel 310</td>\n",
       "      <td>0.000004</td>\n",
       "      <td>PART-1-1</td>\n",
       "      <td>861</td>\n",
       "      <td>0.020</td>\n",
       "      <td>0.01</td>\n",
       "      <td>0</td>\n",
       "      <td>-5.605190e-44</td>\n",
       "      <td>600</td>\n",
       "      <td>...</td>\n",
       "      <td>400</td>\n",
       "      <td>0.00</td>\n",
       "      <td>0.0</td>\n",
       "      <td>600.0</td>\n",
       "      <td>0.000000e+00</td>\n",
       "      <td>0.0</td>\n",
       "      <td>0.0</td>\n",
       "      <td>0.0</td>\n",
       "      <td>0.0</td>\n",
       "      <td>0.0</td>\n",
       "    </tr>\n",
       "  </tbody>\n",
       "</table>\n",
       "<p>5 rows × 43 columns</p>\n",
       "</div>"
      ],
      "text/plain": [
       "       Time (s)   Material     Alpha      Part  Node      X     Y  Z  \\\n",
       "38011      20.0  Steel 310  0.000004  PART-1-1   829  0.004  0.01  0   \n",
       "38012      20.0  Steel 310  0.000004  PART-1-1   837  0.008  0.01  0   \n",
       "38013      20.0  Steel 310  0.000004  PART-1-1   845  0.012  0.01  0   \n",
       "38014      20.0  Steel 310  0.000004  PART-1-1   853  0.016  0.01  0   \n",
       "38015      20.0  Steel 310  0.000004  PART-1-1   861  0.020  0.01  0   \n",
       "\n",
       "        Temperature  T_left  ...  Tb+Tt  (sq_x/L)-x/L  (sq_y/L)-y/L  \\\n",
       "38011  3.127410e-34     600  ...    400         -0.16           0.0   \n",
       "38012  1.775720e-34     600  ...    400         -0.24           0.0   \n",
       "38013  1.301770e-34     600  ...    400         -0.24           0.0   \n",
       "38014  7.662100e-35     600  ...    400         -0.16           0.0   \n",
       "38015 -5.605190e-44     600  ...    400          0.00           0.0   \n",
       "\n",
       "       deltaT_x/L   Timespacex1  Timespacey1  Timespacex2  Timespacey2  \\\n",
       "38011       120.0 -1.328541e-85          0.0         -0.0          0.0   \n",
       "38012       240.0 -1.992811e-85          0.0         -0.0          0.0   \n",
       "38013       360.0 -1.992811e-85          0.0         -0.0          0.0   \n",
       "38014       480.0 -1.328541e-85          0.0         -0.0          0.0   \n",
       "38015       600.0  0.000000e+00          0.0          0.0          0.0   \n",
       "\n",
       "       Timespacex3  Timespacey3  \n",
       "38011         -0.0          0.0  \n",
       "38012         -0.0          0.0  \n",
       "38013         -0.0          0.0  \n",
       "38014         -0.0          0.0  \n",
       "38015          0.0          0.0  \n",
       "\n",
       "[5 rows x 43 columns]"
      ]
     },
     "execution_count": 52,
     "metadata": {},
     "output_type": "execute_result"
    }
   ],
   "source": [
    "data.tail()"
   ]
  },
  {
   "cell_type": "code",
   "execution_count": 53,
   "metadata": {},
   "outputs": [
    {
     "data": {
      "image/png": "[encoded data removed]",
      "text/plain": [
       "<Figure size 432x288 with 1 Axes>"
      ]
     },
     "metadata": {
      "needs_background": "light"
     },
     "output_type": "display_data"
    }
   ],
   "source": [
    "plt.scatter(data['x/L'], data['Temperature'], color='green')\n",
    "plt.title('Temperature Vs Location_X', fontsize=14)\n",
    "plt.xlabel('Location_X', fontsize=14)\n",
    "plt.ylabel('Temperature', fontsize=14)\n",
    "plt.grid(True)\n",
    "plt.show()"
   ]
  },
  {
   "cell_type": "code",
   "execution_count": 54,
   "metadata": {},
   "outputs": [
    {
     "data": {
      "image/png": "[encoded data removed]",
      "text/plain": [
       "<Figure size 432x288 with 1 Axes>"
      ]
     },
     "metadata": {
      "needs_background": "light"
     },
     "output_type": "display_data"
    }
   ],
   "source": [
    "plt.scatter(data['Timespacex1'], data['Temperature'], color='green')\n",
    "plt.title('Temperature Vs Timespace X Parameter 1', fontsize=14)\n",
    "plt.xlabel('Timespacex1', fontsize=14)\n",
    "plt.ylabel('Temperature', fontsize=14)\n",
    "plt.grid(True)\n",
    "plt.show()"
   ]
  },
  {
   "cell_type": "code",
   "execution_count": 55,
   "metadata": {},
   "outputs": [
    {
     "data": {
      "image/png": "[encoded data removed]",
      "text/plain": [
       "<Figure size 432x288 with 1 Axes>"
      ]
     },
     "metadata": {
      "needs_background": "light"
     },
     "output_type": "display_data"
    }
   ],
   "source": [
    "plt.scatter(data['Timespacex2'], data['Temperature'], color='green')\n",
    "plt.title('Temperature Vs Timespace X Parameter 2', fontsize=14)\n",
    "plt.xlabel('Timespacex2', fontsize=14)\n",
    "plt.ylabel('Temperature', fontsize=14)\n",
    "plt.grid(True)\n",
    "plt.show()"
   ]
  },
  {
   "cell_type": "code",
   "execution_count": 56,
   "metadata": {},
   "outputs": [
    {
     "data": {
      "image/png": "[encoded data removed]",
      "text/plain": [
       "<Figure size 432x288 with 1 Axes>"
      ]
     },
     "metadata": {
      "needs_background": "light"
     },
     "output_type": "display_data"
    }
   ],
   "source": [
    "plt.scatter(data['Timespacex3'], data['Temperature'], color='green')\n",
    "plt.title('Temperature Vs Timespace X Parameter 3', fontsize=14)\n",
    "plt.xlabel('Timespacex3', fontsize=14)\n",
    "plt.ylabel('Temperature', fontsize=14)\n",
    "plt.grid(True)\n",
    "plt.show()"
   ]
  },
  {
   "cell_type": "code",
   "execution_count": 57,
   "metadata": {},
   "outputs": [
    {
     "data": {
      "text/plain": [
       "((38016, 9), (38016,))"
      ]
     },
     "execution_count": 57,
     "metadata": {},
     "output_type": "execute_result"
    }
   ],
   "source": [
    "#seperating independent and dependent variables, Temperature is the only dependent variable in our case\n",
    "x = data.loc[:, ['T_left', 'T_bottom', 'Alpha','Timespacex1', 'Timespacey1', 'Timespacex2', 'Timespacey2', 'Timespacex3', 'Timespacey3']]\n",
    "y = data['Temperature']\n",
    "x.shape, y.shape"
   ]
  }
 ],
 "metadata": {
  "kernelspec": {
   "display_name": "Python 3",
   "language": "python",
   "name": "python3"
  },
  "language_info": {
   "codemirror_mode": {
    "name": "ipython",
    "version": 3
   },
   "file_extension": ".py",
   "mimetype": "text/x-python",
   "name": "python",
   "nbconvert_exporter": "python",
   "pygments_lexer": "ipython3",
   "version": "3.7.6"
  }
 },
 "nbformat": 4,
 "nbformat_minor": 4
}
